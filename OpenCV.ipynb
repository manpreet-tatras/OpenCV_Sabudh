{
 "cells": [
  {
   "cell_type": "markdown",
   "id": "f43d093e",
   "metadata": {},
   "source": [
    "# Introduction to OpenCV"
   ]
  },
  {
   "cell_type": "markdown",
   "id": "e2b1f3f6",
   "metadata": {},
   "source": [
    "OpenCV was started at Intel in 1999 by Gary Bradsky, and the first release came out in 2000. In 2005, OpenCV was used on **Stanley**, the vehicle that won the 2005 **DARPA(Defence Advanced Research Project Agency)** Grand Challenge. Later, its active development continued under the support of Willow Garage with Gary Bradsky leading the project. OpenCV now supports a multitude of algorithms related to Computer Vision and Machine Learning and is expanding day by day.\n",
    "\n",
    "OpenCV supports a wide variety of programming languages such as C++, Python, Java, etc., and is available on different platforms including Windows, Linux, OS X, Android, and iOS. Interfaces for high-speed GPU operations based on CUDA and OpenCL are also under active development.\n",
    "\n",
    "OpenCV-Python is the Python API for OpenCV, combining the best qualities of the OpenCV C++ API and the Python language.\n",
    "\n"
   ]
  },
  {
   "cell_type": "markdown",
   "id": "25fdb645",
   "metadata": {},
   "source": [
    "# OpenCV-Python"
   ]
  },
  {
   "cell_type": "markdown",
   "id": "aecd10bd",
   "metadata": {},
   "source": [
    "OpenCV-Python is a library of Python bindings designed to solve computer vision problems.\n",
    "\n",
    "Python is a general purpose programming language that became very popular very quickly, mainly because of its simplicity and code readability. It enables the programmer to express ideas in fewer lines of code without reducing readability.\n",
    "\n",
    "Compared to languages like C/C++, Python is slower. Python can be easily extended with C/C++, which allows us to write computationally intensive code in C/C++ and create Python wrappers that can be used as Python modules. This gives us two advantages: first, the code is as fast as the original C/C++ code (since it is the actual C++ code working in background) and second, it easier to code in Python than C/C++. OpenCV-Python is a Python wrapper for the original OpenCV C++ implementation.\n",
    "\n",
    "OpenCV-Python makes use of Numpy, which is a highly optimized library for numerical operations with a MATLAB-style syntax. All the OpenCV array structures are converted to and from Numpy arrays. This also makes it easier to integrate with other libraries that use Numpy such as SciPy and Matplotlib."
   ]
  },
  {
   "cell_type": "markdown",
   "id": "dd085b18",
   "metadata": {},
   "source": [
    "# Use Cases of OpenCV\n",
    "**Street view image stitching**: Street view is a virtual representation of our surroundings consisting of millions of images and its content  comes from google and contributors. Image stitching or photo stitching is the process of combining multiple photographic images with overlapping fields of view to produce a segmented panorama or high-resolution image. With the help of openCV can be easily done image stitching by extracting the key points and sift descriptors for both the image and matches the features which are more similar.\n",
    "\n",
    "**Automated inspection and surveillance**: Automated visual inspection or surveillance is the system where a camera autonomously scans the product under test, monitors them and identifies the defective product. OpenCv is mainly used for image processing and real time operation hence it would play a vital role to build the system.\n",
    "\n",
    "**Medical image analysis**: Medical images play a vital role in identifying the disease and detecting whether the organs are functioning properly. Image processing related to  medical images is an active research field where various techniques are used to diagnose and to facilitate diagnosis and various image processing techniques can be used. OpenCV is mainly used for image processing and real time operation. It's free of charge and provides lots of image processing functions.\n",
    "\n",
    "**Video/image search and retrieval**: An image search and retrieval system is a computer system used for browsing, searching and retrieving images from a large database of digital images. Upload the image of an object  on a website search engine instead of the traditional way of typing and image retrieval system identifies the object within the picture and gets the result.\n",
    "\n",
    "**Robot and driver-less car navigation and control**: The navigated Robot and driver less car uses the visual information from the camera for scanning the environment in which he is situated. There are various image processing algorithms that can obtain the most visual information to navigate the robot on the basis of them. Functions of OpenCV (Open Source Computer Vision Library) are used for the image processing.\n",
    "\n",
    "**Movies - 3D structure from motion**: 3D structure from motion is a photogrammetric  range imaging technique for estimating 3-dimensional structures from 2-dimensional image sequences that may be coupled with local motion signals. It is studied in the fields of computer vision  and visual perception using OpenCV (Open Source Computer Vision Library).\n",
    "\n",
    "**Interactive art installations**: Interactive art is a dynamic form of art that responds to its audience or environment. It allows different types of navigation, assembly, or participation in the work of art. Interactive art which goes well beyond purely psychological activity. Artistic installations are generally computerized and use sensors, which measure events such as temperature, movement, proximity, meteorological phenomena that the author has programmed in order to obtain particular responses or reactions."
   ]
  },
  {
   "cell_type": "markdown",
   "id": "ef270aeb",
   "metadata": {},
   "source": [
    "## Use Of OpenCV\n",
    "\n",
    "Read and Write Images.\n",
    "\n",
    "Detection of faces and its features.\n",
    "\n",
    "Detection of shapes like Circle, rectangle etc in an image. E.g Detection of a coin in images.\n",
    "\n",
    "Text recognition in images. e.g Reading Number Plates/\n",
    "\n",
    "Modifying image quality and colors e.g Instagram, CamScanner.\n",
    "\n",
    "Developing Augmented reality apps."
   ]
  },
  {
   "cell_type": "markdown",
   "id": "f3bda1e8",
   "metadata": {},
   "source": [
    "# Other Python OpenCV Computer Vision Tools/Libraries\n",
    "\n",
    "SciPy and NumPy\n",
    "\n",
    "Pillow/PIL, etc\n",
    "\n",
    "AForge.NET/Accord.NET\n",
    "\n",
    "TensorFlow\n",
    "\n",
    "CUDA\n",
    "\n",
    "SimpleCV\n",
    "\n",
    "GPUImage\n",
    "\n",
    "Google Cloud and Mobile Vision APIs\n",
    "\n",
    "Microsoft Azure Computer Vision API"
   ]
  },
  {
   "cell_type": "markdown",
   "id": "726ba70a",
   "metadata": {},
   "source": [
    "# OpenCV-Python Tutorials"
   ]
  },
  {
   "cell_type": "markdown",
   "id": "4daaa16b",
   "metadata": {},
   "source": [
    "OpenCV introduces a new set of tutorials which will guide you through various functions available in OpenCV-Python. This guide is mainly focused on OpenCV 3.x version (although most of the tutorials will also work with OpenCV 2.x).\n",
    "\n",
    "Prior knowledge of Python and Numpy is recommended as they won't be covered in this guide. Proficiency with Numpy is a must in order to write optimized code using OpenCV-Python."
   ]
  },
  {
   "cell_type": "markdown",
   "id": "b1cc59ea",
   "metadata": {},
   "source": [
    "Installation for Windows: https://docs.opencv.org/4.5.2/d5/de5/tutorial_py_setup_in_windows.html\n",
    "\n",
    "Installation for Ubuntu: https://docs.opencv.org/4.5.2/d2/de6/tutorial_py_setup_in_ubuntu.html"
   ]
  },
  {
   "cell_type": "markdown",
   "id": "d1d19dc0",
   "metadata": {},
   "source": [
    "# Getting Started with Images"
   ]
  },
  {
   "cell_type": "markdown",
   "id": "7ec8a382",
   "metadata": {},
   "source": [
    "In this tutorial you will learn how to:\n",
    "\n",
    "Read an image from file (using cv::imread)\n",
    "\n",
    "Display an image in an OpenCV window (using cv::imshow)\n",
    "\n",
    "Write an image to a file (using cv::imwrite)"
   ]
  },
  {
   "cell_type": "code",
   "execution_count": 2,
   "id": "3c116370",
   "metadata": {},
   "outputs": [],
   "source": [
    "import cv2 as cv\n",
    "import sys\n",
    "img = cv.imread(cv.samples.findFile(\"./Landscape-Color.jpg\"))\n",
    "if img is None:\n",
    "    sys.exit(\"Could not read the image.\")\n",
    "# cv.imshow(\"Display window\", img)\n",
    "gray = cv.cvtColor(img, cv.COLOR_BGR2GRAY)\n",
    "cv.imshow(\"Display window\", gray)\n",
    "k = cv.waitKey(0)\n",
    "if k == ord(\"q\"):\n",
    "    cv.imwrite(\"starry_night.png\", img)\n",
    "# #     exit()\n",
    "# cv.destroyAllWindows()"
   ]
  },
  {
   "cell_type": "code",
   "execution_count": 7,
   "id": "3b78b660",
   "metadata": {},
   "outputs": [
    {
     "data": {
      "text/plain": [
       "(664, 1601, 3)"
      ]
     },
     "execution_count": 7,
     "metadata": {},
     "output_type": "execute_result"
    }
   ],
   "source": [
    "img.shape"
   ]
  },
  {
   "cell_type": "code",
   "execution_count": 8,
   "id": "e1f0efbb",
   "metadata": {},
   "outputs": [],
   "source": [
    "gray = cv.cvtColor(img, cv.COLOR_BGR2GRAY)"
   ]
  },
  {
   "cell_type": "code",
   "execution_count": 9,
   "id": "52c89c4c",
   "metadata": {},
   "outputs": [
    {
     "data": {
      "text/plain": [
       "(664, 1601)"
      ]
     },
     "execution_count": 9,
     "metadata": {},
     "output_type": "execute_result"
    }
   ],
   "source": [
    "gray.shape"
   ]
  },
  {
   "cell_type": "code",
   "execution_count": 11,
   "id": "d2b192d0",
   "metadata": {},
   "outputs": [],
   "source": [
    "import matplotlib.pyplot as plt\n",
    "%matplotlib inline"
   ]
  },
  {
   "cell_type": "code",
   "execution_count": 17,
   "id": "4afaab6b",
   "metadata": {},
   "outputs": [],
   "source": [
    "cv.imshow(\"Window\",gray)"
   ]
  },
  {
   "cell_type": "code",
   "execution_count": 15,
   "id": "5e732eec",
   "metadata": {},
   "outputs": [
    {
     "data": {
      "text/plain": [
       "<matplotlib.image.AxesImage at 0x7fa75c1bd430>"
      ]
     },
     "execution_count": 15,
     "metadata": {},
     "output_type": "execute_result"
    },
    {
     "data": {
      "image/png": "[encoded data removed]",
      "text/plain": [
       "<Figure size 432x288 with 1 Axes>"
      ]
     },
     "metadata": {
      "needs_background": "light"
     },
     "output_type": "display_data"
    }
   ],
   "source": [
    "plt.imshow(gray)"
   ]
  },
  {
   "cell_type": "markdown",
   "id": "7999aed0",
   "metadata": {},
   "source": [
    "# Getting Started with Videos"
   ]
  },
  {
   "cell_type": "code",
   "execution_count": null,
   "id": "17df3c1b",
   "metadata": {},
   "outputs": [],
   "source": []
  },
  {
   "cell_type": "markdown",
   "id": "38cfa4f8",
   "metadata": {},
   "source": [
    "In this tutorial you will learn how to:\n",
    "    \n",
    "Read video, display video, and save video.\n",
    "\n",
    "Capture video from a camera and display it.\n",
    "\n",
    "You will learn these functions : cv.VideoCapture(), cv.VideoWriter()"
   ]
  },
  {
   "cell_type": "markdown",
   "id": "0df97071",
   "metadata": {},
   "source": [
    "Often, we have to capture live stream with a camera. OpenCV provides a very simple interface to do this. Let's capture a video from the camera (I am using the built-in webcam on my laptop), convert it into grayscale video and display it. Just a simple task to get started.\n",
    "\n",
    "To capture a video, you need to create a VideoCapture object. Its argument can be either the device index or the name of a video file. A device index is just the number to specify which camera. Normally one camera will be connected (as in my case). So I simply pass 0 (or -1). You can select the second camera by passing 1 and so on. After that, you can capture frame-by-frame. But at the end, don't forget to release the capture"
   ]
  },
  {
   "cell_type": "code",
   "execution_count": 4,
   "id": "72dbc16d",
   "metadata": {},
   "outputs": [],
   "source": [
    "import numpy as np\n",
    "import cv2 as cv\n",
    "cap = cv.VideoCapture(0)\n",
    "if not cap.isOpened():\n",
    "    print(\"Cannot open camera\")\n",
    "    exit()\n",
    "while True:\n",
    "    # Capture frame-by-frame\n",
    "    ret, frame = cap.read()\n",
    "    # if frame is read correctly ret is True\n",
    "    if not ret:\n",
    "        print(\"Can't receive frame (stream end?). Exiting ...\")\n",
    "        break\n",
    "    # Our operations on the frame come here\n",
    "    gray = cv.cvtColor(frame, cv.COLOR_BGR2GRAY)\n",
    "    # Display the resulting frame\n",
    "    cv.imshow('frame', gray)\n",
    "    if cv.waitKey(1) == ord('q'):\n",
    "        break\n",
    "# When everything done, release the capture\n",
    "cap.release()\n",
    "cv.destroyAllWindows()"
   ]
  },
  {
   "cell_type": "markdown",
   "id": "7b46a114",
   "metadata": {},
   "source": [
    "# Playing Video from file"
   ]
  },
  {
   "cell_type": "markdown",
   "id": "3d22d568",
   "metadata": {},
   "source": [
    "Playing video from file is the same as capturing it from camera, just change the camera index to a video file name. Also while displaying the frame, use appropriate time for cv.waitKey(). If it is too less, video will be very fast and if it is too high, video will be slow (Well, that is how you can display videos in slow motion). 25 milliseconds will be OK in normal cases."
   ]
  },
  {
   "cell_type": "code",
   "execution_count": 6,
   "id": "59f64bcb",
   "metadata": {},
   "outputs": [],
   "source": [
    "import numpy as np\n",
    "import cv2 as cv\n",
    "cap = cv.VideoCapture('/home/abc/1.mkv')\n",
    "while cap.isOpened():\n",
    "    ret, frame = cap.read()\n",
    "    # if frame is read correctly ret is True\n",
    "    if not ret:\n",
    "        print(\"Can't receive frame (stream end?). Exiting ...\")\n",
    "        break\n",
    "    gray = cv.cvtColor(frame, cv.COLOR_BGR2GRAY)\n",
    "    cv.imshow('frame', gray)\n",
    "    if cv.waitKey(1) == ord('q'):\n",
    "        break\n",
    "cap.release()\n",
    "cv.destroyAllWindows()"
   ]
  },
  {
   "cell_type": "markdown",
   "id": "734d6e34",
   "metadata": {},
   "source": [
    "# Saving a Video"
   ]
  },
  {
   "cell_type": "markdown",
   "id": "507a6f55",
   "metadata": {},
   "source": [
    "So we capture a video and process it frame-by-frame, and we want to save that video. For images, it is very simple: just use cv.imwrite(). Here, a little more work is required.\n",
    "\n",
    "This time we create a VideoWriter object. We should specify the output file name (eg: output.avi). Then we should specify the FourCC code (details in next paragraph). Then number of frames per second (fps) and frame size should be passed. And the last one is the isColor flag. If it is True, the encoder expect color frame, otherwise it works with grayscale frame.\n",
    "\n",
    "FourCC is a 4-byte code used to specify the video codec. The list of available codes can be found in fourcc.org. It is platform dependent. The following codecs work fine for me.\n",
    "\n",
    "In Fedora: DIVX, XVID, MJPG, X264, WMV1, WMV2. (XVID is more preferable. MJPG results in high size video. X264 gives very small size video)\n",
    "\n",
    "In Windows: DIVX (More to be tested and added)\n",
    "\n",
    "In OSX: MJPG (.mp4), DIVX (.avi), X264 (.mkv).\n",
    "\n",
    "FourCC code is passed as `cv.VideoWriter_fourcc('M','J','P','G')or cv.VideoWriter_fourcc(*'MJPG')` for MJPG.\n",
    "\n"
   ]
  },
  {
   "cell_type": "code",
   "execution_count": 8,
   "id": "d3ab434c",
   "metadata": {},
   "outputs": [],
   "source": [
    "import numpy as np\n",
    "import cv2 as cv\n",
    "cap = cv.VideoCapture('/home/abc/1.mkv')\n",
    "# Define the codec and create VideoWriter object\n",
    "fourcc = cv.VideoWriter_fourcc(*'XVID')\n",
    "out = cv.VideoWriter('output.avi', fourcc, 60.0, (640,  480))\n",
    "while cap.isOpened():\n",
    "    ret, frame = cap.read()\n",
    "    if not ret:\n",
    "        print(\"Can't receive frame (stream end?). Exiting ...\")\n",
    "        break\n",
    "    frame = cv.flip(frame, 0)\n",
    "    # write the flipped frame\n",
    "    out.write(frame)\n",
    "    cv.imshow('frame', frame)\n",
    "    if cv.waitKey(1) == ord('q'):\n",
    "        break\n",
    "# Release everything if job is finished\n",
    "cap.release()\n",
    "out.release()\n",
    "cv.destroyAllWindows()"
   ]
  },
  {
   "cell_type": "markdown",
   "id": "80abbb94",
   "metadata": {},
   "source": [
    "# Drawing Functions in OpenCV"
   ]
  },
  {
   "cell_type": "markdown",
   "id": "88bf367c",
   "metadata": {},
   "source": [
    "Learn to draw different geometric shapes with OpenCV\n",
    "\n",
    "You will learn these functions : cv.line(), cv.circle() , cv.rectangle(), cv.ellipse(), cv.putText() etc."
   ]
  },
  {
   "cell_type": "markdown",
   "id": "00c18fa1",
   "metadata": {},
   "source": [
    "In all the above functions, you will see some common arguments as given below:\n",
    "\n",
    "img : The image where you want to draw the shapes\n",
    "color : Color of the shape. for BGR, pass it as a tuple, eg: (255,0,0) for blue. For grayscale, just pass the scalar value.\n",
    "\n",
    "thickness : Thickness of the line or circle etc. If -1 is passed for closed figures like circles, it will fill the shape. default thickness = 1\n",
    "\n",
    "lineType : Type of line, whether 8-connected, anti-aliased line etc. By default, it is 8-connected. cv.LINE_AA gives anti-aliased line which looks great for curves."
   ]
  },
  {
   "cell_type": "markdown",
   "id": "41469f5c",
   "metadata": {},
   "source": [
    "## Drawing Line\n"
   ]
  },
  {
   "cell_type": "code",
   "execution_count": 84,
   "id": "f4d3f41a",
   "metadata": {},
   "outputs": [
    {
     "data": {
      "text/plain": [
       "array([[[255,   0,   0],\n",
       "        [255,   0,   0],\n",
       "        [255,   0,   0],\n",
       "        ...,\n",
       "        [  0,   0,   0],\n",
       "        [  0,   0,   0],\n",
       "        [  0,   0,   0]],\n",
       "\n",
       "       [[255,   0,   0],\n",
       "        [255,   0,   0],\n",
       "        [255,   0,   0],\n",
       "        ...,\n",
       "        [  0,   0,   0],\n",
       "        [  0,   0,   0],\n",
       "        [  0,   0,   0]],\n",
       "\n",
       "       [[255,   0,   0],\n",
       "        [255,   0,   0],\n",
       "        [255,   0,   0],\n",
       "        ...,\n",
       "        [  0,   0,   0],\n",
       "        [  0,   0,   0],\n",
       "        [  0,   0,   0]],\n",
       "\n",
       "       ...,\n",
       "\n",
       "       [[  0,   0,   0],\n",
       "        [  0,   0,   0],\n",
       "        [  0,   0,   0],\n",
       "        ...,\n",
       "        [255,   0,   0],\n",
       "        [255,   0,   0],\n",
       "        [255,   0,   0]],\n",
       "\n",
       "       [[  0,   0,   0],\n",
       "        [  0,   0,   0],\n",
       "        [  0,   0,   0],\n",
       "        ...,\n",
       "        [255,   0,   0],\n",
       "        [255,   0,   0],\n",
       "        [255,   0,   0]],\n",
       "\n",
       "       [[  0,   0,   0],\n",
       "        [  0,   0,   0],\n",
       "        [  0,   0,   0],\n",
       "        ...,\n",
       "        [255,   0,   0],\n",
       "        [255,   0,   0],\n",
       "        [255,   0,   0]]], dtype=uint8)"
      ]
     },
     "execution_count": 84,
     "metadata": {},
     "output_type": "execute_result"
    }
   ],
   "source": [
    "import numpy as np\n",
    "import cv2 as cv\n",
    "# Create a black image\n",
    "img = np.zeros((512,512,3), np.uint8)\n",
    "\n",
    "# Draw a diagonal blue line with thickness of 5 px\n",
    "cv.line(img,(0,0),(511,511),(255,0,0),5)"
   ]
  },
  {
   "cell_type": "code",
   "execution_count": 85,
   "id": "3377a06e",
   "metadata": {},
   "outputs": [
    {
     "data": {
      "text/plain": [
       "array([[255,   0,   0],\n",
       "       [255,   0,   0],\n",
       "       [255,   0,   0],\n",
       "       ...,\n",
       "       [  0,   0,   0],\n",
       "       [  0,   0,   0],\n",
       "       [  0,   0,   0]], dtype=uint8)"
      ]
     },
     "execution_count": 85,
     "metadata": {},
     "output_type": "execute_result"
    }
   ],
   "source": [
    "img[0]"
   ]
  },
  {
   "cell_type": "code",
   "execution_count": 86,
   "id": "cea7f1f3",
   "metadata": {},
   "outputs": [
    {
     "data": {
      "text/plain": [
       "<matplotlib.image.AxesImage at 0x7fbc76709550>"
      ]
     },
     "execution_count": 86,
     "metadata": {},
     "output_type": "execute_result"
    },
    {
     "data": {
      "image/png": "[encoded data removed]",
      "text/plain": [
       "<Figure size 432x288 with 1 Axes>"
      ]
     },
     "metadata": {
      "needs_background": "light"
     },
     "output_type": "display_data"
    }
   ],
   "source": [
    "import matplotlib.pyplot as plt\n",
    "%matplotlib inline\n",
    "plt.imshow(img)"
   ]
  },
  {
   "cell_type": "markdown",
   "id": "5ec2332e",
   "metadata": {},
   "source": [
    "## Drawing a Rectangle "
   ]
  },
  {
   "cell_type": "code",
   "execution_count": 87,
   "id": "8a8378c9",
   "metadata": {},
   "outputs": [
    {
     "data": {
      "text/plain": [
       "array([[[255,   0,   0],\n",
       "        [255,   0,   0],\n",
       "        [255,   0,   0],\n",
       "        ...,\n",
       "        [  0, 255,   0],\n",
       "        [  0, 255,   0],\n",
       "        [  0, 255,   0]],\n",
       "\n",
       "       [[255,   0,   0],\n",
       "        [255,   0,   0],\n",
       "        [255,   0,   0],\n",
       "        ...,\n",
       "        [  0, 255,   0],\n",
       "        [  0, 255,   0],\n",
       "        [  0, 255,   0]],\n",
       "\n",
       "       [[255,   0,   0],\n",
       "        [255,   0,   0],\n",
       "        [255,   0,   0],\n",
       "        ...,\n",
       "        [  0, 255,   0],\n",
       "        [  0, 255,   0],\n",
       "        [  0, 255,   0]],\n",
       "\n",
       "       ...,\n",
       "\n",
       "       [[  0,   0,   0],\n",
       "        [  0,   0,   0],\n",
       "        [  0,   0,   0],\n",
       "        ...,\n",
       "        [255,   0,   0],\n",
       "        [255,   0,   0],\n",
       "        [255,   0,   0]],\n",
       "\n",
       "       [[  0,   0,   0],\n",
       "        [  0,   0,   0],\n",
       "        [  0,   0,   0],\n",
       "        ...,\n",
       "        [255,   0,   0],\n",
       "        [255,   0,   0],\n",
       "        [255,   0,   0]],\n",
       "\n",
       "       [[  0,   0,   0],\n",
       "        [  0,   0,   0],\n",
       "        [  0,   0,   0],\n",
       "        ...,\n",
       "        [255,   0,   0],\n",
       "        [255,   0,   0],\n",
       "        [255,   0,   0]]], dtype=uint8)"
      ]
     },
     "execution_count": 87,
     "metadata": {},
     "output_type": "execute_result"
    }
   ],
   "source": [
    "cv.rectangle(img,(384,0),(510,128),(0,255,0),3)"
   ]
  },
  {
   "cell_type": "code",
   "execution_count": 88,
   "id": "0c3f1516",
   "metadata": {},
   "outputs": [
    {
     "data": {
      "text/plain": [
       "<matplotlib.image.AxesImage at 0x7fbc778a1e80>"
      ]
     },
     "execution_count": 88,
     "metadata": {},
     "output_type": "execute_result"
    },
    {
     "data": {
      "image/png": "[encoded data removed]",
      "text/plain": [
       "<Figure size 432x288 with 1 Axes>"
      ]
     },
     "metadata": {
      "needs_background": "light"
     },
     "output_type": "display_data"
    }
   ],
   "source": [
    "plt.imshow(img)"
   ]
  },
  {
   "cell_type": "markdown",
   "id": "5060c5c0",
   "metadata": {},
   "source": [
    "## Drawing a circle "
   ]
  },
  {
   "cell_type": "code",
   "execution_count": 89,
   "id": "bbfd33cc",
   "metadata": {},
   "outputs": [
    {
     "data": {
      "text/plain": [
       "array([[[255,   0,   0],\n",
       "        [255,   0,   0],\n",
       "        [255,   0,   0],\n",
       "        ...,\n",
       "        [  0, 255,   0],\n",
       "        [  0, 255,   0],\n",
       "        [  0, 255,   0]],\n",
       "\n",
       "       [[255,   0,   0],\n",
       "        [255,   0,   0],\n",
       "        [255,   0,   0],\n",
       "        ...,\n",
       "        [  0, 255,   0],\n",
       "        [  0, 255,   0],\n",
       "        [  0, 255,   0]],\n",
       "\n",
       "       [[255,   0,   0],\n",
       "        [255,   0,   0],\n",
       "        [255,   0,   0],\n",
       "        ...,\n",
       "        [  0, 255,   0],\n",
       "        [  0, 255,   0],\n",
       "        [  0, 255,   0]],\n",
       "\n",
       "       ...,\n",
       "\n",
       "       [[  0,   0,   0],\n",
       "        [  0,   0,   0],\n",
       "        [  0,   0,   0],\n",
       "        ...,\n",
       "        [255,   0,   0],\n",
       "        [255,   0,   0],\n",
       "        [255,   0,   0]],\n",
       "\n",
       "       [[  0,   0,   0],\n",
       "        [  0,   0,   0],\n",
       "        [  0,   0,   0],\n",
       "        ...,\n",
       "        [255,   0,   0],\n",
       "        [255,   0,   0],\n",
       "        [255,   0,   0]],\n",
       "\n",
       "       [[  0,   0,   0],\n",
       "        [  0,   0,   0],\n",
       "        [  0,   0,   0],\n",
       "        ...,\n",
       "        [255,   0,   0],\n",
       "        [255,   0,   0],\n",
       "        [255,   0,   0]]], dtype=uint8)"
      ]
     },
     "execution_count": 89,
     "metadata": {},
     "output_type": "execute_result"
    }
   ],
   "source": [
    "cv.circle(img,(447,63), 63, (0,0,255), -1)"
   ]
  },
  {
   "cell_type": "code",
   "execution_count": 90,
   "id": "a7304df0",
   "metadata": {},
   "outputs": [
    {
     "data": {
      "text/plain": [
       "<matplotlib.image.AxesImage at 0x7fbc769078e0>"
      ]
     },
     "execution_count": 90,
     "metadata": {},
     "output_type": "execute_result"
    },
    {
     "data": {
      "image/png": "[encoded data removed]",
      "text/plain": [
       "<Figure size 432x288 with 1 Axes>"
      ]
     },
     "metadata": {
      "needs_background": "light"
     },
     "output_type": "display_data"
    }
   ],
   "source": [
    "plt.imshow(img)"
   ]
  },
  {
   "cell_type": "markdown",
   "id": "09a812cd",
   "metadata": {},
   "source": [
    "## Drawing Ellipse "
   ]
  },
  {
   "cell_type": "code",
   "execution_count": 99,
   "id": "6e24a98b",
   "metadata": {},
   "outputs": [
    {
     "data": {
      "text/plain": [
       "array([[[255,   0,   0],\n",
       "        [255,   0,   0],\n",
       "        [255,   0,   0],\n",
       "        ...,\n",
       "        [  0, 255,   0],\n",
       "        [  0, 255,   0],\n",
       "        [  0, 255,   0]],\n",
       "\n",
       "       [[255,   0,   0],\n",
       "        [255,   0,   0],\n",
       "        [255,   0,   0],\n",
       "        ...,\n",
       "        [  0, 255,   0],\n",
       "        [  0, 255,   0],\n",
       "        [  0, 255,   0]],\n",
       "\n",
       "       [[255,   0,   0],\n",
       "        [255,   0,   0],\n",
       "        [255,   0,   0],\n",
       "        ...,\n",
       "        [  0, 255,   0],\n",
       "        [  0, 255,   0],\n",
       "        [  0, 255,   0]],\n",
       "\n",
       "       ...,\n",
       "\n",
       "       [[  0,   0,   0],\n",
       "        [  0,   0,   0],\n",
       "        [  0,   0,   0],\n",
       "        ...,\n",
       "        [255,   0,   0],\n",
       "        [255,   0,   0],\n",
       "        [255,   0,   0]],\n",
       "\n",
       "       [[  0,   0,   0],\n",
       "        [  0,   0,   0],\n",
       "        [  0,   0,   0],\n",
       "        ...,\n",
       "        [255,   0,   0],\n",
       "        [255,   0,   0],\n",
       "        [255,   0,   0]],\n",
       "\n",
       "       [[  0,   0,   0],\n",
       "        [  0,   0,   0],\n",
       "        [  0,   0,   0],\n",
       "        ...,\n",
       "        [255,   0,   0],\n",
       "        [255,   0,   0],\n",
       "        [255,   0,   0]]], dtype=uint8)"
      ]
     },
     "execution_count": 99,
     "metadata": {},
     "output_type": "execute_result"
    }
   ],
   "source": [
    "cv.ellipse(img,(256,256),(100,50),0,0,180,(255,0,0),5,-1)"
   ]
  },
  {
   "cell_type": "code",
   "execution_count": 100,
   "id": "2c258712",
   "metadata": {},
   "outputs": [
    {
     "data": {
      "text/plain": [
       "<matplotlib.image.AxesImage at 0x7fbc15caf430>"
      ]
     },
     "execution_count": 100,
     "metadata": {},
     "output_type": "execute_result"
    },
    {
     "data": {
      "image/png": "[encoded data removed]",
      "text/plain": [
       "<Figure size 432x288 with 1 Axes>"
      ]
     },
     "metadata": {
      "needs_background": "light"
     },
     "output_type": "display_data"
    }
   ],
   "source": [
    "plt.imshow(img)"
   ]
  },
  {
   "cell_type": "markdown",
   "id": "1a60f325",
   "metadata": {},
   "source": [
    "## Drawing Polygon\n"
   ]
  },
  {
   "cell_type": "code",
   "execution_count": 93,
   "id": "06bd4b3d",
   "metadata": {},
   "outputs": [
    {
     "data": {
      "text/plain": [
       "array([[[255,   0,   0],\n",
       "        [255,   0,   0],\n",
       "        [255,   0,   0],\n",
       "        ...,\n",
       "        [  0, 255,   0],\n",
       "        [  0, 255,   0],\n",
       "        [  0, 255,   0]],\n",
       "\n",
       "       [[255,   0,   0],\n",
       "        [255,   0,   0],\n",
       "        [255,   0,   0],\n",
       "        ...,\n",
       "        [  0, 255,   0],\n",
       "        [  0, 255,   0],\n",
       "        [  0, 255,   0]],\n",
       "\n",
       "       [[255,   0,   0],\n",
       "        [255,   0,   0],\n",
       "        [255,   0,   0],\n",
       "        ...,\n",
       "        [  0, 255,   0],\n",
       "        [  0, 255,   0],\n",
       "        [  0, 255,   0]],\n",
       "\n",
       "       ...,\n",
       "\n",
       "       [[  0,   0,   0],\n",
       "        [  0,   0,   0],\n",
       "        [  0,   0,   0],\n",
       "        ...,\n",
       "        [255,   0,   0],\n",
       "        [255,   0,   0],\n",
       "        [255,   0,   0]],\n",
       "\n",
       "       [[  0,   0,   0],\n",
       "        [  0,   0,   0],\n",
       "        [  0,   0,   0],\n",
       "        ...,\n",
       "        [255,   0,   0],\n",
       "        [255,   0,   0],\n",
       "        [255,   0,   0]],\n",
       "\n",
       "       [[  0,   0,   0],\n",
       "        [  0,   0,   0],\n",
       "        [  0,   0,   0],\n",
       "        ...,\n",
       "        [255,   0,   0],\n",
       "        [255,   0,   0],\n",
       "        [255,   0,   0]]], dtype=uint8)"
      ]
     },
     "execution_count": 93,
     "metadata": {},
     "output_type": "execute_result"
    }
   ],
   "source": [
    "pts = np.array([[10,5],[20,30],[70,20],[50,10]], np.int32)\n",
    "pts = pts.reshape((-1,1,2))\n",
    "cv.polylines(img,[pts],True,(0,255,255))"
   ]
  },
  {
   "cell_type": "code",
   "execution_count": 94,
   "id": "edf24972",
   "metadata": {},
   "outputs": [
    {
     "data": {
      "text/plain": [
       "<matplotlib.image.AxesImage at 0x7fbc76975250>"
      ]
     },
     "execution_count": 94,
     "metadata": {},
     "output_type": "execute_result"
    },
    {
     "data": {
      "image/png": "[encoded data removed]",
      "text/plain": [
       "<Figure size 432x288 with 1 Axes>"
      ]
     },
     "metadata": {
      "needs_background": "light"
     },
     "output_type": "display_data"
    }
   ],
   "source": [
    "# plt.figure(figsize=(20,20))\n",
    "plt.imshow(img)"
   ]
  },
  {
   "cell_type": "markdown",
   "id": "fafab597",
   "metadata": {},
   "source": [
    "## Adding Text to images "
   ]
  },
  {
   "cell_type": "markdown",
   "id": "8aa2712c",
   "metadata": {},
   "source": [
    "To put texts in images, you need specify following things.\n",
    "\n",
    "Text data that you want to write\n",
    "\n",
    "Position coordinates of where you want put it (i.e. bottom-left corner where data starts).\n",
    "\n",
    "Font type (Check cv.putText() docs for supported fonts)\n",
    "\n",
    "Font Scale (specifies the size of font)\n",
    "\n",
    "regular things like color, thickness, lineType etc. For better look, lineType = cv.LINE_AA is recommended."
   ]
  },
  {
   "cell_type": "code",
   "execution_count": 95,
   "id": "6f52cd86",
   "metadata": {},
   "outputs": [
    {
     "data": {
      "text/plain": [
       "array([[[255,   0,   0],\n",
       "        [255,   0,   0],\n",
       "        [255,   0,   0],\n",
       "        ...,\n",
       "        [  0, 255,   0],\n",
       "        [  0, 255,   0],\n",
       "        [  0, 255,   0]],\n",
       "\n",
       "       [[255,   0,   0],\n",
       "        [255,   0,   0],\n",
       "        [255,   0,   0],\n",
       "        ...,\n",
       "        [  0, 255,   0],\n",
       "        [  0, 255,   0],\n",
       "        [  0, 255,   0]],\n",
       "\n",
       "       [[255,   0,   0],\n",
       "        [255,   0,   0],\n",
       "        [255,   0,   0],\n",
       "        ...,\n",
       "        [  0, 255,   0],\n",
       "        [  0, 255,   0],\n",
       "        [  0, 255,   0]],\n",
       "\n",
       "       ...,\n",
       "\n",
       "       [[  0,   0,   0],\n",
       "        [  0,   0,   0],\n",
       "        [  0,   0,   0],\n",
       "        ...,\n",
       "        [255,   0,   0],\n",
       "        [255,   0,   0],\n",
       "        [255,   0,   0]],\n",
       "\n",
       "       [[  0,   0,   0],\n",
       "        [  0,   0,   0],\n",
       "        [  0,   0,   0],\n",
       "        ...,\n",
       "        [255,   0,   0],\n",
       "        [255,   0,   0],\n",
       "        [255,   0,   0]],\n",
       "\n",
       "       [[  0,   0,   0],\n",
       "        [  0,   0,   0],\n",
       "        [  0,   0,   0],\n",
       "        ...,\n",
       "        [255,   0,   0],\n",
       "        [255,   0,   0],\n",
       "        [255,   0,   0]]], dtype=uint8)"
      ]
     },
     "execution_count": 95,
     "metadata": {},
     "output_type": "execute_result"
    }
   ],
   "source": [
    "font = cv.FONT_HERSHEY_SIMPLEX\n",
    "cv.putText(img,'OpenCV',(10,500), font, 4,(255,255,255),2,cv.LINE_AA)"
   ]
  },
  {
   "cell_type": "code",
   "execution_count": 96,
   "id": "f0ddb9bd",
   "metadata": {},
   "outputs": [
    {
     "data": {
      "text/plain": [
       "<matplotlib.image.AxesImage at 0x7fbc775d4c40>"
      ]
     },
     "execution_count": 96,
     "metadata": {},
     "output_type": "execute_result"
    },
    {
     "data": {
      "image/png": "[encoded data removed]",
      "text/plain": [
       "<Figure size 432x288 with 1 Axes>"
      ]
     },
     "metadata": {
      "needs_background": "light"
     },
     "output_type": "display_data"
    }
   ],
   "source": [
    "plt.imshow(img)"
   ]
  },
  {
   "cell_type": "code",
   "execution_count": 25,
   "id": "f0701e7d",
   "metadata": {},
   "outputs": [],
   "source": [
    "cv.imshow(\"image\",img)\n",
    "k = cv.waitKey(0)\n",
    "if k == ord('q'):\n",
    "    quit()"
   ]
  },
  {
   "cell_type": "markdown",
   "id": "c510edad",
   "metadata": {},
   "source": [
    "# Image Processing in OpenCV"
   ]
  },
  {
   "cell_type": "markdown",
   "id": "37e7a67b",
   "metadata": {},
   "source": [
    "# Changing Colourspaces"
   ]
  },
  {
   "cell_type": "markdown",
   "id": "06cbf64a",
   "metadata": {},
   "source": [
    "In this tutorial, you will learn how to convert images from one color-space to another, like BGR ↔ Gray, BGR ↔ HSV, etc.\n",
    "\n",
    "In addition to that, we will create an application to extract a colored object in a video\n",
    "\n",
    "You will learn the following functions: cv.cvtColor(), cv.inRange(), etc."
   ]
  },
  {
   "cell_type": "markdown",
   "id": "73b0ccc9",
   "metadata": {},
   "source": [
    "There are more than 150 color-space conversion methods available in OpenCV. But we will look into only two, which are most widely used ones: BGR ↔ Gray and BGR ↔ HSV.\n",
    "\n",
    "For color conversion, we use the function cv.cvtColor(input_image, flag) where flag determines the type of conversion.\n",
    "\n",
    "For BGR → Gray conversion, we use the flag cv.COLOR_BGR2GRAY. Similarly for BGR → HSV, we use the flag cv.COLOR_BGR2HSV. To get other flags, just run following commands in your Python terminal:"
   ]
  },
  {
   "cell_type": "code",
   "execution_count": 2,
   "id": "933f3200",
   "metadata": {},
   "outputs": [
    {
     "name": "stdout",
     "output_type": "stream",
     "text": [
      "['COLOR_BAYER_BG2BGR', 'COLOR_BAYER_BG2BGRA', 'COLOR_BAYER_BG2BGR_EA', 'COLOR_BAYER_BG2BGR_VNG', 'COLOR_BAYER_BG2GRAY', 'COLOR_BAYER_BG2RGB', 'COLOR_BAYER_BG2RGBA', 'COLOR_BAYER_BG2RGB_EA', 'COLOR_BAYER_BG2RGB_VNG', 'COLOR_BAYER_GB2BGR', 'COLOR_BAYER_GB2BGRA', 'COLOR_BAYER_GB2BGR_EA', 'COLOR_BAYER_GB2BGR_VNG', 'COLOR_BAYER_GB2GRAY', 'COLOR_BAYER_GB2RGB', 'COLOR_BAYER_GB2RGBA', 'COLOR_BAYER_GB2RGB_EA', 'COLOR_BAYER_GB2RGB_VNG', 'COLOR_BAYER_GR2BGR', 'COLOR_BAYER_GR2BGRA', 'COLOR_BAYER_GR2BGR_EA', 'COLOR_BAYER_GR2BGR_VNG', 'COLOR_BAYER_GR2GRAY', 'COLOR_BAYER_GR2RGB', 'COLOR_BAYER_GR2RGBA', 'COLOR_BAYER_GR2RGB_EA', 'COLOR_BAYER_GR2RGB_VNG', 'COLOR_BAYER_RG2BGR', 'COLOR_BAYER_RG2BGRA', 'COLOR_BAYER_RG2BGR_EA', 'COLOR_BAYER_RG2BGR_VNG', 'COLOR_BAYER_RG2GRAY', 'COLOR_BAYER_RG2RGB', 'COLOR_BAYER_RG2RGBA', 'COLOR_BAYER_RG2RGB_EA', 'COLOR_BAYER_RG2RGB_VNG', 'COLOR_BGR2BGR555', 'COLOR_BGR2BGR565', 'COLOR_BGR2BGRA', 'COLOR_BGR2GRAY', 'COLOR_BGR2HLS', 'COLOR_BGR2HLS_FULL', 'COLOR_BGR2HSV', 'COLOR_BGR2HSV_FULL', 'COLOR_BGR2LAB', 'COLOR_BGR2LUV', 'COLOR_BGR2Lab', 'COLOR_BGR2Luv', 'COLOR_BGR2RGB', 'COLOR_BGR2RGBA', 'COLOR_BGR2XYZ', 'COLOR_BGR2YCR_CB', 'COLOR_BGR2YCrCb', 'COLOR_BGR2YUV', 'COLOR_BGR2YUV_I420', 'COLOR_BGR2YUV_IYUV', 'COLOR_BGR2YUV_YV12', 'COLOR_BGR5552BGR', 'COLOR_BGR5552BGRA', 'COLOR_BGR5552GRAY', 'COLOR_BGR5552RGB', 'COLOR_BGR5552RGBA', 'COLOR_BGR5652BGR', 'COLOR_BGR5652BGRA', 'COLOR_BGR5652GRAY', 'COLOR_BGR5652RGB', 'COLOR_BGR5652RGBA', 'COLOR_BGRA2BGR', 'COLOR_BGRA2BGR555', 'COLOR_BGRA2BGR565', 'COLOR_BGRA2GRAY', 'COLOR_BGRA2RGB', 'COLOR_BGRA2RGBA', 'COLOR_BGRA2YUV_I420', 'COLOR_BGRA2YUV_IYUV', 'COLOR_BGRA2YUV_YV12', 'COLOR_BayerBG2BGR', 'COLOR_BayerBG2BGRA', 'COLOR_BayerBG2BGR_EA', 'COLOR_BayerBG2BGR_VNG', 'COLOR_BayerBG2GRAY', 'COLOR_BayerBG2RGB', 'COLOR_BayerBG2RGBA', 'COLOR_BayerBG2RGB_EA', 'COLOR_BayerBG2RGB_VNG', 'COLOR_BayerGB2BGR', 'COLOR_BayerGB2BGRA', 'COLOR_BayerGB2BGR_EA', 'COLOR_BayerGB2BGR_VNG', 'COLOR_BayerGB2GRAY', 'COLOR_BayerGB2RGB', 'COLOR_BayerGB2RGBA', 'COLOR_BayerGB2RGB_EA', 'COLOR_BayerGB2RGB_VNG', 'COLOR_BayerGR2BGR', 'COLOR_BayerGR2BGRA', 'COLOR_BayerGR2BGR_EA', 'COLOR_BayerGR2BGR_VNG', 'COLOR_BayerGR2GRAY', 'COLOR_BayerGR2RGB', 'COLOR_BayerGR2RGBA', 'COLOR_BayerGR2RGB_EA', 'COLOR_BayerGR2RGB_VNG', 'COLOR_BayerRG2BGR', 'COLOR_BayerRG2BGRA', 'COLOR_BayerRG2BGR_EA', 'COLOR_BayerRG2BGR_VNG', 'COLOR_BayerRG2GRAY', 'COLOR_BayerRG2RGB', 'COLOR_BayerRG2RGBA', 'COLOR_BayerRG2RGB_EA', 'COLOR_BayerRG2RGB_VNG', 'COLOR_COLORCVT_MAX', 'COLOR_GRAY2BGR', 'COLOR_GRAY2BGR555', 'COLOR_GRAY2BGR565', 'COLOR_GRAY2BGRA', 'COLOR_GRAY2RGB', 'COLOR_GRAY2RGBA', 'COLOR_HLS2BGR', 'COLOR_HLS2BGR_FULL', 'COLOR_HLS2RGB', 'COLOR_HLS2RGB_FULL', 'COLOR_HSV2BGR', 'COLOR_HSV2BGR_FULL', 'COLOR_HSV2RGB', 'COLOR_HSV2RGB_FULL', 'COLOR_LAB2BGR', 'COLOR_LAB2LBGR', 'COLOR_LAB2LRGB', 'COLOR_LAB2RGB', 'COLOR_LBGR2LAB', 'COLOR_LBGR2LUV', 'COLOR_LBGR2Lab', 'COLOR_LBGR2Luv', 'COLOR_LRGB2LAB', 'COLOR_LRGB2LUV', 'COLOR_LRGB2Lab', 'COLOR_LRGB2Luv', 'COLOR_LUV2BGR', 'COLOR_LUV2LBGR', 'COLOR_LUV2LRGB', 'COLOR_LUV2RGB', 'COLOR_Lab2BGR', 'COLOR_Lab2LBGR', 'COLOR_Lab2LRGB', 'COLOR_Lab2RGB', 'COLOR_Luv2BGR', 'COLOR_Luv2LBGR', 'COLOR_Luv2LRGB', 'COLOR_Luv2RGB', 'COLOR_M_RGBA2RGBA', 'COLOR_RGB2BGR', 'COLOR_RGB2BGR555', 'COLOR_RGB2BGR565', 'COLOR_RGB2BGRA', 'COLOR_RGB2GRAY', 'COLOR_RGB2HLS', 'COLOR_RGB2HLS_FULL', 'COLOR_RGB2HSV', 'COLOR_RGB2HSV_FULL', 'COLOR_RGB2LAB', 'COLOR_RGB2LUV', 'COLOR_RGB2Lab', 'COLOR_RGB2Luv', 'COLOR_RGB2RGBA', 'COLOR_RGB2XYZ', 'COLOR_RGB2YCR_CB', 'COLOR_RGB2YCrCb', 'COLOR_RGB2YUV', 'COLOR_RGB2YUV_I420', 'COLOR_RGB2YUV_IYUV', 'COLOR_RGB2YUV_YV12', 'COLOR_RGBA2BGR', 'COLOR_RGBA2BGR555', 'COLOR_RGBA2BGR565', 'COLOR_RGBA2BGRA', 'COLOR_RGBA2GRAY', 'COLOR_RGBA2M_RGBA', 'COLOR_RGBA2RGB', 'COLOR_RGBA2YUV_I420', 'COLOR_RGBA2YUV_IYUV', 'COLOR_RGBA2YUV_YV12', 'COLOR_RGBA2mRGBA', 'COLOR_XYZ2BGR', 'COLOR_XYZ2RGB', 'COLOR_YCR_CB2BGR', 'COLOR_YCR_CB2RGB', 'COLOR_YCrCb2BGR', 'COLOR_YCrCb2RGB', 'COLOR_YUV2BGR', 'COLOR_YUV2BGRA_I420', 'COLOR_YUV2BGRA_IYUV', 'COLOR_YUV2BGRA_NV12', 'COLOR_YUV2BGRA_NV21', 'COLOR_YUV2BGRA_UYNV', 'COLOR_YUV2BGRA_UYVY', 'COLOR_YUV2BGRA_Y422', 'COLOR_YUV2BGRA_YUNV', 'COLOR_YUV2BGRA_YUY2', 'COLOR_YUV2BGRA_YUYV', 'COLOR_YUV2BGRA_YV12', 'COLOR_YUV2BGRA_YVYU', 'COLOR_YUV2BGR_I420', 'COLOR_YUV2BGR_IYUV', 'COLOR_YUV2BGR_NV12', 'COLOR_YUV2BGR_NV21', 'COLOR_YUV2BGR_UYNV', 'COLOR_YUV2BGR_UYVY', 'COLOR_YUV2BGR_Y422', 'COLOR_YUV2BGR_YUNV', 'COLOR_YUV2BGR_YUY2', 'COLOR_YUV2BGR_YUYV', 'COLOR_YUV2BGR_YV12', 'COLOR_YUV2BGR_YVYU', 'COLOR_YUV2GRAY_420', 'COLOR_YUV2GRAY_I420', 'COLOR_YUV2GRAY_IYUV', 'COLOR_YUV2GRAY_NV12', 'COLOR_YUV2GRAY_NV21', 'COLOR_YUV2GRAY_UYNV', 'COLOR_YUV2GRAY_UYVY', 'COLOR_YUV2GRAY_Y422', 'COLOR_YUV2GRAY_YUNV', 'COLOR_YUV2GRAY_YUY2', 'COLOR_YUV2GRAY_YUYV', 'COLOR_YUV2GRAY_YV12', 'COLOR_YUV2GRAY_YVYU', 'COLOR_YUV2RGB', 'COLOR_YUV2RGBA_I420', 'COLOR_YUV2RGBA_IYUV', 'COLOR_YUV2RGBA_NV12', 'COLOR_YUV2RGBA_NV21', 'COLOR_YUV2RGBA_UYNV', 'COLOR_YUV2RGBA_UYVY', 'COLOR_YUV2RGBA_Y422', 'COLOR_YUV2RGBA_YUNV', 'COLOR_YUV2RGBA_YUY2', 'COLOR_YUV2RGBA_YUYV', 'COLOR_YUV2RGBA_YV12', 'COLOR_YUV2RGBA_YVYU', 'COLOR_YUV2RGB_I420', 'COLOR_YUV2RGB_IYUV', 'COLOR_YUV2RGB_NV12', 'COLOR_YUV2RGB_NV21', 'COLOR_YUV2RGB_UYNV', 'COLOR_YUV2RGB_UYVY', 'COLOR_YUV2RGB_Y422', 'COLOR_YUV2RGB_YUNV', 'COLOR_YUV2RGB_YUY2', 'COLOR_YUV2RGB_YUYV', 'COLOR_YUV2RGB_YV12', 'COLOR_YUV2RGB_YVYU', 'COLOR_YUV420P2BGR', 'COLOR_YUV420P2BGRA', 'COLOR_YUV420P2GRAY', 'COLOR_YUV420P2RGB', 'COLOR_YUV420P2RGBA', 'COLOR_YUV420SP2BGR', 'COLOR_YUV420SP2BGRA', 'COLOR_YUV420SP2GRAY', 'COLOR_YUV420SP2RGB', 'COLOR_YUV420SP2RGBA', 'COLOR_YUV420p2BGR', 'COLOR_YUV420p2BGRA', 'COLOR_YUV420p2GRAY', 'COLOR_YUV420p2RGB', 'COLOR_YUV420p2RGBA', 'COLOR_YUV420sp2BGR', 'COLOR_YUV420sp2BGRA', 'COLOR_YUV420sp2GRAY', 'COLOR_YUV420sp2RGB', 'COLOR_YUV420sp2RGBA', 'COLOR_mRGBA2RGBA']\n"
     ]
    }
   ],
   "source": [
    "import cv2 as cv\n",
    "flags = [i for i in dir(cv) if i.startswith('COLOR_')]\n",
    "print( flags )"
   ]
  },
  {
   "cell_type": "markdown",
   "id": "8ebbd6d8",
   "metadata": {},
   "source": [
    "## Object Tracking "
   ]
  },
  {
   "cell_type": "markdown",
   "id": "5ac5e5ec",
   "metadata": {},
   "source": [
    "Now that we know how to convert a BGR image to HSV, we can use this to extract a colored object. In HSV, it is easier to represent a color than in BGR color-space. In our application, we will try to extract a blue colored object. So here is the method:\n",
    "\n",
    "Take each frame of the video\n",
    "\n",
    "Convert from BGR to HSV color-space\n",
    "\n",
    "We threshold the HSV image for a range of blue color\n",
    "\n",
    "Now extract the blue object alone, we can do whatever we want on that image.\n",
    "\n",
    "Below is the code which is commented in detail:"
   ]
  },
  {
   "cell_type": "code",
   "execution_count": null,
   "id": "d288650a",
   "metadata": {},
   "outputs": [],
   "source": [
    "import cv2 as cv\n",
    "import numpy as np\n",
    "cap = cv.VideoCapture(0)\n",
    "while(1):\n",
    "    # Take each frame\n",
    "    _, frame = cap.read()\n",
    "    # Convert BGR to HSV\n",
    "    hsv = cv.cvtColor(frame, cv.COLOR_BGR2HSV)\n",
    "    # define range of blue color in HSV\n",
    "    lower_blue = np.array([110,50,50])\n",
    "    upper_blue = np.array([130,255,255])\n",
    "    # Threshold the HSV image to get only blue colors\n",
    "    mask = cv.inRange(hsv, lower_blue, upper_blue)\n",
    "    # Bitwise-AND mask and original image\n",
    "    res = cv.bitwise_and(frame,frame, mask= mask)\n",
    "    cv.imshow('frame',frame)\n",
    "    cv.imshow('mask',mask)\n",
    "    cv.imshow('res',res)\n",
    "    k = cv.waitKey(5) & 0xFF\n",
    "    if k == 27:\n",
    "        break\n",
    "cv.destroyAllWindows()"
   ]
  },
  {
   "cell_type": "markdown",
   "id": "3fd3597d",
   "metadata": {},
   "source": [
    "![Result](frame.jpg)"
   ]
  },
  {
   "cell_type": "markdown",
   "id": "d9d81245",
   "metadata": {},
   "source": [
    "## How to find HSV values to track? "
   ]
  },
  {
   "cell_type": "markdown",
   "id": "02a891d7",
   "metadata": {},
   "source": [
    "\n",
    "This is a common question found in stackoverflow.com. It is very simple and you can use the same function, cv.cvtColor(). Instead of passing an image, you just pass the BGR values you want. For example, to find the HSV value of Green, try the following commands in a Python terminal:"
   ]
  },
  {
   "cell_type": "code",
   "execution_count": 2,
   "id": "76e54770",
   "metadata": {},
   "outputs": [
    {
     "name": "stdout",
     "output_type": "stream",
     "text": [
      "[[[ 60 255 255]]]\n"
     ]
    }
   ],
   "source": [
    "import cv2 as cv\n",
    "import numpy as np\n",
    "green = np.uint8([[[0,255,0 ]]])\n",
    "hsv_green = cv.cvtColor(green,cv.COLOR_BGR2HSV)\n",
    "print( hsv_green )"
   ]
  },
  {
   "cell_type": "code",
   "execution_count": 4,
   "id": "68848d21",
   "metadata": {},
   "outputs": [
    {
     "data": {
      "text/plain": [
       "(1, 1, 3)"
      ]
     },
     "execution_count": 4,
     "metadata": {},
     "output_type": "execute_result"
    }
   ],
   "source": [
    "green.shape"
   ]
  },
  {
   "cell_type": "markdown",
   "id": "d6fd02ae",
   "metadata": {},
   "source": [
    "# Geometric Transformation on Images"
   ]
  },
  {
   "cell_type": "markdown",
   "id": "16991fcc",
   "metadata": {},
   "source": [
    "Learn to apply different geometric transformations to images, like translation, rotation, affine transformation etc.\n",
    "\n",
    "You will see these functions: cv.getPerspectiveTransform"
   ]
  },
  {
   "cell_type": "markdown",
   "id": "8731be85",
   "metadata": {},
   "source": [
    "## Transformations"
   ]
  },
  {
   "cell_type": "markdown",
   "id": "edff0e95",
   "metadata": {},
   "source": [
    "OpenCV provides two transformation functions, cv.warpAffine and cv.warpPerspective, with which you can perform all kinds of transformations. cv.warpAffine takes a 2x3 transformation matrix while cv.warpPerspective takes a 3x3 transformation matrix as input."
   ]
  },
  {
   "cell_type": "markdown",
   "id": "ce3fc9e7",
   "metadata": {},
   "source": [
    "## Scaling "
   ]
  },
  {
   "cell_type": "markdown",
   "id": "65e3d5cb",
   "metadata": {},
   "source": [
    "Scaling is just resizing of the image. OpenCV comes with a function cv.resize() for this purpose. The size of the image can be specified manually, or you can specify the scaling factor. Different interpolation methods are used. Preferable interpolation methods are cv.INTER_AREA for shrinking and cv.INTER_CUBIC (slow) & cv.INTER_LINEAR for zooming. By default, the interpolation method cv.INTER_LINEAR is used for all resizing purposes. You can resize an input image with either of following methods:"
   ]
  },
  {
   "cell_type": "code",
   "execution_count": null,
   "id": "6b68bad0",
   "metadata": {},
   "outputs": [],
   "source": [
    "import numpy as np\n",
    "import cv2 as cv\n",
    "img = cv.imread('messi5.jpg')\n",
    "res = cv.resize(img,None,fx=2, fy=2, interpolation = cv.INTER_CUBIC)\n",
    "#OR\n",
    "height, width = img.shape[:2]\n",
    "res = cv.resize(img,(2*width, 2*height), interpolation = cv.INTER_CUBIC)\n"
   ]
  },
  {
   "cell_type": "markdown",
   "id": "2146886a",
   "metadata": {},
   "source": [
    "## Translation "
   ]
  },
  {
   "cell_type": "markdown",
   "id": "c9956bef",
   "metadata": {},
   "source": [
    "Translation is the shifting of an object's location. If you know the shift in the (x,y) direction and let it be (tx,ty), you can create the transformation matrix M as follows:"
   ]
  },
  {
   "cell_type": "markdown",
   "id": "93a27441",
   "metadata": {},
   "source": [
    "M=\n",
    "\n",
    "    [1  0  tx]\n",
    "    \n",
    "    [0  1  ty]"
   ]
  },
  {
   "cell_type": "markdown",
   "id": "fe9a5fe5",
   "metadata": {},
   "source": [
    "You can take make it into a Numpy array of type np.float32 and pass it into the cv.warpAffine() function. See the below example for a shift of (100,50):"
   ]
  },
  {
   "cell_type": "code",
   "execution_count": null,
   "id": "20bc7e79",
   "metadata": {},
   "outputs": [],
   "source": [
    "import numpy as np\n",
    "import cv2 as cv\n",
    "img = cv.imread('messi5.jpg',0)\n",
    "rows,cols = img.shape\n",
    "M = np.float32([[1,0,100],[0,1,50]])\n",
    "dst = cv.warpAffine(img,M,(cols,rows))\n",
    "cv.imshow('img',dst)\n",
    "cv.waitKey(0)\n",
    "cv.destroyAllWindows()"
   ]
  },
  {
   "cell_type": "markdown",
   "id": "72100f94",
   "metadata": {},
   "source": [
    "The third argument of the cv.warpAffine() function is the size of the output image, which should be in the form of **(width, height)**. Remember width = number of columns, and height = number of rows."
   ]
  },
  {
   "cell_type": "markdown",
   "id": "ec621e89",
   "metadata": {},
   "source": [
    "![Translation](translation.jpg)"
   ]
  },
  {
   "cell_type": "markdown",
   "id": "03a7d6d7",
   "metadata": {},
   "source": [
    "## Rotation"
   ]
  },
  {
   "cell_type": "markdown",
   "id": "227f9f5a",
   "metadata": {},
   "source": [
    "Rotation of an image for an angle θ is achieved by the transformation matrix of the form"
   ]
  },
  {
   "cell_type": "markdown",
   "id": "527512c8",
   "metadata": {},
   "source": [
    "M=\n",
    "\n",
    "    [cosθ    −sinθ]\n",
    "\n",
    "    [sinθ     cosθ]"
   ]
  },
  {
   "cell_type": "markdown",
   "id": "1d4d629f",
   "metadata": {},
   "source": [
    "But OpenCV provides scaled rotation with adjustable center of rotation so that you can rotate at any location you prefer. The modified transformation matrix is given by"
   ]
  },
  {
   "cell_type": "markdown",
   "id": "61ed07d1",
   "metadata": {},
   "source": [
    "[alpha    beta    (1-alpha).center_x-beta.center_y]\n",
    "\n",
    "[-beta    alpha    beta.center_x+(1-alpha).center_y]\n",
    "\n",
    "where \n",
    "\n",
    "alpha = scale⋅cosθ\n",
    "\n",
    "beta = scale.sinθ"
   ]
  },
  {
   "cell_type": "markdown",
   "id": "9f633aa4",
   "metadata": {},
   "source": [
    "To find this transformation matrix, OpenCV provides a function, cv.getRotationMatrix2D. Check out the below example which rotates the image by 90 degree with respect to center without any scaling.\n",
    "\n"
   ]
  },
  {
   "cell_type": "code",
   "execution_count": null,
   "id": "3b550677",
   "metadata": {},
   "outputs": [],
   "source": [
    "img = cv.imread('messi5.jpg',0)\n",
    "rows,cols = img.shape\n",
    "# cols-1 and rows-1 are the coordinate limits.\n",
    "M = cv.getRotationMatrix2D(((cols-1)/2.0,(rows-1)/2.0),90,1)\n",
    "dst = cv.warpAffine(img,M,(cols,rows))"
   ]
  },
  {
   "cell_type": "markdown",
   "id": "d85df329",
   "metadata": {},
   "source": [
    "![Rotation](rotation.jpg)"
   ]
  },
  {
   "cell_type": "markdown",
   "id": "0f8ee27e",
   "metadata": {},
   "source": [
    "## Affine Transformation "
   ]
  },
  {
   "cell_type": "markdown",
   "id": "51b61d59",
   "metadata": {},
   "source": [
    "In affine transformation, all parallel lines in the original image will still be parallel in the output image. To find the transformation matrix, we need three points from the input image and their corresponding locations in the output image. Then cv.getAffineTransform will create a 2x3 matrix which is to be passed to cv.warpAffine.\n",
    "\n",
    "Check the below example, and also look at the points I selected (which are marked in green color):\n",
    "\n"
   ]
  },
  {
   "cell_type": "code",
   "execution_count": null,
   "id": "e7c10eea",
   "metadata": {},
   "outputs": [],
   "source": [
    "img = cv.imread('drawing.png')\n",
    "rows,cols,ch = img.shape\n",
    "pts1 = np.float32([[50,50],[200,50],[50,200]])\n",
    "pts2 = np.float32([[10,100],[200,50],[100,250]])\n",
    "M = cv.getAffineTransform(pts1,pts2)\n",
    "dst = cv.warpAffine(img,M,(cols,rows))\n",
    "plt.subplot(121),plt.imshow(img),plt.title('Input')\n",
    "plt.subplot(122),plt.imshow(dst),plt.title('Output')\n",
    "plt.show()"
   ]
  },
  {
   "cell_type": "markdown",
   "id": "d11b0ef7",
   "metadata": {},
   "source": [
    "![Affine](affine.jpg)"
   ]
  },
  {
   "cell_type": "markdown",
   "id": "18cbffc5",
   "metadata": {},
   "source": [
    "## Perspective Transformation "
   ]
  },
  {
   "cell_type": "markdown",
   "id": "2438748c",
   "metadata": {},
   "source": [
    "For perspective transformation, you need a 3x3 transformation matrix. Straight lines will remain straight even after the transformation. To find this transformation matrix, you need 4 points on the input image and corresponding points on the output image. Among these 4 points, 3 of them should not be collinear. Then the transformation matrix can be found by the function cv.getPerspectiveTransform. Then apply cv.warpPerspective with this 3x3 transformation matrix.\n",
    "\n",
    "See the code below:\n",
    "\n"
   ]
  },
  {
   "cell_type": "code",
   "execution_count": null,
   "id": "a2a3bc63",
   "metadata": {},
   "outputs": [],
   "source": [
    "img = cv.imread('sudoku.png')\n",
    "rows,cols,ch = img.shape\n",
    "pts1 = np.float32([[56,65],[368,52],[28,387],[389,390]])\n",
    "pts2 = np.float32([[0,0],[300,0],[0,300],[300,300]])\n",
    "M = cv.getPerspectiveTransform(pts1,pts2)\n",
    "dst = cv.warpPerspective(img,M,(300,300))\n",
    "plt.subplot(121),plt.imshow(img),plt.title('Input')\n",
    "plt.subplot(122),plt.imshow(dst),plt.title('Output')\n",
    "plt.show()\n"
   ]
  },
  {
   "cell_type": "markdown",
   "id": "21463e73",
   "metadata": {},
   "source": [
    "![Perspective](perspective.jpg)"
   ]
  },
  {
   "cell_type": "markdown",
   "id": "40bcadc6",
   "metadata": {},
   "source": [
    "# Image Thresholding"
   ]
  },
  {
   "cell_type": "markdown",
   "id": "7f72d063",
   "metadata": {},
   "source": [
    "In this tutorial, you will learn simple thresholding, adaptive thresholding and Otsu's thresholding.\n",
    "\n",
    "You will learn the functions cv.threshold and cv.adaptiveThreshold."
   ]
  },
  {
   "cell_type": "markdown",
   "id": "698bc761",
   "metadata": {},
   "source": [
    "## Simple Thresholding\n"
   ]
  },
  {
   "cell_type": "markdown",
   "id": "7d1b358a",
   "metadata": {},
   "source": [
    "Here, the matter is straight-forward. For every pixel, the same threshold value is applied. If the pixel value is smaller than the threshold, it is set to 0, otherwise it is set to a maximum value. The function cv.threshold is used to apply the thresholding. The first argument is the source image, which should be a grayscale image. The second argument is the threshold value which is used to classify the pixel values. The third argument is the maximum value which is assigned to pixel values exceeding the threshold. OpenCV provides different types of thresholding which is given by the fourth parameter of the function. Basic thresholding as described above is done by using the type cv.THRESH_BINARY. All simple thresholding types are:\n",
    "\n",
    "cv.THRESH_BINARY\n",
    "\n",
    "cv.THRESH_BINARY_INV\n",
    "\n",
    "cv.THRESH_TRUNC\n",
    "\n",
    "cv.THRESH_TOZERO\n",
    "\n",
    "cv.THRESH_TOZERO_INV\n"
   ]
  },
  {
   "cell_type": "markdown",
   "id": "155c3578",
   "metadata": {},
   "source": [
    "The method returns two outputs. The first is the threshold that was used and the second output is the thresholded image.\n",
    "\n",
    "This code compares the different simple thresholding types:"
   ]
  },
  {
   "cell_type": "code",
   "execution_count": null,
   "id": "8cc75937",
   "metadata": {},
   "outputs": [],
   "source": [
    "import cv2 as cv\n",
    "import numpy as np\n",
    "from matplotlib import pyplot as plt\n",
    "img = cv.imread('gradient.png',0)\n",
    "ret,thresh1 = cv.threshold(img,127,255,cv.THRESH_BINARY)\n",
    "ret,thresh2 = cv.threshold(img,127,255,cv.THRESH_BINARY_INV)\n",
    "ret,thresh3 = cv.threshold(img,127,255,cv.THRESH_TRUNC)\n",
    "ret,thresh4 = cv.threshold(img,127,255,cv.THRESH_TOZERO)\n",
    "ret,thresh5 = cv.threshold(img,127,255,cv.THRESH_TOZERO_INV)\n",
    "titles = ['Original Image','BINARY','BINARY_INV','TRUNC','TOZERO','TOZERO_INV']\n",
    "images = [img, thresh1, thresh2, thresh3, thresh4, thresh5]\n",
    "for i in range(6):\n",
    "    plt.subplot(2,3,i+1),plt.imshow(images[i],'gray',vmin=0,vmax=255)\n",
    "    plt.title(titles[i])\n",
    "    plt.xticks([]),plt.yticks([])\n",
    "plt.show()"
   ]
  },
  {
   "cell_type": "markdown",
   "id": "105cc35e",
   "metadata": {},
   "source": [
    "![Threshold](threshold.jpg)"
   ]
  },
  {
   "cell_type": "markdown",
   "id": "b7e01f24",
   "metadata": {},
   "source": [
    "## Adaptive Thresholding"
   ]
  },
  {
   "cell_type": "markdown",
   "id": "2279bd09",
   "metadata": {},
   "source": [
    "In the previous section, we used one global value as a threshold. But this might not be good in all cases, e.g. if an image has different lighting conditions in different areas. In that case, adaptive thresholding can help. Here, the algorithm determines the threshold for a pixel based on a small region around it. So we get different thresholds for different regions of the same image which gives better results for images with varying illumination."
   ]
  },
  {
   "cell_type": "markdown",
   "id": "df17b88c",
   "metadata": {},
   "source": [
    "In addition to the parameters described above, the method cv.adaptiveThreshold takes three input parameters:\n",
    "\n",
    "The adaptiveMethod decides how the threshold value is calculated:\n",
    "\n",
    "cv.ADAPTIVE_THRESH_MEAN_C: The threshold value is the mean of the neighbourhood area minus the constant C.\n",
    "cv.ADAPTIVE_THRESH_GAUSSIAN_C: The threshold value is a gaussian-weighted sum of the neighbourhood values minus the constant C.\n",
    "\n",
    "The blockSize determines the size of the neighbourhood area and C is a constant that is subtracted from the mean or weighted sum of the neighbourhood pixels.\n",
    "\n",
    "The code below compares global thresholding and adaptive thresholding for an image with varying illumination:"
   ]
  },
  {
   "cell_type": "code",
   "execution_count": null,
   "id": "1e159632",
   "metadata": {},
   "outputs": [],
   "source": [
    "import cv2 as cv\n",
    "import numpy as np\n",
    "from matplotlib import pyplot as plt\n",
    "img = cv.imread('sudoku.png',0)\n",
    "img = cv.medianBlur(img,5)\n",
    "ret,th1 = =\n",
    "th2 = cv.adaptiveThreshold(img,255,cv.ADAPTIVE_THRESH_MEAN_C,\\\n",
    "            cv.THRESH_BINARY,blockSize=11,C=2)\n",
    "th3 = cv.adaptiveThreshold(img,255,cv.ADAPTIVE_THRESH_GAUSSIAN_C,\\\n",
    "            cv.THRESH_BINARY,blocksize=11,C=2)\n",
    "titles = ['Original Image', 'Global Thresholding (v = 127)',\n",
    "            'Adaptive Mean Thresholding', 'Adaptive Gaussian Thresholding']\n",
    "images = [img, th1, th2, th3]\n",
    "for i in range(4):\n",
    "    plt.subplot(2,2,i+1),plt.imshow(images[i],'gray')\n",
    "    plt.title(titles[i])\n",
    "    plt.xticks([]),plt.yticks([])\n",
    "plt.show()"
   ]
  },
  {
   "cell_type": "markdown",
   "id": "4d495fd3",
   "metadata": {},
   "source": [
    "![Adaptive](ada_threshold.jpg)"
   ]
  },
  {
   "cell_type": "markdown",
   "id": "8b6a7848",
   "metadata": {},
   "source": [
    "## Otsu's Binarization"
   ]
  },
  {
   "cell_type": "markdown",
   "id": "ab2b7e8c",
   "metadata": {},
   "source": [
    "In global thresholding, we used an arbitrary chosen value as a threshold. In contrast, Otsu's method avoids having to choose a value and determines it automatically.\n",
    "\n",
    "Consider an image with only two distinct image values (bimodal image), where the histogram would only consist of two peaks. A good threshold would be in the middle of those two values. Similarly, Otsu's method determines an optimal global threshold value from the image histogram.\n",
    "\n",
    "In order to do so, the cv.threshold() function is used, where cv.THRESH_OTSU is passed as an extra flag. The threshold value can be chosen arbitrary. The algorithm then finds the optimal threshold value which is returned as the first output.\n",
    "\n",
    "Check out the example below. The input image is a noisy image. In the first case, global thresholding with a value of 127 is applied. In the second case, Otsu's thresholding is applied directly. In the third case, the image is first filtered with a 5x5 gaussian kernel to remove the noise, then Otsu thresholding is applied. See how noise filtering improves the result."
   ]
  },
  {
   "cell_type": "code",
   "execution_count": null,
   "id": "88ff9c78",
   "metadata": {},
   "outputs": [],
   "source": [
    "import cv2 as cv\n",
    "import numpy as np\n",
    "from matplotlib import pyplot as plt\n",
    "img = cv.imread('noisy2.png',0)\n",
    "# global thresholding\n",
    "ret1,th1 = cv.threshold(img,127,255,cv.THRESH_BINARY)\n",
    "# Otsu's thresholding\n",
    "ret2,th2 = cv.threshold(img,0,255,cv.THRESH_BINARY+cv.THRESH_OTSU)\n",
    "# Otsu's thresholding after Gaussian filtering\n",
    "blur = cv.GaussianBlur(img,(5,5),0)\n",
    "ret3,th3 = cv.threshold(blur,0,255,cv.THRESH_BINARY+cv.THRESH_OTSU)\n",
    "# plot all the images and their histograms\n",
    "images = [img, 0, th1,\n",
    "          img, 0, th2,\n",
    "          blur, 0, th3]\n",
    "titles = ['Original Noisy Image','Histogram','Global Thresholding (v=127)',\n",
    "          'Original Noisy Image','Histogram',\"Otsu's Thresholding\",\n",
    "          'Gaussian filtered Image','Histogram',\"Otsu's Thresholding\"]\n",
    "for i in range(3):\n",
    "    plt.subplot(3,3,i*3+1),plt.imshow(images[i*3],'gray')\n",
    "    plt.title(titles[i*3]), plt.xticks([]), plt.yticks([])\n",
    "    plt.subplot(3,3,i*3+2),plt.hist(images[i*3].ravel(),256)\n",
    "    plt.title(titles[i*3+1]), plt.xticks([]), plt.yticks([])\n",
    "    plt.subplot(3,3,i*3+3),plt.imshow(images[i*3+2],'gray')\n",
    "    plt.title(titles[i*3+2]), plt.xticks([]), plt.yticks([])\n",
    "plt.show()"
   ]
  },
  {
   "cell_type": "markdown",
   "id": "05937658",
   "metadata": {},
   "source": [
    "![Otsu](otsu.jpg)"
   ]
  },
  {
   "cell_type": "markdown",
   "id": "3dfc3045",
   "metadata": {},
   "source": [
    "# Smoothing Images"
   ]
  },
  {
   "cell_type": "markdown",
   "id": "f7f09521",
   "metadata": {},
   "source": [
    "Blur images with various low pass filters\n",
    "\n",
    "Apply custom-made filters to images (2D convolution)"
   ]
  },
  {
   "cell_type": "markdown",
   "id": "0991e833",
   "metadata": {},
   "source": [
    "## 2D Convolution ( Image Filtering )"
   ]
  },
  {
   "cell_type": "markdown",
   "id": "ea6eca46",
   "metadata": {},
   "source": [
    "As in one-dimensional signals, images also can be filtered with various low-pass filters (LPF), high-pass filters (HPF), etc. LPF helps in removing noise, blurring images, etc. HPF filters help in finding edges in images.\n",
    "\n",
    "OpenCV provides a function cv.filter2D() to convolve a kernel with an image. As an example, we will try an averaging filter on an image. A 5x5 averaging filter kernel will look like the below:"
   ]
  },
  {
   "cell_type": "markdown",
   "id": "f18f2474",
   "metadata": {},
   "source": [
    "![AVG](avg_filter.png)"
   ]
  },
  {
   "cell_type": "markdown",
   "id": "ae3b4485",
   "metadata": {},
   "source": [
    "The operation works like this: keep this kernel above a pixel, add all the 25 pixels below this kernel, take the average, and replace the central pixel with the new average value. This operation is continued for all the pixels in the image. Try this code and check the result:"
   ]
  },
  {
   "cell_type": "code",
   "execution_count": 109,
   "id": "21a5bb9f",
   "metadata": {},
   "outputs": [],
   "source": [
    "import numpy as np\n",
    "import cv2 as cv\n",
    "from matplotlib import pyplot as plt\n",
    "img = cv.imread('opencv_logo.png')\n",
    "kernel = np.ones((5,5),np.float32)/25\n",
    "dst = cv.filter2D(img,-1,kernel)\n",
    "plt.subplot(121),plt.imshow(img),plt.title('Original')\n",
    "plt.xticks([]), plt.yticks([])\n",
    "plt.subplot(122),plt.imshow(dst),plt.title('Averaging')\n",
    "plt.xticks([]), plt.yticks([])\n",
    "plt.show()"
   ]
  },
  {
   "cell_type": "markdown",
   "id": "d4fc85df",
   "metadata": {},
   "source": [
    "![filter](filter.jpg)"
   ]
  },
  {
   "cell_type": "markdown",
   "id": "0cf78557",
   "metadata": {},
   "source": [
    "## Image Blurring (Image Smoothing)\n",
    "Image blurring is achieved by convolving the image with a low-pass filter kernel. It is useful for removing noise. It actually removes high frequency content (eg: noise, edges) from the image. So edges are blurred a little bit in this operation (there are also blurring techniques which don't blur the edges). OpenCV provides four main types of blurring techniques.\n",
    "\n",
    "## 1. Averaging\n",
    "This is done by convolving an image with a normalized box filter. It simply takes the average of all the pixels under the kernel area and replaces the central element. This is done by the function cv.blur() or cv.boxFilter(). Check the docs for more details about the kernel. We should specify the width and height of the kernel. A 3x3 normalized box filter would look like the below:"
   ]
  },
  {
   "cell_type": "markdown",
   "id": "2af0c04b",
   "metadata": {},
   "source": [
    "![avg](averaging.png)"
   ]
  },
  {
   "cell_type": "code",
   "execution_count": null,
   "id": "c2bd5dcc",
   "metadata": {},
   "outputs": [],
   "source": [
    "import cv2 as cv\n",
    "import numpy as np\n",
    "from matplotlib import pyplot as plt\n",
    "img = cv.imread('opencv-logo-white.png')\n",
    "blur = cv.blur(img,(5,5))\n",
    "plt.subplot(121),plt.imshow(img),plt.title('Original')\n",
    "plt.xticks([]), plt.yticks([])\n",
    "plt.subplot(122),plt.imshow(blur),plt.title('Blurred')\n",
    "plt.xticks([]), plt.yticks([])\n",
    "plt.show()"
   ]
  },
  {
   "cell_type": "markdown",
   "id": "ac51bed4",
   "metadata": {},
   "source": [
    "![blur](blur.jpg)"
   ]
  },
  {
   "cell_type": "markdown",
   "id": "6bc82f0a",
   "metadata": {},
   "source": [
    "## 2. Gaussian Blurring\n",
    "In this method, instead of a box filter, a Gaussian kernel is used. It is done with the function, cv.GaussianBlur(). We should specify the width and height of the kernel which should be positive and odd. We also should specify the standard deviation in the X and Y directions, sigmaX and sigmaY respectively. If only sigmaX is specified, sigmaY is taken as the same as sigmaX. If both are given as zeros, they are calculated from the kernel size. Gaussian blurring is highly effective in removing Gaussian noise from an image.\n",
    "\n",
    "If you want, you can create a Gaussian kernel with the function, cv.getGaussianKernel().\n",
    "\n",
    "The above code can be modified for Gaussian blurring:\n",
    "\n"
   ]
  },
  {
   "cell_type": "code",
   "execution_count": null,
   "id": "dd544987",
   "metadata": {},
   "outputs": [],
   "source": [
    "blur = cv.GaussianBlur(img,(5,5),0)"
   ]
  },
  {
   "cell_type": "markdown",
   "id": "b3adc817",
   "metadata": {},
   "source": [
    "![gau](gaussian.jpg)"
   ]
  },
  {
   "cell_type": "markdown",
   "id": "6dfb430c",
   "metadata": {},
   "source": [
    "## 3. Median Blurring\n",
    "Here, the function cv.medianBlur() takes the median of all the pixels under the kernel area and the central element is replaced with this median value. This is highly effective against salt-and-pepper noise in an image. Interestingly, in the above filters, the central element is a newly calculated value which may be a pixel value in the image or a new value. But in median blurring, the central element is always replaced by some pixel value in the image. It reduces the noise effectively. Its kernel size should be a positive odd integer.\n",
    "\n",
    "In this demo, I added a 50% noise to our original image and applied median blurring. Check the result:\n",
    "\n"
   ]
  },
  {
   "cell_type": "code",
   "execution_count": null,
   "id": "595bec41",
   "metadata": {},
   "outputs": [],
   "source": [
    "median = cv.medianBlur(img,5)"
   ]
  },
  {
   "cell_type": "markdown",
   "id": "863bfa1b",
   "metadata": {},
   "source": [
    "![median](median.jpg)"
   ]
  },
  {
   "cell_type": "markdown",
   "id": "640a1913",
   "metadata": {},
   "source": [
    "## 4. Bilateral Filtering\n",
    "cv.bilateralFilter() is highly effective in noise removal while keeping edges sharp. But the operation is slower compared to other filters. We already saw that a Gaussian filter takes the neighbourhood around the pixel and finds its Gaussian weighted average. This Gaussian filter is a function of space alone, that is, nearby pixels are considered while filtering. It doesn't consider whether pixels have almost the same intensity. It doesn't consider whether a pixel is an edge pixel or not. So it blurs the edges also, which we don't want to do.\n",
    "\n",
    "Bilateral filtering also takes a Gaussian filter in space, but one more Gaussian filter which is a function of pixel difference. The Gaussian function of space makes sure that only nearby pixels are considered for blurring, while the Gaussian function of intensity difference makes sure that only those pixels with similar intensities to the central pixel are considered for blurring. So it preserves the edges since pixels at edges will have large intensity variation.\n",
    "\n",
    "The below sample shows use of a bilateral filter (For details on arguments, visit docs)."
   ]
  },
  {
   "cell_type": "code",
   "execution_count": null,
   "id": "136b9ffe",
   "metadata": {},
   "outputs": [],
   "source": [
    "blur = cv.bilateralFilter(img,9,75,75)"
   ]
  },
  {
   "cell_type": "markdown",
   "id": "b41c2258",
   "metadata": {},
   "source": [
    "![bilateral](bilateral.jpg)"
   ]
  },
  {
   "cell_type": "markdown",
   "id": "8328a2af",
   "metadata": {},
   "source": [
    "# Morphological Transformations\n",
    "\n",
    "We will learn different morphological operations like Erosion, Dilation, Opening, Closing etc.\n",
    "\n",
    "We will see different functions like : cv.erode(), cv.dilate(), cv.morphologyEx() etc."
   ]
  },
  {
   "cell_type": "markdown",
   "id": "a054759d",
   "metadata": {},
   "source": [
    "Morphological transformations are some simple operations based on the image shape. It is normally performed on binary images. It needs two inputs, one is our original image, second one is called structuring element or kernel which decides the nature of operation. Two basic morphological operators are Erosion and Dilation. Then its variant forms like Opening, Closing, Gradient etc also comes into play. We will see them one-by-one with help of following image:"
   ]
  },
  {
   "cell_type": "markdown",
   "id": "5b92f996",
   "metadata": {},
   "source": [
    "![j](j.png)"
   ]
  },
  {
   "cell_type": "markdown",
   "id": "cb3fdeb4",
   "metadata": {},
   "source": [
    "## 1. Erosion\n",
    "The basic idea of erosion is just like soil erosion only, it erodes away the boundaries of foreground object (Always try to keep foreground in white). So what it does? The kernel slides through the image (as in 2D convolution). A pixel in the original image (either 1 or 0) will be considered 1 only if all the pixels under the kernel is 1, otherwise it is eroded (made to zero).\n",
    "\n",
    "So what happends is that, all the pixels near boundary will be discarded depending upon the size of kernel. So the thickness or size of the foreground object decreases or simply white region decreases in the image. It is useful for removing small white noises (as we have seen in colorspace chapter), detach two connected objects etc.\n",
    "\n",
    "Here, as an example, I would use a 5x5 kernel with full of ones. Let's see it how it works:"
   ]
  },
  {
   "cell_type": "code",
   "execution_count": null,
   "id": "94d91a05",
   "metadata": {},
   "outputs": [],
   "source": [
    "import cv2 as cv\n",
    "import numpy as np\n",
    "img = cv.imread('j.png',0)\n",
    "kernel = np.ones((5,5),np.uint8)\n",
    "erosion = cv.erode(img,kernel,iterations = 1)"
   ]
  },
  {
   "cell_type": "markdown",
   "id": "5d1fc223",
   "metadata": {},
   "source": [
    "![erosion](erosion.png)"
   ]
  },
  {
   "cell_type": "markdown",
   "id": "84d1d92b",
   "metadata": {},
   "source": [
    "## 2. Dilation\n",
    "It is just opposite of erosion. Here, a pixel element is '1' if atleast one pixel under the kernel is '1'. So it increases the white region in the image or size of foreground object increases. Normally, in cases like noise removal, erosion is followed by dilation. Because, erosion removes white noises, but it also shrinks our object. So we dilate it. Since noise is gone, they won't come back, but our object area increases. It is also useful in joining broken parts of an object.\n",
    "\n"
   ]
  },
  {
   "cell_type": "code",
   "execution_count": null,
   "id": "d6190b2f",
   "metadata": {},
   "outputs": [],
   "source": [
    "dilation = cv.dilate(img,kernel,iterations = 1)"
   ]
  },
  {
   "cell_type": "markdown",
   "id": "3334eac2",
   "metadata": {},
   "source": [
    "![dilation](dilation.png)"
   ]
  },
  {
   "cell_type": "markdown",
   "id": "3c831396",
   "metadata": {},
   "source": [
    "## 3. Opening\n",
    "Opening is just another name of erosion followed by dilation. It is useful in removing noise, as we explained above. Here we use the function, cv.morphologyEx()\n",
    "\n"
   ]
  },
  {
   "cell_type": "code",
   "execution_count": null,
   "id": "87d05d67",
   "metadata": {},
   "outputs": [],
   "source": [
    "opening = cv.morphologyEx(img, cv.MORPH_OPEN, kernel)"
   ]
  },
  {
   "cell_type": "markdown",
   "id": "245f0ae2",
   "metadata": {},
   "source": [
    "![open](opening.png)"
   ]
  },
  {
   "cell_type": "markdown",
   "id": "719f5918",
   "metadata": {},
   "source": [
    "## 4. Closing\n",
    "Closing is reverse of Opening, Dilation followed by Erosion. It is useful in closing small holes inside the foreground objects, or small black points on the object.\n",
    "\n"
   ]
  },
  {
   "cell_type": "code",
   "execution_count": null,
   "id": "733a9eb4",
   "metadata": {},
   "outputs": [],
   "source": [
    "closing = cv.morphologyEx(img, cv.MORPH_CLOSE, kernel)"
   ]
  },
  {
   "cell_type": "markdown",
   "id": "4e0a149f",
   "metadata": {},
   "source": [
    "![closing](closing.png)"
   ]
  },
  {
   "cell_type": "markdown",
   "id": "9341e972",
   "metadata": {},
   "source": [
    "## 5. Morphological Gradient\n",
    "It is the difference between dilation and erosion of an image.\n",
    "\n",
    "The result will look like the outline of the object.\n",
    "\n"
   ]
  },
  {
   "cell_type": "code",
   "execution_count": null,
   "id": "005cbc0f",
   "metadata": {},
   "outputs": [],
   "source": [
    "gradient = cv.morphologyEx(img, cv.MORPH_GRADIENT, kernel)"
   ]
  },
  {
   "cell_type": "markdown",
   "id": "c52714b0",
   "metadata": {},
   "source": [
    "![grad](gradient.png)"
   ]
  },
  {
   "cell_type": "markdown",
   "id": "2616bd28",
   "metadata": {},
   "source": [
    "## 6. Top Hat\n",
    "It is the difference between input image and Opening of the image. Below example is done for a 9x9 kernel.\n",
    "\n"
   ]
  },
  {
   "cell_type": "code",
   "execution_count": null,
   "id": "9d0ad61c",
   "metadata": {},
   "outputs": [],
   "source": [
    "tophat = cv.morphologyEx(img, cv.MORPH_TOPHAT, kernel)"
   ]
  },
  {
   "cell_type": "markdown",
   "id": "a3db54ad",
   "metadata": {},
   "source": [
    "![tophat](tophat.png)"
   ]
  },
  {
   "cell_type": "markdown",
   "id": "848c93c5",
   "metadata": {},
   "source": [
    "## 7. Black Hat\n",
    "It is the difference between the closing of the input image and input image.\n",
    "\n"
   ]
  },
  {
   "cell_type": "code",
   "execution_count": null,
   "id": "0d683711",
   "metadata": {},
   "outputs": [],
   "source": [
    "blackhat = cv.morphologyEx(img, cv.MORPH_BLACKHAT, kernel)"
   ]
  },
  {
   "cell_type": "markdown",
   "id": "ac33758c",
   "metadata": {},
   "source": [
    "![blackhat](blackhat.png)"
   ]
  },
  {
   "cell_type": "markdown",
   "id": "659d518a",
   "metadata": {},
   "source": [
    "## Structuring Element\n",
    "We manually created a structuring elements in the previous examples with help of Numpy. It is rectangular shape. But in some cases, you may need elliptical/circular shaped kernels. So for this purpose, OpenCV has a function, cv.getStructuringElement(). You just pass the shape and size of the kernel, you get the desired kernel."
   ]
  },
  {
   "cell_type": "code",
   "execution_count": 5,
   "id": "14a6213d",
   "metadata": {},
   "outputs": [
    {
     "data": {
      "text/plain": [
       "array([[1, 1, 1, 1, 1],\n",
       "       [1, 1, 1, 1, 1],\n",
       "       [1, 1, 1, 1, 1],\n",
       "       [1, 1, 1, 1, 1],\n",
       "       [1, 1, 1, 1, 1]], dtype=uint8)"
      ]
     },
     "execution_count": 5,
     "metadata": {},
     "output_type": "execute_result"
    }
   ],
   "source": [
    "# Rectangular Kernel\n",
    "cv.getStructuringElement(cv.MORPH_RECT,(5,5))"
   ]
  },
  {
   "cell_type": "code",
   "execution_count": 6,
   "id": "ed9b1834",
   "metadata": {},
   "outputs": [
    {
     "data": {
      "text/plain": [
       "array([[0, 0, 1, 0, 0],\n",
       "       [1, 1, 1, 1, 1],\n",
       "       [1, 1, 1, 1, 1],\n",
       "       [1, 1, 1, 1, 1],\n",
       "       [0, 0, 1, 0, 0]], dtype=uint8)"
      ]
     },
     "execution_count": 6,
     "metadata": {},
     "output_type": "execute_result"
    }
   ],
   "source": [
    "# Elliptical Kernel\n",
    "cv.getStructuringElement(cv.MORPH_ELLIPSE,(5,5))"
   ]
  },
  {
   "cell_type": "code",
   "execution_count": 7,
   "id": "ff530d36",
   "metadata": {},
   "outputs": [
    {
     "data": {
      "text/plain": [
       "array([[0, 0, 1, 0, 0],\n",
       "       [0, 0, 1, 0, 0],\n",
       "       [1, 1, 1, 1, 1],\n",
       "       [0, 0, 1, 0, 0],\n",
       "       [0, 0, 1, 0, 0]], dtype=uint8)"
      ]
     },
     "execution_count": 7,
     "metadata": {},
     "output_type": "execute_result"
    }
   ],
   "source": [
    "# Cross-shaped Kernel\n",
    "cv.getStructuringElement(cv.MORPH_CROSS,(5,5))"
   ]
  },
  {
   "cell_type": "markdown",
   "id": "d4fbeab0",
   "metadata": {},
   "source": [
    "# Image Gradients\n",
    "\n",
    "Find Image gradients, edges etc\n",
    "\n",
    "We will see following functions : cv.Sobel(), cv.Scharr(), cv.Laplacian() etc"
   ]
  },
  {
   "cell_type": "markdown",
   "id": "fbe8294d",
   "metadata": {},
   "source": [
    "OpenCV provides three types of gradient filters or High-pass filters, Sobel, Scharr and Laplacian. We will see each one of them.\n",
    "\n",
    "## 1. Sobel and Scharr Derivatives\n",
    "Sobel operators is a joint Gausssian smoothing plus differentiation operation, so it is more resistant to noise. You can specify the direction of derivatives to be taken, vertical or horizontal (by the arguments, yorder and xorder respectively). You can also specify the size of kernel by the argument ksize. If ksize = -1, a 3x3 Scharr filter is used which gives better results than 3x3 Sobel filter. Please see the docs for kernels used.\n",
    "\n",
    "## 2. Laplacian Derivatives\n",
    "It calculates the Laplacian of the image given by the relation, \n",
    "Δsrc=(∂2src/∂x2)+(∂2src/∂y2)\n",
    "where each derivative is found using Sobel derivatives. If ksize = 1, then following kernel is used for filtering:\n"
   ]
  },
  {
   "cell_type": "markdown",
   "id": "76e81271",
   "metadata": {},
   "source": [
    "![lapla](lapla.png)"
   ]
  },
  {
   "cell_type": "markdown",
   "id": "ffb97754",
   "metadata": {},
   "source": [
    "\n",
    "\n",
    "## Code\n",
    "Below code shows all operators in a single diagram. All kernels are of 5x5 size. Depth of output image is passed -1 to get the result in np.uint8 type.\n",
    "\n"
   ]
  },
  {
   "cell_type": "code",
   "execution_count": null,
   "id": "c221964c",
   "metadata": {},
   "outputs": [],
   "source": [
    "import numpy as np\n",
    "import cv2 as cv\n",
    "from matplotlib import pyplot as plt\n",
    "img = cv.imread('dave.jpg',0)\n",
    "laplacian = cv.Laplacian(img,cv.CV_64F)\n",
    "sobelx = cv.Sobel(img,cv.CV_64F,1,0,ksize=5)\n",
    "sobely = cv.Sobel(img,cv.CV_64F,0,1,ksize=5)\n",
    "plt.subplot(2,2,1),plt.imshow(img,cmap = 'gray')\n",
    "plt.title('Original'), plt.xticks([]), plt.yticks([])\n",
    "plt.subplot(2,2,2),plt.imshow(laplacian,cmap = 'gray')\n",
    "plt.title('Laplacian'), plt.xticks([]), plt.yticks([])\n",
    "plt.subplot(2,2,3),plt.imshow(sobelx,cmap = 'gray')\n",
    "plt.title('Sobel X'), plt.xticks([]), plt.yticks([])\n",
    "plt.subplot(2,2,4),plt.imshow(sobely,cmap = 'gray')\n",
    "plt.title('Sobel Y'), plt.xticks([]), plt.yticks([])\n",
    "plt.show()"
   ]
  },
  {
   "cell_type": "markdown",
   "id": "068ac05f",
   "metadata": {},
   "source": [
    "![gardients](gradients.jpg)"
   ]
  },
  {
   "cell_type": "markdown",
   "id": "74108c13",
   "metadata": {},
   "source": [
    "## One Important Matter!\n",
    "In our last example, output datatype is cv.CV_8U or np.uint8. But there is a slight problem with that. Black-to-White transition is taken as Positive slope (it has a positive value) while White-to-Black transition is taken as a Negative slope (It has negative value). So when you convert data to np.uint8, all negative slopes are made zero. In simple words, you miss that edge.\n",
    "\n",
    "If you want to detect both edges, better option is to keep the output datatype to some higher forms, like cv.CV_16S, cv.CV_64F etc, take its absolute value and then convert back to cv.CV_8U. Below code demonstrates this procedure for a horizontal Sobel filter and difference in results.\n",
    "\n"
   ]
  },
  {
   "cell_type": "code",
   "execution_count": null,
   "id": "4a2abe83",
   "metadata": {},
   "outputs": [],
   "source": [
    "import numpy as np\n",
    "import cv2 as cv\n",
    "from matplotlib import pyplot as plt\n",
    "img = cv.imread('box.png',0)\n",
    "# Output dtype = cv.CV_8U\n",
    "sobelx8u = cv.Sobel(img,cv.CV_8U,1,0,ksize=5)\n",
    "# Output dtype = cv.CV_64F. Then take its absolute and convert to cv.CV_8U\n",
    "sobelx64f = cv.Sobel(img,cv.CV_64F,1,0,ksize=5)\n",
    "abs_sobel64f = np.absolute(sobelx64f)\n",
    "sobel_8u = np.uint8(abs_sobel64f)\n",
    "plt.subplot(1,3,1),plt.imshow(img,cmap = 'gray')\n",
    "plt.title('Original'), plt.xticks([]), plt.yticks([])\n",
    "plt.subplot(1,3,2),plt.imshow(sobelx8u,cmap = 'gray')\n",
    "plt.title('Sobel CV_8U'), plt.xticks([]), plt.yticks([])\n",
    "plt.subplot(1,3,3),plt.imshow(sobel_8u,cmap = 'gray')\n",
    "plt.title('Sobel abs(CV_64F)'), plt.xticks([]), plt.yticks([])\n",
    "plt.show()"
   ]
  },
  {
   "cell_type": "markdown",
   "id": "f037b624",
   "metadata": {},
   "source": [
    "![de](double_edge.jpg)"
   ]
  },
  {
   "cell_type": "markdown",
   "id": "4ddfe778",
   "metadata": {},
   "source": [
    "# Canny Edge Detection\n",
    "Concept of Canny edge detection\n",
    "\n",
    "OpenCV functions for that : cv.Canny()\n"
   ]
  },
  {
   "cell_type": "markdown",
   "id": "5c2e72eb",
   "metadata": {},
   "source": [
    "Canny Edge Detection is a popular edge detection algorithm. It was developed by John F. Canny\n",
    "\n",
    "It is a multi-stage algorithm and we will go through each stages.\n",
    "\n",
    "\n",
    "1. Noise Reduction\n",
    "\n",
    "Since edge detection is susceptible to noise in the image, first step is to remove the noise in the image with a 5x5 Gaussian filter. We have already seen this in previous chapters.\n",
    "\n",
    "2. Finding Intensity Gradient of the Image\n",
    "\n",
    "Smoothened image is then filtered with a Sobel kernel in both horizontal and vertical direction to get first derivative in horizontal direction ( Gx) and vertical direction ( Gy). From these two images, we can find edge gradient and direction for each pixel as follows:"
   ]
  },
  {
   "cell_type": "markdown",
   "id": "e7da90e4",
   "metadata": {},
   "source": [
    "Edge_Gradient (G) = sqrt(sq(Gx) + sq(Gy))\n",
    "\n",
    "Angle = tanInv(Gy/Gx)\n",
    "\n",
    "Gradient direction is always perpendicular to edges. It is rounded to one of four angles representing vertical, horizontal and two diagonal directions.\n",
    "\n"
   ]
  },
  {
   "cell_type": "markdown",
   "id": "666ddcae",
   "metadata": {},
   "source": [
    "3. Non-maximum Suppression\n",
    "\n",
    "After getting gradient magnitude and direction, a full scan of image is done to remove any unwanted pixels which may not constitute the edge. For this, at every pixel, pixel is checked if it is a local maximum in its neighborhood in the direction of gradient. Check the image below:"
   ]
  },
  {
   "cell_type": "markdown",
   "id": "59507ebd",
   "metadata": {},
   "source": [
    "![nms](nms.png)"
   ]
  },
  {
   "cell_type": "markdown",
   "id": "facbc229",
   "metadata": {},
   "source": [
    "Point A is on the edge ( in vertical direction). Gradient direction is normal to the edge. Point B and C are in gradient directions. So point A is checked with point B and C to see if it forms a local maximum. If so, it is considered for next stage, otherwise, it is suppressed ( put to zero).\n",
    "\n",
    "In short, the result you get is a binary image with \"thin edges\".\n",
    "\n",
    "4. Hysteresis Thresholding\n",
    "\n",
    "This stage decides which are all edges are really edges and which are not. For this, we need two threshold values, minVal and maxVal. Any edges with intensity gradient more than maxVal are sure to be edges and those below minVal are sure to be non-edges, so discarded. Those who lie between these two thresholds are classified edges or non-edges based on their connectivity. If they are connected to \"sure-edge\" pixels, they are considered to be part of edges. Otherwise, they are also discarded. See the image below:"
   ]
  },
  {
   "cell_type": "markdown",
   "id": "94cad641",
   "metadata": {},
   "source": [
    "![hysteresis](hysteresis.png)"
   ]
  },
  {
   "cell_type": "markdown",
   "id": "2eba9d88",
   "metadata": {},
   "source": [
    "The edge A is above the maxVal, so considered as \"sure-edge\". Although edge C is below maxVal, it is connected to edge A, so that also considered as valid edge and we get that full curve. But edge B, although it is above minVal and is in same region as that of edge C, it is not connected to any \"sure-edge\", so that is discarded. So it is very important that we have to select minVal and maxVal accordingly to get the correct result.\n",
    "\n",
    "This stage also removes small pixels noises on the assumption that edges are long lines.\n",
    "\n",
    "So what we finally get is strong edges in the image."
   ]
  },
  {
   "cell_type": "markdown",
   "id": "841abdac",
   "metadata": {},
   "source": [
    "## Canny Edge Detection in OpenCV\n",
    "OpenCV puts all the above in single function, cv.Canny(). We will see how to use it. First argument is our input image. Second and third arguments are our minVal and maxVal respectively. Third argument is aperture_size. It is the size of Sobel kernel used for find image gradients. By default it is 3. Last argument is L2gradient which specifies the equation for finding gradient magnitude. If it is True, it uses the equation mentioned above which is more accurate, otherwise it uses this function: \n",
    "\n",
    "Edge_Gradient(G)=|Gx|+|Gy|. \n",
    "\n",
    "By default, it is False."
   ]
  },
  {
   "cell_type": "code",
   "execution_count": null,
   "id": "c667360e",
   "metadata": {},
   "outputs": [],
   "source": [
    "import numpy as np\n",
    "import cv2 as cv\n",
    "from matplotlib import pyplot as plt\n",
    "img = cv.imread('messi5.jpg',0)\n",
    "edges = cv.Canny(img,100,200)\n",
    "plt.subplot(121),plt.imshow(img,cmap = 'gray')\n",
    "plt.title('Original Image'), plt.xticks([]), plt.yticks([])\n",
    "plt.subplot(122),plt.imshow(edges,cmap = 'gray')\n",
    "plt.title('Edge Image'), plt.xticks([]), plt.yticks([])\n",
    "plt.show()"
   ]
  },
  {
   "cell_type": "markdown",
   "id": "b75aa786",
   "metadata": {},
   "source": [
    "![canny](canny1.jpg)"
   ]
  },
  {
   "cell_type": "markdown",
   "id": "4aeba9fd",
   "metadata": {},
   "source": [
    "# Image Pyramids\n",
    "\n",
    "We will learn about Image Pyramids\n",
    "\n",
    "We will use Image pyramids to create a new fruit, \"Orapple\"\n",
    "\n",
    "We will see these functions: cv.pyrUp(), cv.pyrDown()"
   ]
  },
  {
   "cell_type": "markdown",
   "id": "72663150",
   "metadata": {},
   "source": [
    "Normally, we used to work with an image of constant size. But on some occasions, we need to work with (the same) images in different resolution. For example, while searching for something in an image, like face, we are not sure at what size the object will be present in said image. In that case, we will need to create a set of the same image with different resolutions and search for object in all of them. These set of images with different resolutions are called Image Pyramids (because when they are kept in a stack with the highest resolution image at the bottom and the lowest resolution image at top, it looks like a pyramid).\n",
    "\n",
    "There are two kinds of Image Pyramids. 1) **Gaussian Pyramid** and 2) **Laplacian Pyramids**\n",
    "\n",
    "Higher level (Low resolution) in a Gaussian Pyramid is formed by removing consecutive rows and columns in Lower level (higher resolution) image. Then each pixel in higher level is formed by the contribution from 5 pixels in underlying level with gaussian weights. By doing so, a M×N image becomes M/2×N/2 image. So area reduces to one-fourth of original area. It is called an Octave. The same pattern continues as we go upper in pyramid (ie, resolution decreases). Similarly while expanding, area becomes 4 times in each level. We can find Gaussian pyramids using cv.pyrDown() and cv.pyrUp() functions.\n",
    "\n",
    "\n"
   ]
  },
  {
   "cell_type": "code",
   "execution_count": null,
   "id": "ea5c2923",
   "metadata": {},
   "outputs": [],
   "source": [
    "img = cv.imread('messi5.jpg')\n",
    "lower_reso = cv.pyrDown(higher_reso)"
   ]
  },
  {
   "cell_type": "markdown",
   "id": "e2708dcb",
   "metadata": {},
   "source": [
    "![messi](messipyr.jpg)"
   ]
  },
  {
   "cell_type": "code",
   "execution_count": 13,
   "id": "5d773a19",
   "metadata": {},
   "outputs": [],
   "source": [
    "higher_reso2 = cv.pyrUp(lower_reso)"
   ]
  },
  {
   "cell_type": "markdown",
   "id": "4f3e8cf6",
   "metadata": {},
   "source": [
    "Remember, higher_reso2 is not equal to img, because once you decrease the resolution, you loose the information. Below image is 3 level down the pyramid created from smallest image in previous case. "
   ]
  },
  {
   "cell_type": "markdown",
   "id": "8e51f9d8",
   "metadata": {},
   "source": [
    "![messiup](messiup.jpg)"
   ]
  },
  {
   "cell_type": "markdown",
   "id": "22f6d19d",
   "metadata": {},
   "source": [
    "Laplacian Pyramids are formed from the Gaussian Pyramids. There is no exclusive function for that. Laplacian pyramid images are like edge images only. Most of its elements are zeros. They are used in image compression. A level in Laplacian Pyramid is formed by the difference between that level in Gaussian Pyramid and expanded version of its upper level in Gaussian Pyramid. The three levels of a Laplacian level will look like below (contrast is adjusted to enhance the contents):"
   ]
  },
  {
   "cell_type": "markdown",
   "id": "11495862",
   "metadata": {},
   "source": [
    "![lap](lap.jpg)"
   ]
  },
  {
   "cell_type": "markdown",
   "id": "f1a073a7",
   "metadata": {},
   "source": [
    "## Image Blending using Pyramids\n",
    "One application of Pyramids is Image Blending. For example, in image stitching, you will need to stack two images together, but it may not look good due to discontinuities between images. In that case, image blending with Pyramids gives you seamless blending without leaving much data in the images. One classical example of this is the blending of two fruits, Orange and Apple. See the result now itself to understand what I am saying:"
   ]
  },
  {
   "cell_type": "markdown",
   "id": "51142ed3",
   "metadata": {},
   "source": [
    "![opapple](orapple.jpg)"
   ]
  },
  {
   "cell_type": "markdown",
   "id": "e6cb67ad",
   "metadata": {},
   "source": [
    "Load the two images of apple and orange\n",
    "Find the Gaussian Pyramids for apple and orange (in this particular example, number of levels is 6)\n",
    "From Gaussian Pyramids, find their Laplacian Pyramids\n",
    "Now join the left half of apple and right half of orange in each levels of Laplacian Pyramids\n",
    "Finally from this joint image pyramids, reconstruct the original image.\n",
    "Below is the full code. (For sake of simplicity, each step is done separately which may take more memory. You can optimize it if you want so)."
   ]
  },
  {
   "cell_type": "code",
   "execution_count": null,
   "id": "c2002957",
   "metadata": {},
   "outputs": [],
   "source": [
    "import cv2 as cv\n",
    "import numpy as np,sys\n",
    "A = cv.imread('apple.jpg')\n",
    "B = cv.imread('orange.jpg')\n",
    "# generate Gaussian pyramid for A\n",
    "G = A.copy()\n",
    "gpA = [G]\n",
    "for i in range(6):\n",
    "    G = cv.pyrDown(G)\n",
    "    gpA.append(G)\n",
    "# generate Gaussian pyramid for B\n",
    "G = B.copy()\n",
    "gpB = [G]\n",
    "for i in range(6):\n",
    "    G = cv.pyrDown(G)\n",
    "    gpB.append(G)\n",
    "# generate Laplacian Pyramid for A\n",
    "lpA = [gpA[5]]\n",
    "for i in range(5,0,-1):\n",
    "    GE = cv.pyrUp(gpA[i])\n",
    "    L = cv.subtract(gpA[i-1],GE)\n",
    "    lpA.append(L)\n",
    "# generate Laplacian Pyramid for B\n",
    "lpB = [gpB[5]]\n",
    "for i in range(5,0,-1):\n",
    "    GE = cv.pyrUp(gpB[i])\n",
    "    L = cv.subtract(gpB[i-1],GE)\n",
    "    lpB.append(L)\n",
    "# Now add left and right halves of images in each level\n",
    "LS = []\n",
    "for la,lb in zip(lpA,lpB):\n",
    "    rows,cols,dpt = la.shape\n",
    "    ls = np.hstack((la[:,0:cols/2], lb[:,cols/2:]))\n",
    "    LS.append(ls)\n",
    "# now reconstruct\n",
    "ls_ = LS[0]\n",
    "for i in range(1,6):\n",
    "    ls_ = cv.pyrUp(ls_)\n",
    "    ls_ = cv.add(ls_, LS[i])\n",
    "# image with direct connecting each half\n",
    "real = np.hstack((A[:,:cols/2],B[:,cols/2:]))\n",
    "cv.imwrite('Pyramid_blending2.jpg',ls_)\n",
    "cv.imwrite('Direct_blending.jpg',real)"
   ]
  },
  {
   "cell_type": "markdown",
   "id": "184e0083",
   "metadata": {},
   "source": [
    "# Contours in OpenCV"
   ]
  },
  {
   "cell_type": "markdown",
   "id": "da90cc16",
   "metadata": {},
   "source": [
    "Understand what contours are.\n",
    "\n",
    "Learn to find contours, draw contours etc\n",
    "\n",
    "You will see these functions : cv.findContours(), cv.drawContours()"
   ]
  },
  {
   "cell_type": "markdown",
   "id": "26440138",
   "metadata": {},
   "source": [
    "## What are contours?\n",
    "Contours can be explained simply as a curve joining all the continuous points (along the boundary), having same color or intensity. The contours are a useful tool for shape analysis and object detection and recognition.\n",
    "\n",
    "For better accuracy, use binary images. So before finding contours, apply threshold or canny edge detection.\n",
    "Since OpenCV 3.2, findContours() no longer modifies the source image.\n",
    "In OpenCV, finding contours is like finding white object from black background. So remember, object to be found should be white and background should be black.\n",
    "Let's see how to find contours of a binary image:\n",
    "\n",
    "\n",
    "\n",
    "\n"
   ]
  },
  {
   "cell_type": "code",
   "execution_count": 36,
   "id": "6b5e5376",
   "metadata": {},
   "outputs": [],
   "source": [
    "import numpy as np\n",
    "import cv2 as cv\n",
    "im = cv.imread(\"./Landscape-Color.jpg\")\n",
    "imgray = cv.cvtColor(im, cv.COLOR_BGR2GRAY)\n",
    "ret, thresh = cv.threshold(imgray, 127, 255, 0)\n",
    "contours, hierarchy = cv.findContours(thresh, cv.RETR_TREE, cv.CHAIN_APPROX_SIMPLE)"
   ]
  },
  {
   "cell_type": "markdown",
   "id": "355be75b",
   "metadata": {},
   "source": [
    "See, there are three arguments in cv.findContours() function, first one is source image, second is contour retrieval mode, third is contour approximation method. And it outputs the contours and hierarchy. Contours is a Python list of all the contours in the image. Each individual contour is a Numpy array of (x,y) coordinates of boundary points of the object."
   ]
  },
  {
   "cell_type": "markdown",
   "id": "11c27bb4",
   "metadata": {},
   "source": [
    "## How to draw the contours?\n",
    "To draw the contours, cv.drawContours function is used. It can also be used to draw any shape provided you have its boundary points. Its first argument is source image, second argument is the contours which should be passed as a Python list, third argument is index of contours (useful when drawing individual contour. To draw all contours, pass -1) and remaining arguments are color, thickness etc.\n",
    "\n"
   ]
  },
  {
   "cell_type": "code",
   "execution_count": 39,
   "id": "c786dc92",
   "metadata": {},
   "outputs": [
    {
     "data": {
      "text/plain": [
       "array([[[ 19,   2, 147],\n",
       "        [ 17,   0, 115],\n",
       "        [ 16,   0, 102],\n",
       "        ...,\n",
       "        [ 32,  24,  65],\n",
       "        [ 29,  24,  63],\n",
       "        [ 32,  24,  65]],\n",
       "\n",
       "       [[ 24,  10, 165],\n",
       "        [ 18,   1, 122],\n",
       "        [ 21,   1,  98],\n",
       "        ...,\n",
       "        [ 35,  24,  62],\n",
       "        [ 31,  23,  60],\n",
       "        [ 30,  23,  60]],\n",
       "\n",
       "       [[ 20,   8, 144],\n",
       "        [ 21,   0, 109],\n",
       "        [ 39,   0, 115],\n",
       "        ...,\n",
       "        [ 41,  32,  65],\n",
       "        [ 36,  26,  62],\n",
       "        [ 33,  26,  61]],\n",
       "\n",
       "       ...,\n",
       "\n",
       "       [[134, 108, 102],\n",
       "        [134, 108, 102],\n",
       "        [135, 109, 102],\n",
       "        ...,\n",
       "        [125,  91,  75],\n",
       "        [125,  91,  75],\n",
       "        [126,  92,  76]],\n",
       "\n",
       "       [[132, 106, 100],\n",
       "        [133, 107, 100],\n",
       "        [131, 105,  98],\n",
       "        ...,\n",
       "        [123,  89,  73],\n",
       "        [124,  91,  72],\n",
       "        [124,  90,  74]],\n",
       "\n",
       "       [[133, 107, 101],\n",
       "        [132, 106, 100],\n",
       "        [129, 103,  97],\n",
       "        ...,\n",
       "        [125,  89,  73],\n",
       "        [124,  90,  74],\n",
       "        [123,  92,  71]]], dtype=uint8)"
      ]
     },
     "execution_count": 39,
     "metadata": {},
     "output_type": "execute_result"
    }
   ],
   "source": [
    "# To draw all the contours in an image:\n",
    "cv.drawContours(img, contours, -1, (0,255,0), 3)"
   ]
  },
  {
   "cell_type": "code",
   "execution_count": 40,
   "id": "e064eada",
   "metadata": {},
   "outputs": [
    {
     "data": {
      "text/plain": [
       "<matplotlib.image.AxesImage at 0x7fbc77ce5400>"
      ]
     },
     "execution_count": 40,
     "metadata": {},
     "output_type": "execute_result"
    },
    {
     "data": {
      "image/png": "[encoded data removed]",
      "text/plain": [
       "<Figure size 432x288 with 1 Axes>"
      ]
     },
     "metadata": {
      "needs_background": "light"
     },
     "output_type": "display_data"
    }
   ],
   "source": [
    "plt.imshow(img)"
   ]
  },
  {
   "cell_type": "markdown",
   "id": "d6f65ed8",
   "metadata": {},
   "source": [
    "## Contour Approximation Method\n",
    "This is the third argument in cv.findContours function. What does it denote actually?\n",
    "\n",
    "Above, we told that contours are the boundaries of a shape with same intensity. It stores the (x,y) coordinates of the boundary of a shape. But does it store all the coordinates ? That is specified by this contour approximation method.\n",
    "\n",
    "If you pass **cv.CHAIN_APPROX_NONE**, all the boundary points are stored. But actually do we need all the points? For eg, you found the contour of a straight line. Do you need all the points on the line to represent that line? No, we need just two end points of that line. This is what **cv.CHAIN_APPROX_SIMPLE** does. It removes all redundant points and compresses the contour, thereby saving memory.\n",
    "\n",
    "Below image of a rectangle demonstrate this technique. Just draw a circle on all the coordinates in the contour array (drawn in blue color). First image shows points I got with cv.CHAIN_APPROX_NONE (734 points) and second image shows the one with cv.CHAIN_APPROX_SIMPLE (only 4 points). See, how much memory it saves!!!"
   ]
  },
  {
   "cell_type": "markdown",
   "id": "0b4b18dd",
   "metadata": {},
   "source": [
    "![none](none.jpg)"
   ]
  },
  {
   "cell_type": "markdown",
   "id": "b88a5dcb",
   "metadata": {},
   "source": [
    "## Contour Features\n",
    "In this article, we will learn\n",
    "\n",
    "To find the different features of contours, like area, perimeter, centroid, bounding box etc\n",
    "\n",
    "You will see plenty of functions related to contours."
   ]
  },
  {
   "cell_type": "markdown",
   "id": "eaa32a22",
   "metadata": {},
   "source": [
    "1. Moments\n",
    "\n",
    "Image moments help you to calculate some features like center of mass of the object, area of the object etc. Check out the wikipedia page on Image Moments\n",
    "\n",
    "The function cv.moments() gives a dictionary of all moment values calculated. See below:\n",
    "\n",
    "\n"
   ]
  },
  {
   "cell_type": "code",
   "execution_count": 46,
   "id": "bcef59b4",
   "metadata": {},
   "outputs": [
    {
     "name": "stdout",
     "output_type": "stream",
     "text": [
      "{'m00': 2556801.0, 'm10': 2044162399.5, 'm01': 2044162399.5, 'm20': 2179077117867.0, 'm11': 1634307838400.25, 'm02': 2179077117867.0, 'm30': 2613258233602000.0, 'm21': 1742172155734666.8, 'm12': 1742172155734666.8, 'm03': 2613258233602000.0, 'mu20': 544769279466.75, 'mu11': 0.0, 'mu02': 544769279466.75, 'mu30': 0.0, 'mu21': 0.125, 'mu12': 0.125, 'mu03': 0.0, 'nu20': 0.08333333333333334, 'nu11': 0.0, 'nu02': 0.08333333333333334, 'nu30': 0.0, 'nu21': 1.195825180924672e-17, 'nu12': 1.195825180924672e-17, 'nu03': 0.0}\n"
     ]
    }
   ],
   "source": [
    "import numpy as np\n",
    "import cv2 as cv\n",
    "img = cv.imread('circle-hd.png',0)\n",
    "ret,thresh = cv.threshold(img,127,255,0)\n",
    "contours,hierarchy = cv.findContours(thresh, cv.RETR_TREE, cv.CHAIN_APPROX_SIMPLE)\n",
    "cnt = contours[0]\n",
    "M = cv.moments(cnt)\n",
    "print( M )"
   ]
  },
  {
   "cell_type": "code",
   "execution_count": 50,
   "id": "639c90ce",
   "metadata": {},
   "outputs": [
    {
     "data": {
      "text/plain": [
       "<matplotlib.image.AxesImage at 0x7fbc778a53d0>"
      ]
     },
     "execution_count": 50,
     "metadata": {},
     "output_type": "execute_result"
    },
    {
     "data": {
      "image/png": "[encoded data removed]",
      "text/plain": [
       "<Figure size 432x288 with 1 Axes>"
      ]
     },
     "metadata": {
      "needs_background": "light"
     },
     "output_type": "display_data"
    }
   ],
   "source": [
    "plt.imshow(img)"
   ]
  },
  {
   "cell_type": "markdown",
   "id": "7d0d03fc",
   "metadata": {},
   "source": [
    "From this moments, you can extract useful data like area, centroid etc."
   ]
  },
  {
   "cell_type": "code",
   "execution_count": 47,
   "id": "f4c6974e",
   "metadata": {},
   "outputs": [],
   "source": [
    "cx = int(M['m10']/M['m00'])\n",
    "cy = int(M['m01']/M['m00'])"
   ]
  },
  {
   "cell_type": "markdown",
   "id": "7ab9203e",
   "metadata": {},
   "source": [
    "2. Contour Area\n",
    "\n",
    "Contour area is given by the function cv.contourArea() or from moments, M['m00'].\n",
    "\n"
   ]
  },
  {
   "cell_type": "code",
   "execution_count": 51,
   "id": "9e71e007",
   "metadata": {},
   "outputs": [],
   "source": [
    "area = cv.contourArea(cnt)"
   ]
  },
  {
   "cell_type": "markdown",
   "id": "609014fc",
   "metadata": {},
   "source": [
    "3. Contour Perimeter\n",
    "\n",
    "It is also called arc length. It can be found out using cv.arcLength() function. Second argument specify whether shape is a closed contour (if passed True), or just a curve.\n",
    "\n"
   ]
  },
  {
   "cell_type": "code",
   "execution_count": 54,
   "id": "42946b91",
   "metadata": {},
   "outputs": [],
   "source": [
    "perimeter = cv.arcLength(cnt,True)"
   ]
  },
  {
   "cell_type": "markdown",
   "id": "35a80fc8",
   "metadata": {},
   "source": [
    "4. Contour Approximation\n",
    "\n",
    "It approximates a contour shape to another shape with less number of vertices depending upon the precision we specify. It is an implementation of Douglas-Peucker algorithm. Check the wikipedia page for algorithm and demonstration.\n",
    "\n",
    "To understand this, suppose you are trying to find a square in an image, but due to some problems in the image, you didn't get a perfect square, but a \"bad shape\" (As shown in first image below). Now you can use this function to approximate the shape. In this, second argument is called epsilon, which is maximum distance from contour to approximated contour. It is an accuracy parameter. A wise selection of epsilon is needed to get the correct output.\n",
    "\n"
   ]
  },
  {
   "cell_type": "code",
   "execution_count": 57,
   "id": "808a7f97",
   "metadata": {},
   "outputs": [],
   "source": [
    "epsilon = 0.1*cv.arcLength(cnt,True)\n",
    "approx = cv.approxPolyDP(cnt,epsilon,True)"
   ]
  },
  {
   "cell_type": "markdown",
   "id": "be5e8501",
   "metadata": {},
   "source": [
    "Below, in second image, green line shows the approximated curve for epsilon = 10% of arc length. Third image shows the same for epsilon = 1% of the arc length. Third argument specifies whether curve is closed or not."
   ]
  },
  {
   "cell_type": "markdown",
   "id": "cacae9e6",
   "metadata": {},
   "source": [
    "![approx](approx.jpg)"
   ]
  },
  {
   "cell_type": "markdown",
   "id": "add21d87",
   "metadata": {},
   "source": [
    "5. Convex Hull\n",
    "\n",
    "Convex Hull will look similar to contour approximation, but it is not (Both may provide same results in some cases). Here, cv.convexHull() function checks a curve for convexity defects and corrects it. Generally speaking, convex curves are the curves which are always bulged out, or at-least flat. And if it is bulged inside, it is called convexity defects. For example, check the below image of hand. Red line shows the convex hull of hand. The double-sided arrow marks shows the convexity defects, which are the local maximum deviations of hull from contours."
   ]
  },
  {
   "cell_type": "markdown",
   "id": "4e656788",
   "metadata": {},
   "source": [
    "![convexitydefects](convexitydefects.jpg)"
   ]
  },
  {
   "cell_type": "code",
   "execution_count": null,
   "id": "288fd003",
   "metadata": {},
   "outputs": [],
   "source": [
    "hull = cv.convexHull(points[, hull[, clockwise[, returnPoints]]])"
   ]
  },
  {
   "cell_type": "markdown",
   "id": "26573c44",
   "metadata": {},
   "source": [
    "Arguments details:\n",
    "\n",
    "points are the contours we pass into.\n",
    "\n",
    "hull is the output, normally we avoid it.\n",
    "\n",
    "\n",
    "clockwise : Orientation flag. If it is True, the output convex hull is oriented clockwise. Otherwise, it is oriented counter-clockwise.\n",
    "\n",
    "returnPoints : By default, True. Then it returns the coordinates of the hull points. If False, it returns the indices of contour points corresponding to the hull points."
   ]
  },
  {
   "cell_type": "markdown",
   "id": "4cb694af",
   "metadata": {},
   "source": [
    "But if you want to find convexity defects, you need to pass returnPoints = False. To understand it, we will take the rectangle image above. First I found its contour as cnt. Now I found its convex hull with returnPoints = True, I got following values: \n",
    "\n",
    "[[[234 202]], [[ 51 202]], [[ 51 79]], [[234 79]]]\n",
    "\n",
    "which are the four corner points of rectangle. Now if do the same with returnPoints = False, I get following result: \n",
    "\n",
    "[[129],[ 67],[ 0],[142]].\n",
    "\n",
    "These are the indices of corresponding points in contours. For eg, check the first value: cnt\n",
    "[129] = [[234, 202]]\n",
    "\n",
    "which is same as first result (and so on for others)."
   ]
  },
  {
   "cell_type": "markdown",
   "id": "25af6327",
   "metadata": {},
   "source": [
    "6. Checking Convexity\n",
    "There is a function to check if a curve is convex or not, cv.isContourConvex(). It just return whether True or False. Not a big deal.\n",
    "\n"
   ]
  },
  {
   "cell_type": "code",
   "execution_count": 63,
   "id": "1355620d",
   "metadata": {},
   "outputs": [],
   "source": [
    "k = cv.isContourConvex(cnt)"
   ]
  },
  {
   "cell_type": "code",
   "execution_count": 64,
   "id": "b9acb2ea",
   "metadata": {},
   "outputs": [
    {
     "data": {
      "text/plain": [
       "True"
      ]
     },
     "execution_count": 64,
     "metadata": {},
     "output_type": "execute_result"
    }
   ],
   "source": [
    "k"
   ]
  },
  {
   "cell_type": "markdown",
   "id": "34b644ee",
   "metadata": {},
   "source": [
    "7. Bounding Rectangle\n",
    "\n",
    "7.a. Straight Bounding Rectangle\n",
    "\n",
    "It is a straight rectangle, it doesn't consider the rotation of the object. So area of the bounding rectangle won't be minimum. It is found by the function cv.boundingRect().\n",
    "\n",
    "Let (x,y) be the top-left coordinate of the rectangle and (w,h) be its width and height"
   ]
  },
  {
   "cell_type": "code",
   "execution_count": 67,
   "id": "00c401e4",
   "metadata": {},
   "outputs": [],
   "source": [
    "x,y,w,h = cv.boundingRect(cnt)\n",
    "cv.rectangle(img,(x,y),(x+w,y+h),(0,255,0),2)"
   ]
  },
  {
   "cell_type": "markdown",
   "id": "100af9ca",
   "metadata": {},
   "source": [
    "7.b. Rotated Rectangle\n",
    "\n",
    "Here, bounding rectangle is drawn with minimum area, so it considers the rotation also. The function used is cv.minAreaRect(). It returns a Box2D structure which contains following details - ( center (x,y), (width, height), angle of rotation ). But to draw this rectangle, we need 4 corners of the rectangle. It is obtained by the function cv.boxPoints()"
   ]
  },
  {
   "cell_type": "code",
   "execution_count": null,
   "id": "30f7c7f1",
   "metadata": {},
   "outputs": [],
   "source": [
    "rect = cv.minAreaRect(cnt)\n",
    "box = cv.boxPoints(rect)\n",
    "box = np.int0(box)\n",
    "cv.drawContours(img,[box],0,(0,0,255),2)"
   ]
  },
  {
   "cell_type": "markdown",
   "id": "d789c6fe",
   "metadata": {},
   "source": [
    "![boundingrect](boundingrect.png)"
   ]
  },
  {
   "cell_type": "markdown",
   "id": "94984fcf",
   "metadata": {},
   "source": [
    "8. Minimum Enclosing Circle\n",
    "\n",
    "Next we find the circumcircle of an object using the function cv.minEnclosingCircle(). It is a circle which completely covers the object with minimum area.\n",
    "\n"
   ]
  },
  {
   "cell_type": "code",
   "execution_count": null,
   "id": "c357f03b",
   "metadata": {},
   "outputs": [],
   "source": [
    "(x,y),radius = cv.minEnclosingCircle(cnt)\n",
    "center = (int(x),int(y))\n",
    "radius = int(radius)\n",
    "cv.circle(img,center,radius,(0,255,0),2)"
   ]
  },
  {
   "cell_type": "markdown",
   "id": "3dae3d98",
   "metadata": {},
   "source": [
    "![circumcircle](circumcircle.png)"
   ]
  },
  {
   "cell_type": "markdown",
   "id": "fa6236c8",
   "metadata": {},
   "source": [
    "9. Fitting an Ellipse\n",
    "\n",
    "Next one is to fit an ellipse to an object. It returns the rotated rectangle in which the ellipse is inscribed.\n",
    "\n"
   ]
  },
  {
   "cell_type": "code",
   "execution_count": null,
   "id": "51106a26",
   "metadata": {},
   "outputs": [],
   "source": [
    "ellipse = cv.fitEllipse(cnt)\n",
    "cv.ellipse(img,ellipse,(0,255,0),2)"
   ]
  },
  {
   "cell_type": "markdown",
   "id": "13e3e01b",
   "metadata": {},
   "source": [
    "![fitellipse](fitellipse.png)"
   ]
  },
  {
   "cell_type": "markdown",
   "id": "f56fb1dc",
   "metadata": {},
   "source": [
    "10. Fitting a Line\n",
    "\n",
    "Similarly we can fit a line to a set of points. Below image contains a set of white points. We can approximate a straight line to it.\n",
    "\n"
   ]
  },
  {
   "cell_type": "code",
   "execution_count": null,
   "id": "cc5a38f3",
   "metadata": {},
   "outputs": [],
   "source": [
    "rows,cols = img.shape[:2]\n",
    "[vx,vy,x,y] = cv.fitLine(cnt, cv.DIST_L2,0,0.01,0.01)\n",
    "lefty = int((-x*vy/vx) + y)\n",
    "righty = int(((cols-x)*vy/vx)+y)\n",
    "cv.line(img,(cols-1,righty),(0,lefty),(0,255,0),2)"
   ]
  },
  {
   "cell_type": "markdown",
   "id": "a4331b00",
   "metadata": {},
   "source": [
    "![fitline](fitline.jpg)"
   ]
  },
  {
   "cell_type": "markdown",
   "id": "d76fdace",
   "metadata": {},
   "source": [
    "## Contour Properties\n",
    "Here we will learn to extract some frequently used properties of objects like Solidity, Equivalent Diameter, Mask image, Mean Intensity etc. More features can be found at Matlab regionprops documentation."
   ]
  },
  {
   "cell_type": "markdown",
   "id": "662681a9",
   "metadata": {},
   "source": [
    "1. Aspect Ratio\n",
    "\n",
    "It is the ratio of width to height of bounding rect of the object.\n",
    "\n",
    "Aspect Ratio = (Width/Height)"
   ]
  },
  {
   "cell_type": "code",
   "execution_count": 68,
   "id": "af92bffd",
   "metadata": {},
   "outputs": [],
   "source": [
    "x,y,w,h = cv.boundingRect(cnt)\n",
    "aspect_ratio = float(w)/h"
   ]
  },
  {
   "cell_type": "markdown",
   "id": "2f0a530e",
   "metadata": {},
   "source": [
    "2. Extent\n",
    "\n",
    "Extent is the ratio of contour area to bounding rectangle area.\n",
    "\n",
    "Extent=(ObjectArea/Bounding Rectangle Area) \n"
   ]
  },
  {
   "cell_type": "code",
   "execution_count": 70,
   "id": "dfe19a53",
   "metadata": {},
   "outputs": [],
   "source": [
    "area = cv.contourArea(cnt)\n",
    "x,y,w,h = cv.boundingRect(cnt)\n",
    "rect_area = w*h\n",
    "extent = float(area)/rect_area"
   ]
  },
  {
   "cell_type": "markdown",
   "id": "e5ecef66",
   "metadata": {},
   "source": [
    "3. Solidity\n",
    "\n",
    "Solidity is the ratio of contour area to its convex hull area.\n",
    "\n",
    "Solidity = (ContourArea/Convex Hull Area)\n"
   ]
  },
  {
   "cell_type": "code",
   "execution_count": 73,
   "id": "f268c2a5",
   "metadata": {},
   "outputs": [],
   "source": [
    "area = cv.contourArea(cnt)\n",
    "hull = cv.convexHull(cnt)\n",
    "hull_area = cv.contourArea(hull)\n",
    "solidity = float(area)/hull_area"
   ]
  },
  {
   "cell_type": "markdown",
   "id": "a4c7c733",
   "metadata": {},
   "source": [
    "4. Equivalent Diameter\n",
    "\n",
    "Equivalent Diameter is the diameter of the circle whose area is same as the contour area.\n",
    "\n",
    "EquivalentDiameter = sqrt(4×Contour Area)/π"
   ]
  },
  {
   "cell_type": "code",
   "execution_count": 75,
   "id": "18cc76fd",
   "metadata": {},
   "outputs": [],
   "source": [
    "area = cv.contourArea(cnt)\n",
    "equi_diameter = np.sqrt(4*area/np.pi)"
   ]
  },
  {
   "cell_type": "markdown",
   "id": "6a3adaf9",
   "metadata": {},
   "source": [
    "5. Orientation\n",
    "\n",
    "Orientation is the angle at which object is directed. Following method also gives the Major Axis and Minor Axis lengths.\n",
    "\n"
   ]
  },
  {
   "cell_type": "code",
   "execution_count": 79,
   "id": "f93a69ac",
   "metadata": {},
   "outputs": [],
   "source": [
    "(x,y),(MA,ma),angle = cv.fitEllipse(cnt)"
   ]
  },
  {
   "cell_type": "markdown",
   "id": "daf0b121",
   "metadata": {},
   "source": [
    "6. Mask and Pixel Points\n",
    "\n",
    "In some cases, we may need all the points which comprises that object. It can be done as follows:\n",
    "\n",
    "\n",
    "\n"
   ]
  },
  {
   "cell_type": "code",
   "execution_count": 81,
   "id": "4f2d7cce",
   "metadata": {},
   "outputs": [],
   "source": [
    "mask = np.zeros(imgray.shape,np.uint8)\n",
    "cv.drawContours(mask,[cnt],0,255,-1)\n",
    "pixelpoints = np.transpose(np.nonzero(mask))\n",
    "#pixelpoints = cv.findNonZero(mask)\n"
   ]
  },
  {
   "cell_type": "markdown",
   "id": "8d377081",
   "metadata": {},
   "source": [
    "Here, two methods, one using Numpy functions, next one using OpenCV function (last commented line) are given to do the same. Results are also same, but with a slight difference. Numpy gives coordinates in **(row, column)** format, while OpenCV gives coordinates in **(x,y)** format. So basically the answers will be interchanged. Note that, row = y and column = x."
   ]
  },
  {
   "cell_type": "markdown",
   "id": "dbfbe82b",
   "metadata": {},
   "source": [
    "7. Extreme Points\n",
    "\n",
    "Extreme Points means topmost, bottommost, rightmost and leftmost points of the object.\n",
    "\n"
   ]
  },
  {
   "cell_type": "code",
   "execution_count": null,
   "id": "872f803e",
   "metadata": {},
   "outputs": [],
   "source": [
    "leftmost = tuple(cnt[cnt[:,:,0].argmin()][0])\n",
    "rightmost = tuple(cnt[cnt[:,:,0].argmax()][0])\n",
    "topmost = tuple(cnt[cnt[:,:,1].argmin()][0])\n",
    "bottommost = tuple(cnt[cnt[:,:,1].argmax()][0])"
   ]
  },
  {
   "cell_type": "markdown",
   "id": "8c0f934c",
   "metadata": {},
   "source": [
    "![extreme](extremepoints.jpg)"
   ]
  },
  {
   "cell_type": "markdown",
   "id": "b45d98ac",
   "metadata": {},
   "source": [
    "## Contours Hierarchy\n",
    "This time, we learn about the hierarchy of contours, i.e. the parent-child relationship in Contours."
   ]
  },
  {
   "cell_type": "markdown",
   "id": "cffeba2a",
   "metadata": {},
   "source": [
    "In the last few articles on contours, we have worked with several functions related to contours provided by OpenCV. But when we found the contours in image using cv.findContours() function, we have passed an argument, Contour Retrieval Mode. We usually passed cv.RETR_LIST or cv.RETR_TREE and it worked nice. But what does it actually mean ?\n",
    "\n",
    "Also, in the output, we got two arrays, first is our contours, and one more output which we named as hierarchy (Please checkout the codes in previous articles). But we never used this hierarchy anywhere. Then what is this hierarchy and what is it for ? What is its relationship with the previous mentioned function argument ?"
   ]
  },
  {
   "cell_type": "markdown",
   "id": "d2e187dc",
   "metadata": {},
   "source": [
    "What is Hierarchy?\n",
    "\n",
    "Normally we use the cv.findContours() function to detect objects in an image, right ? Sometimes objects are in different locations. But in some cases, some shapes are inside other shapes. Just like nested figures. In this case, we call outer one as parent and inner one as child. This way, contours in an image has some relationship to each other. And we can specify how one contour is connected to each other, like, is it child of some other contour, or is it a parent etc. Representation of this relationship is called the Hierarchy.\n",
    "\n"
   ]
  },
  {
   "cell_type": "markdown",
   "id": "b823b2ed",
   "metadata": {},
   "source": [
    "![hierarchy](hierarchy.png)"
   ]
  },
  {
   "cell_type": "markdown",
   "id": "9b4eed41",
   "metadata": {},
   "source": [
    "In this image, there are a few shapes which I have numbered from 0-5. 2 and 2a denotes the external and internal contours of the outermost box.\n",
    "\n",
    "Here, contours 0,1,2 are external or outermost. We can say, they are in hierarchy-0 or simply they are in same hierarchy level.\n",
    "\n",
    "Next comes contour-2a. It can be considered as a child of contour-2 (or in opposite way, contour-2 is parent of contour-2a). So let it be in hierarchy-1. Similarly contour-3 is child of contour-2 and it comes in next hierarchy. Finally contours 4,5 are the children of contour-3a, and they come in the last hierarchy level"
   ]
  },
  {
   "cell_type": "markdown",
   "id": "6e2b8fa8",
   "metadata": {},
   "source": [
    "I mentioned these things to understand terms like **same hierarchy level, external contour, child contour, parent contour, first child** etc. Now let's get into OpenCV."
   ]
  },
  {
   "cell_type": "markdown",
   "id": "31e38472",
   "metadata": {},
   "source": [
    "### Hierarchy Representation in OpenCV\n",
    "So each contour has its own information regarding what hierarchy it is, who is its child, who is its parent etc. OpenCV represents it as an array of four values : **[Next, Previous, First_Child, Parent]**\n",
    "\n",
    "*\"Next denotes next contour at the same hierarchical level.\"*\n",
    "For eg, take contour-0 in our picture. Who is next contour in its same level ? It is contour-1. So simply put Next = 1. Similarly for Contour-1, next is contour-2. So Next = 2.\n",
    "\n",
    "What about contour-2? There is no next contour in the same level. So simply, put Next = -1. What about contour-4? It is in same level with contour-5. So its next contour is contour-5, so Next = 5.\n",
    "\n",
    "*\"Previous denotes previous contour at the same hierarchical level.\"*\n",
    "It is same as above. Previous contour of contour-1 is contour-0 in the same level. Similarly for contour-2, it is contour-1. And for contour-0, there is no previous, so put it as -1.\n",
    "\n",
    "*\"First_Child denotes its first child contour.\"*\n",
    "There is no need of any explanation. For contour-2, child is contour-2a. So it gets the corresponding index value of contour-2a. What about contour-3a? It has two children. But we take only first child. And it is contour-4. So First_Child = 4 for contour-3a.\n",
    "\n",
    "*\"Parent denotes index of its parent contour.\"*\n",
    "It is just opposite of First_Child. Both for contour-4 and contour-5, parent contour is contour-3a. For contour-3a, it is contour-3 and so on."
   ]
  },
  {
   "cell_type": "markdown",
   "id": "9ecbfef9",
   "metadata": {},
   "source": [
    "### Contour Retrieval Mode\n",
    "\n",
    "1. RETR_LIST\n",
    "\n",
    "This is the simplest of the four flags (from explanation point of view). It simply retrieves all the contours, but doesn't create any parent-child relationship. Parents and kids are equal under this rule, and they are just contours. ie they all belongs to same hierarchy level.\n",
    "\n",
    "So here, 3rd and 4th term in hierarchy array is always -1. But obviously, Next and Previous terms will have their corresponding values. Just check it yourself and verify it.\n",
    "\n",
    "Below is the result I got, and each row is hierarchy details of corresponding contour. For eg, first row corresponds to contour 0. Next contour is contour 1. So Next = 1. There is no previous contour, so Previous = -1. And the remaining two, as told before, it is -1."
   ]
  },
  {
   "cell_type": "code",
   "execution_count": null,
   "id": "f5aa68a3",
   "metadata": {},
   "outputs": [],
   "source": [
    "hierarchy\n",
    "array([[[ 1, -1, -1, -1],\n",
    "        [ 2,  0, -1, -1],\n",
    "        [ 3,  1, -1, -1],\n",
    "        [ 4,  2, -1, -1],\n",
    "        [ 5,  3, -1, -1],\n",
    "        [ 6,  4, -1, -1],\n",
    "        [ 7,  5, -1, -1],\n",
    "        [-1,  6, -1, -1]]])"
   ]
  },
  {
   "cell_type": "markdown",
   "id": "381bafad",
   "metadata": {},
   "source": [
    "2. RETR_EXTERNAL\n",
    "\n",
    "If you use this flag, it returns only extreme outer flags. All child contours are left behind. We can say, under this law, Only the eldest in every family is taken care of. It doesn't care about other members of the family :).\n",
    "\n",
    "So, in our image, how many extreme outer contours are there? ie at hierarchy-0 level?. Only 3, ie contours 0,1,2, right? Now try to find the contours using this flag. Here also, values given to each element is same as above. Compare it with above result."
   ]
  },
  {
   "cell_type": "code",
   "execution_count": null,
   "id": "7c4123d3",
   "metadata": {},
   "outputs": [],
   "source": [
    "hierarchy\n",
    "array([[[ 1, -1, -1, -1],\n",
    "        [ 2,  0, -1, -1],\n",
    "        [-1,  1, -1, -1]]])"
   ]
  },
  {
   "cell_type": "markdown",
   "id": "67e6c4b0",
   "metadata": {},
   "source": [
    "3. RETR_CCOMP\n",
    "\n",
    "This flag retrieves all the contours and arranges them to a 2-level hierarchy. ie external contours of the object (ie its boundary) are placed in hierarchy-1. And the contours of holes inside object (if any) is placed in hierarchy-2. If any object inside it, its contour is placed again in hierarchy-1 only. And its hole in hierarchy-2 and so on.\n",
    "\n",
    "Just consider the image of a \"big white zero\" on a black background. Outer circle of zero belongs to first hierarchy, and inner circle of zero belongs to second hierarchy.\n",
    "\n",
    "We can explain it with a simple image. Here I have labelled the order of contours in red color and the hierarchy they belongs to, in green color (either 1 or 2). The order is same as the order OpenCV detects contours."
   ]
  },
  {
   "cell_type": "markdown",
   "id": "d80a0520",
   "metadata": {},
   "source": [
    "![ccomp](ccomp_hierarchy.png)"
   ]
  },
  {
   "cell_type": "markdown",
   "id": "881a7944",
   "metadata": {},
   "source": [
    "So consider first contour, ie contour-0. It is hierarchy-1. It has two holes, contours 1&2, and they belong to hierarchy-2. So for contour-0, Next contour in same hierarchy level is contour-3. And there is no previous one. And its first is child is contour-1 in hierarchy-2. It has no parent, because it is in hierarchy-1. So its hierarchy array is [3,-1,1,-1]\n",
    "\n",
    "Now take contour-1. It is in hierarchy-2. Next one in same hierarchy (under the parenthood of contour-1) is contour-2. No previous one. No child, but parent is contour-0. So array is [2,-1,-1,0].\n",
    "\n",
    "Similarly contour-2 : It is in hierarchy-2. There is not next contour in same hierarchy under contour-0. So no Next. Previous is contour-1. No child, parent is contour-0. So array is [-1,1,-1,0].\n",
    "\n",
    "Contour - 3 : Next in hierarchy-1 is contour-5. Previous is contour-0. Child is contour-4 and no parent. So array is [5,0,4,-1].\n",
    "\n",
    "Contour - 4 : It is in hierarchy 2 under contour-3 and it has no sibling. So no next, no previous, no child, parent is contour-3. So array is [-1,-1,-1,3]."
   ]
  },
  {
   "cell_type": "code",
   "execution_count": null,
   "id": "5c2f16c7",
   "metadata": {},
   "outputs": [],
   "source": [
    "hierarchy\n",
    "array([[[ 3, -1,  1, -1],\n",
    "        [ 2, -1, -1,  0],\n",
    "        [-1,  1, -1,  0],\n",
    "        [ 5,  0,  4, -1],\n",
    "        [-1, -1, -1,  3],\n",
    "        [ 7,  3,  6, -1],\n",
    "        [-1, -1, -1,  5],\n",
    "        [ 8,  5, -1, -1],\n",
    "        [-1,  7, -1, -1]]])"
   ]
  },
  {
   "cell_type": "markdown",
   "id": "7109ae6a",
   "metadata": {},
   "source": [
    "4. RETR_TREE\n",
    "\n",
    "And this is the final guy, Mr.Perfect. It retrieves all the contours and creates a full family hierarchy list. It even tells, who is the grandpa, father, son, grandson and even beyond... :).\n",
    "\n",
    "For example, I took above image, rewrite the code for cv.RETR_TREE, reorder the contours as per the result given by OpenCV and analyze it. Again, red letters give the contour number and green letters give the hierarchy order."
   ]
  },
  {
   "cell_type": "markdown",
   "id": "a70ea1c4",
   "metadata": {},
   "source": [
    "![tree](tree_hierarchy.png)"
   ]
  },
  {
   "cell_type": "markdown",
   "id": "58135999",
   "metadata": {},
   "source": [
    "Take contour-0 : It is in hierarchy-0. Next contour in same hierarchy is contour-7. No previous contours. Child is contour-1. And no parent. So array is [7,-1,1,-1].\n",
    "\n",
    "Take contour-2 : It is in hierarchy-2. No contour in same level. No previous one. Child is contour-3. Parent is contour-1. So array is [-1,-1,3,1]."
   ]
  },
  {
   "cell_type": "code",
   "execution_count": null,
   "id": "ddc6f26a",
   "metadata": {},
   "outputs": [],
   "source": [
    "hierarchy\n",
    "array([[[ 7, -1,  1, -1],\n",
    "        [-1, -1,  2,  0],\n",
    "        [-1, -1,  3,  1],\n",
    "        [-1, -1,  4,  2],\n",
    "        [-1, -1,  5,  3],\n",
    "        [ 6, -1, -1,  4],\n",
    "        [-1,  5, -1,  4],\n",
    "        [ 8,  0, -1, -1],\n",
    "        [-1,  7, -1, -1]]])"
   ]
  },
  {
   "cell_type": "markdown",
   "id": "c4573326",
   "metadata": {},
   "source": [
    "# Histograms in OpenCV\n",
    "\n",
    "Find histograms, using both OpenCV and Numpy functions\n",
    "\n",
    "Plot histograms, using OpenCV and Matplotlib functions\n",
    "\n",
    "You will see these functions : cv.calcHist(), np.histogram() etc."
   ]
  },
  {
   "cell_type": "markdown",
   "id": "9187f390",
   "metadata": {},
   "source": [
    "You can consider histogram as a graph or plot, which gives you an overall idea about the intensity distribution of an image. It is a plot with pixel values (ranging from 0 to 255, not always) in X-axis and corresponding number of pixels in the image on Y-axis.\n",
    "\n",
    "It is just another way of understanding the image. By looking at the histogram of an image, you get intuition about contrast, brightness, intensity distribution etc of that image. Almost all image processing tools today, provides features on histogram."
   ]
  },
  {
   "cell_type": "markdown",
   "id": "c3eae0db",
   "metadata": {},
   "source": [
    "![histogram](histogram_sample.jpg)"
   ]
  },
  {
   "cell_type": "markdown",
   "id": "91dd6714",
   "metadata": {},
   "source": [
    "You can see the image and its histogram. (Remember, this histogram is drawn for grayscale image, not color image). Left region of histogram shows the amount of darker pixels in image and right region shows the amount of brighter pixels. From the histogram, you can see dark region is more than brighter region, and amount of midtones (pixel values in mid-range, say around 127) are very less.\n",
    "\n"
   ]
  },
  {
   "cell_type": "markdown",
   "id": "89d4bbdf",
   "metadata": {},
   "source": [
    "## Find Histogram\n",
    "Now we have an idea on what is histogram, we can look into how to find this. Both OpenCV and Numpy come with in-built function for this. Before using those functions, we need to understand some terminologies related with histograms.\n",
    "\n",
    "BINS :The above histogram shows the number of pixels for every pixel value, ie from 0 to 255. ie you need 256 values to show the above histogram. But consider, what if you need not find the number of pixels for all pixel values separately, but number of pixels in a interval of pixel values? say for example, you need to find the number of pixels lying between 0 to 15, then 16 to 31, ..., 240 to 255. You will need only 16 values to represent the histogram. And that is what is shown in example given in OpenCV Tutorials on histograms.\n",
    "\n",
    "So what you do is simply split the whole histogram to 16 sub-parts and value of each sub-part is the sum of all pixel count in it. This each sub-part is called \"BIN\". In first case, number of bins were 256 (one for each pixel) while in second case, it is only 16. BINS is represented by the term histSize in OpenCV docs.\n",
    "\n",
    "DIMS : It is the number of parameters for which we collect the data. In this case, we collect data regarding only one thing, intensity value. So here it is 1.\n",
    "\n",
    "RANGE : It is the range of intensity values you want to measure. Normally, it is [0,256], ie all intensity values.\n",
    "\n"
   ]
  },
  {
   "cell_type": "markdown",
   "id": "9f746f41",
   "metadata": {},
   "source": [
    "## 1. Histogram Calculation in OpenCV\n",
    "So now we use **cv.calcHist()** function to find the histogram. Let's familiarize with the function and its parameters :\n",
    "\n",
    "cv.calcHist(images, channels, mask, histSize, ranges[, hist[, accumulate]])\n",
    "\n",
    "images : it is the source image of type uint8 or float32. it should be given in square brackets, ie, \"[img]\".\n",
    "\n",
    "channels : it is also given in square brackets. It is the index of channel for which we calculate histogram. For example, if input is grayscale image, its value is [0]. For color image, you can pass [0], [1] or [2] to calculate histogram of blue, green or red channel respectively.\n",
    "\n",
    "mask : mask image. To find histogram of full image, it is given as \"None\". But if you want to find histogram of particular region of image, you have to create a mask image for that and give it as mask. (I will show an example later.)\n",
    "\n",
    "histSize : this represents our BIN count. Need to be given in square brackets. For full scale, we pass [256].\n",
    "\n",
    "ranges : this is our RANGE. Normally, it is [0,256].\n",
    "\n",
    "So let's start with a sample image. Simply load an image in grayscale mode and find its full histogram."
   ]
  },
  {
   "cell_type": "code",
   "execution_count": 110,
   "id": "1ba56d7c",
   "metadata": {},
   "outputs": [],
   "source": [
    "img = cv.imread('Landscape-Color.jpg',0)\n",
    "hist = cv.calcHist([img],[0],None,[256],[0,256])"
   ]
  },
  {
   "cell_type": "markdown",
   "id": "f4fa40f8",
   "metadata": {},
   "source": [
    "hist is a 256x1 array, each value corresponds to number of pixels in that image with its corresponding pixel value."
   ]
  },
  {
   "cell_type": "code",
   "execution_count": 113,
   "id": "625d29ef",
   "metadata": {},
   "outputs": [
    {
     "data": {
      "text/plain": [
       "array([[2129.],\n",
       "       [1361.],\n",
       "       [1112.],\n",
       "       [1494.],\n",
       "       [1587.],\n",
       "       [1573.],\n",
       "       [1659.],\n",
       "       [1864.],\n",
       "       [1980.],\n",
       "       [2084.],\n",
       "       [2443.],\n",
       "       [2580.],\n",
       "       [2834.],\n",
       "       [3158.],\n",
       "       [3217.],\n",
       "       [3365.],\n",
       "       [3609.],\n",
       "       [3838.],\n",
       "       [4033.],\n",
       "       [4082.],\n",
       "       [4581.],\n",
       "       [4937.],\n",
       "       [5669.],\n",
       "       [6348.],\n",
       "       [7399.],\n",
       "       [7922.],\n",
       "       [8215.],\n",
       "       [8145.],\n",
       "       [7730.],\n",
       "       [7466.],\n",
       "       [7481.],\n",
       "       [7637.],\n",
       "       [7820.],\n",
       "       [7861.],\n",
       "       [8065.],\n",
       "       [7555.],\n",
       "       [7333.],\n",
       "       [7277.],\n",
       "       [7301.],\n",
       "       [7043.],\n",
       "       [6984.],\n",
       "       [6867.],\n",
       "       [6639.],\n",
       "       [6697.],\n",
       "       [6364.],\n",
       "       [6244.],\n",
       "       [6025.],\n",
       "       [5849.],\n",
       "       [5768.],\n",
       "       [5656.],\n",
       "       [5724.],\n",
       "       [5906.],\n",
       "       [5764.],\n",
       "       [5533.],\n",
       "       [5524.],\n",
       "       [5560.],\n",
       "       [5498.],\n",
       "       [5451.],\n",
       "       [5449.],\n",
       "       [5458.],\n",
       "       [5443.],\n",
       "       [5560.],\n",
       "       [5398.],\n",
       "       [5460.],\n",
       "       [5433.],\n",
       "       [5376.],\n",
       "       [5144.],\n",
       "       [4951.],\n",
       "       [4716.],\n",
       "       [4596.],\n",
       "       [4389.],\n",
       "       [4465.],\n",
       "       [4478.],\n",
       "       [4537.],\n",
       "       [4709.],\n",
       "       [4824.],\n",
       "       [5235.],\n",
       "       [5189.],\n",
       "       [4794.],\n",
       "       [4625.],\n",
       "       [4593.],\n",
       "       [4300.],\n",
       "       [4254.],\n",
       "       [4311.],\n",
       "       [4460.],\n",
       "       [4464.],\n",
       "       [4698.],\n",
       "       [5180.],\n",
       "       [5280.],\n",
       "       [5516.],\n",
       "       [5864.],\n",
       "       [5762.],\n",
       "       [5371.],\n",
       "       [5349.],\n",
       "       [5683.],\n",
       "       [6021.],\n",
       "       [6567.],\n",
       "       [6617.],\n",
       "       [7216.],\n",
       "       [8366.],\n",
       "       [8132.],\n",
       "       [6256.],\n",
       "       [5861.],\n",
       "       [5473.],\n",
       "       [5478.],\n",
       "       [5658.],\n",
       "       [5846.],\n",
       "       [5939.],\n",
       "       [5561.],\n",
       "       [5991.],\n",
       "       [6244.],\n",
       "       [6365.],\n",
       "       [6327.],\n",
       "       [6275.],\n",
       "       [6060.],\n",
       "       [6045.],\n",
       "       [5889.],\n",
       "       [5649.],\n",
       "       [5675.],\n",
       "       [5844.],\n",
       "       [5956.],\n",
       "       [6056.],\n",
       "       [5981.],\n",
       "       [5926.],\n",
       "       [6033.],\n",
       "       [6221.],\n",
       "       [5795.],\n",
       "       [5002.],\n",
       "       [4591.],\n",
       "       [4509.],\n",
       "       [4329.],\n",
       "       [4242.],\n",
       "       [4258.],\n",
       "       [4349.],\n",
       "       [4633.],\n",
       "       [4479.],\n",
       "       [4616.],\n",
       "       [4755.],\n",
       "       [4916.],\n",
       "       [5128.],\n",
       "       [4729.],\n",
       "       [4367.],\n",
       "       [4137.],\n",
       "       [4142.],\n",
       "       [4135.],\n",
       "       [4185.],\n",
       "       [4163.],\n",
       "       [3982.],\n",
       "       [3874.],\n",
       "       [3818.],\n",
       "       [3579.],\n",
       "       [3482.],\n",
       "       [3420.],\n",
       "       [3380.],\n",
       "       [3143.],\n",
       "       [3432.],\n",
       "       [4280.],\n",
       "       [4657.],\n",
       "       [4910.],\n",
       "       [4969.],\n",
       "       [5086.],\n",
       "       [5481.],\n",
       "       [5378.],\n",
       "       [5013.],\n",
       "       [4728.],\n",
       "       [5018.],\n",
       "       [5210.],\n",
       "       [5138.],\n",
       "       [4734.],\n",
       "       [4254.],\n",
       "       [4043.],\n",
       "       [3928.],\n",
       "       [4084.],\n",
       "       [3389.],\n",
       "       [3281.],\n",
       "       [3378.],\n",
       "       [3285.],\n",
       "       [3089.],\n",
       "       [2975.],\n",
       "       [2953.],\n",
       "       [2836.],\n",
       "       [2876.],\n",
       "       [2755.],\n",
       "       [2761.],\n",
       "       [2771.],\n",
       "       [2834.],\n",
       "       [2615.],\n",
       "       [2178.],\n",
       "       [2233.],\n",
       "       [2200.],\n",
       "       [2427.],\n",
       "       [2496.],\n",
       "       [2690.],\n",
       "       [2898.],\n",
       "       [2769.],\n",
       "       [2667.],\n",
       "       [2702.],\n",
       "       [2506.],\n",
       "       [2549.],\n",
       "       [2548.],\n",
       "       [2572.],\n",
       "       [2558.],\n",
       "       [2409.],\n",
       "       [2192.],\n",
       "       [2047.],\n",
       "       [2006.],\n",
       "       [2130.],\n",
       "       [2064.],\n",
       "       [1741.],\n",
       "       [1725.],\n",
       "       [1813.],\n",
       "       [1747.],\n",
       "       [1688.],\n",
       "       [1637.],\n",
       "       [1714.],\n",
       "       [1952.],\n",
       "       [2032.],\n",
       "       [2230.],\n",
       "       [2189.],\n",
       "       [2210.],\n",
       "       [2068.],\n",
       "       [1988.],\n",
       "       [1978.],\n",
       "       [1531.],\n",
       "       [1300.],\n",
       "       [1473.],\n",
       "       [1512.],\n",
       "       [1584.],\n",
       "       [1538.],\n",
       "       [1762.],\n",
       "       [1581.],\n",
       "       [1495.],\n",
       "       [1725.],\n",
       "       [1936.],\n",
       "       [1640.],\n",
       "       [1357.],\n",
       "       [1418.],\n",
       "       [1425.],\n",
       "       [1225.],\n",
       "       [1342.],\n",
       "       [1443.],\n",
       "       [1254.],\n",
       "       [1567.],\n",
       "       [1775.],\n",
       "       [1635.],\n",
       "       [1646.],\n",
       "       [1607.],\n",
       "       [1873.],\n",
       "       [1673.],\n",
       "       [1570.],\n",
       "       [1472.],\n",
       "       [1476.],\n",
       "       [1774.],\n",
       "       [1931.],\n",
       "       [2476.],\n",
       "       [3534.]], dtype=float32)"
      ]
     },
     "execution_count": 113,
     "metadata": {},
     "output_type": "execute_result"
    }
   ],
   "source": [
    "hist"
   ]
  },
  {
   "cell_type": "markdown",
   "id": "0b75d4d3",
   "metadata": {},
   "source": [
    "## 2. Histogram Calculation in Numpy\n",
    "Numpy also provides you a function, np.histogram(). So instead of calcHist() function, you can try below line :\n",
    "\n",
    "\n"
   ]
  },
  {
   "cell_type": "code",
   "execution_count": 114,
   "id": "a19473a3",
   "metadata": {},
   "outputs": [],
   "source": [
    "hist,bins = np.histogram(img.ravel(),256,[0,256])"
   ]
  },
  {
   "cell_type": "markdown",
   "id": "604b8b59",
   "metadata": {},
   "source": [
    "hist is same as we calculated before. But bins will have 257 elements, because Numpy calculates bins as 0-0.99, 1-1.99, 2-2.99 etc. So final range would be 255-255.99. To represent that, they also add 256 at end of bins. But we don't need that 256. Upto 255 is sufficient."
   ]
  },
  {
   "cell_type": "code",
   "execution_count": 115,
   "id": "8ed44b7f",
   "metadata": {},
   "outputs": [
    {
     "data": {
      "text/plain": [
       "array([2129, 1361, 1112, 1494, 1587, 1573, 1659, 1864, 1980, 2084, 2443,\n",
       "       2580, 2834, 3158, 3217, 3365, 3609, 3838, 4033, 4082, 4581, 4937,\n",
       "       5669, 6348, 7399, 7922, 8215, 8145, 7730, 7466, 7481, 7637, 7820,\n",
       "       7861, 8065, 7555, 7333, 7277, 7301, 7043, 6984, 6867, 6639, 6697,\n",
       "       6364, 6244, 6025, 5849, 5768, 5656, 5724, 5906, 5764, 5533, 5524,\n",
       "       5560, 5498, 5451, 5449, 5458, 5443, 5560, 5398, 5460, 5433, 5376,\n",
       "       5144, 4951, 4716, 4596, 4389, 4465, 4478, 4537, 4709, 4824, 5235,\n",
       "       5189, 4794, 4625, 4593, 4300, 4254, 4311, 4460, 4464, 4698, 5180,\n",
       "       5280, 5516, 5864, 5762, 5371, 5349, 5683, 6021, 6567, 6617, 7216,\n",
       "       8366, 8132, 6256, 5861, 5473, 5478, 5658, 5846, 5939, 5561, 5991,\n",
       "       6244, 6365, 6327, 6275, 6060, 6045, 5889, 5649, 5675, 5844, 5956,\n",
       "       6056, 5981, 5926, 6033, 6221, 5795, 5002, 4591, 4509, 4329, 4242,\n",
       "       4258, 4349, 4633, 4479, 4616, 4755, 4916, 5128, 4729, 4367, 4137,\n",
       "       4142, 4135, 4185, 4163, 3982, 3874, 3818, 3579, 3482, 3420, 3380,\n",
       "       3143, 3432, 4280, 4657, 4910, 4969, 5086, 5481, 5378, 5013, 4728,\n",
       "       5018, 5210, 5138, 4734, 4254, 4043, 3928, 4084, 3389, 3281, 3378,\n",
       "       3285, 3089, 2975, 2953, 2836, 2876, 2755, 2761, 2771, 2834, 2615,\n",
       "       2178, 2233, 2200, 2427, 2496, 2690, 2898, 2769, 2667, 2702, 2506,\n",
       "       2549, 2548, 2572, 2558, 2409, 2192, 2047, 2006, 2130, 2064, 1741,\n",
       "       1725, 1813, 1747, 1688, 1637, 1714, 1952, 2032, 2230, 2189, 2210,\n",
       "       2068, 1988, 1978, 1531, 1300, 1473, 1512, 1584, 1538, 1762, 1581,\n",
       "       1495, 1725, 1936, 1640, 1357, 1418, 1425, 1225, 1342, 1443, 1254,\n",
       "       1567, 1775, 1635, 1646, 1607, 1873, 1673, 1570, 1472, 1476, 1774,\n",
       "       1931, 2476, 3534])"
      ]
     },
     "execution_count": 115,
     "metadata": {},
     "output_type": "execute_result"
    }
   ],
   "source": [
    "hist"
   ]
  },
  {
   "cell_type": "markdown",
   "id": "4177121d",
   "metadata": {},
   "source": [
    "## Plotting Histograms\n",
    "There are two ways for this,\n",
    "\n",
    "Short Way : use Matplotlib plotting functions\n",
    "Long Way : use OpenCV drawing functions\n",
    "\n",
    "1. Using Matplotlib\n",
    "\n",
    "Matplotlib comes with a histogram plotting function : matplotlib.pyplot.hist()\n",
    "\n",
    "It directly finds the histogram and plot it. You need not use calcHist() or np.histogram() function to find the histogram. See the code below:\n",
    "\n"
   ]
  },
  {
   "cell_type": "code",
   "execution_count": 116,
   "id": "9145522b",
   "metadata": {},
   "outputs": [
    {
     "data": {
      "image/png": "[encoded data removed]",
      "text/plain": [
       "<Figure size 432x288 with 1 Axes>"
      ]
     },
     "metadata": {
      "needs_background": "light"
     },
     "output_type": "display_data"
    }
   ],
   "source": [
    "import numpy as np\n",
    "import cv2 as cv\n",
    "from matplotlib import pyplot as plt\n",
    "img = cv.imread('Landscape-Color.jpg',0)\n",
    "plt.hist(img.ravel(),256,[0,256]); plt.show()"
   ]
  },
  {
   "cell_type": "markdown",
   "id": "b1a6ee21",
   "metadata": {},
   "source": [
    "Or you can use normal plot of matplotlib, which would be good for BGR plot. For that, you need to find the histogram data first. Try below code:\n",
    "\n"
   ]
  },
  {
   "cell_type": "code",
   "execution_count": 117,
   "id": "1cd9b666",
   "metadata": {},
   "outputs": [
    {
     "data": {
      "image/png": "[encoded data removed]",
      "text/plain": [
       "<Figure size 432x288 with 1 Axes>"
      ]
     },
     "metadata": {
      "needs_background": "light"
     },
     "output_type": "display_data"
    }
   ],
   "source": [
    "import numpy as np\n",
    "import cv2 as cv\n",
    "from matplotlib import pyplot as plt\n",
    "img = cv.imread('Landscape-Color.jpg')\n",
    "color = ('b','g','r')\n",
    "for i,col in enumerate(color):\n",
    "    histr = cv.calcHist([img],[i],None,[256],[0,256])\n",
    "    plt.plot(histr,color = col)\n",
    "    plt.xlim([0,256])\n",
    "plt.show()"
   ]
  },
  {
   "cell_type": "markdown",
   "id": "1c43d9ba",
   "metadata": {},
   "source": [
    "You can deduct from the above graph that, blue has some high value areas in the image (obviously it should be due to the sky)"
   ]
  },
  {
   "cell_type": "markdown",
   "id": "367c776a",
   "metadata": {},
   "source": [
    "## 2. Using OpenCV\n",
    "Well, here you adjust the values of histograms along with its bin values to look like x,y coordinates so that you can draw it using cv.line() or cv.polyline() function to generate same image as above. This is already available with OpenCV-Python2 official samples. Check the code at samples/python/hist.py.\n",
    "\n",
    "## Application of Mask\n",
    "We used cv.calcHist() to find the histogram of the full image. What if you want to find histograms of some regions of an image? Just create a mask image with white color on the region you want to find histogram and black otherwise. Then pass this as the mask.\n",
    "\n"
   ]
  },
  {
   "cell_type": "code",
   "execution_count": 119,
   "id": "bcd8fb4b",
   "metadata": {},
   "outputs": [
    {
     "data": {
      "image/png": "[encoded data removed]",
      "text/plain": [
       "<Figure size 432x288 with 4 Axes>"
      ]
     },
     "metadata": {
      "needs_background": "light"
     },
     "output_type": "display_data"
    }
   ],
   "source": [
    "img = cv.imread('Landscape-Color.jpg',0)\n",
    "# create a mask\n",
    "mask = np.zeros(img.shape[:2], np.uint8)\n",
    "mask[100:500, 100:1200] = 255\n",
    "masked_img = cv.bitwise_and(img,img,mask = mask)\n",
    "# Calculate histogram with mask and without mask\n",
    "# Check third argument for mask\n",
    "hist_full = cv.calcHist([img],[0],None,[256],[0,256])\n",
    "hist_mask = cv.calcHist([img],[0],mask,[256],[0,256])\n",
    "plt.subplot(221), plt.imshow(img, 'gray')\n",
    "plt.subplot(222), plt.imshow(mask,'gray')\n",
    "plt.subplot(223), plt.imshow(masked_img, 'gray')\n",
    "plt.subplot(224), plt.plot(hist_full), plt.plot(hist_mask)\n",
    "plt.xlim([0,256])\n",
    "plt.show()"
   ]
  },
  {
   "cell_type": "markdown",
   "id": "1f812540",
   "metadata": {},
   "source": [
    "See the result. In the histogram plot, blue line shows histogram of full image while green line shows histogram of masked region."
   ]
  },
  {
   "cell_type": "markdown",
   "id": "58b4a17a",
   "metadata": {},
   "source": [
    "## Histogram Equalization\n",
    "We will learn the concepts of histogram equalization and use it to improve the contrast of our images.\n",
    "\n",
    "Consider an image whose pixel values are confined to some specific range of values only. For eg, brighter image will have all pixels confined to high values. But a good image will have pixels from all regions of the image. So you need to stretch this histogram to either ends (as given in below image, from wikipedia) and that is what Histogram Equalization does (in simple words). This normally improves the contrast of the image.\n",
    "\n"
   ]
  },
  {
   "cell_type": "markdown",
   "id": "43bdaae1",
   "metadata": {},
   "source": [
    "![hist_eq](histogram_equalization.png)"
   ]
  },
  {
   "cell_type": "code",
   "execution_count": 124,
   "id": "26e033a2",
   "metadata": {},
   "outputs": [
    {
     "data": {
      "image/png": "[encoded data removed]",
      "text/plain": [
       "<Figure size 432x288 with 1 Axes>"
      ]
     },
     "metadata": {
      "needs_background": "light"
     },
     "output_type": "display_data"
    }
   ],
   "source": [
    "import numpy as np\n",
    "import cv2 as cv\n",
    "from matplotlib import pyplot as plt\n",
    "img = cv.imread('Landscape-Color.jpg',0)\n",
    "hist,bins = np.histogram(img.flatten(),256,[0,256])\n",
    "cdf = hist.cumsum()\n",
    "cdf_normalized = cdf * float(hist.max()) / cdf.max()\n",
    "plt.plot(cdf_normalized, color = 'b')\n",
    "plt.hist(img.flatten(),256,[0,256], color = 'r')\n",
    "plt.xlim([0,256])\n",
    "plt.legend(('cdf','histogram'), loc = 'upper left')\n",
    "plt.show()"
   ]
  },
  {
   "cell_type": "markdown",
   "id": "afedd4fd",
   "metadata": {},
   "source": [
    "![hist](histeq_numpy1.jpg)"
   ]
  },
  {
   "cell_type": "markdown",
   "id": "a9c5a2f8",
   "metadata": {},
   "source": [
    "You can see histogram lies in brighter region. We need the full spectrum. For that, we need a transformation function which maps the input pixels in brighter region to output pixels in full region. That is what histogram equalization does.\n",
    "\n"
   ]
  },
  {
   "cell_type": "markdown",
   "id": "1753b498",
   "metadata": {},
   "source": [
    "Now we find the minimum histogram value (excluding 0) and apply the histogram equalization equation as given in wiki page. But I have used here, the masked array concept array from Numpy. For masked array, all operations are performed on non-masked elements. You can read more about it from Numpy docs on masked arrays."
   ]
  },
  {
   "cell_type": "code",
   "execution_count": 121,
   "id": "83ca9146",
   "metadata": {},
   "outputs": [],
   "source": [
    "cdf_m = np.ma.masked_equal(cdf,0)\n",
    "cdf_m = (cdf_m - cdf_m.min())*255/(cdf_m.max()-cdf_m.min())\n",
    "cdf = np.ma.filled(cdf_m,0).astype('uint8')"
   ]
  },
  {
   "cell_type": "markdown",
   "id": "c142646f",
   "metadata": {},
   "source": [
    "Now we have the look-up table that gives us the information on what is the output pixel value for every input pixel value. So we just apply the transform."
   ]
  },
  {
   "cell_type": "code",
   "execution_count": 122,
   "id": "a68c29f2",
   "metadata": {},
   "outputs": [],
   "source": [
    "img2 = cdf[img]"
   ]
  },
  {
   "cell_type": "markdown",
   "id": "3cc63a88",
   "metadata": {},
   "source": [
    "Now we calculate its histogram and cdf as before ( you do it) and result looks like below :"
   ]
  },
  {
   "cell_type": "markdown",
   "id": "de3bbbcc",
   "metadata": {},
   "source": [
    "![hist](histeq_numpy2.jpg)"
   ]
  },
  {
   "cell_type": "markdown",
   "id": "f60a1f49",
   "metadata": {},
   "source": [
    "Another important feature is that, even if the image was a darker image (instead of a brighter one we used), after equalization we will get almost the same image as we got. As a result, this is used as a \"reference tool\" to make all images with same lighting conditions. This is useful in many cases. For example, in face recognition, before training the face data, the images of faces are histogram equalized to make them all with same lighting conditions."
   ]
  },
  {
   "cell_type": "markdown",
   "id": "676dd626",
   "metadata": {},
   "source": [
    "## Histograms Equalization in OpenCV\n",
    "OpenCV has a function to do this, cv.equalizeHist(). Its input is just grayscale image and output is our histogram equalized image.\n",
    "\n",
    "Below is a simple code snippet showing its usage for same image we used :\n",
    "\n"
   ]
  },
  {
   "cell_type": "code",
   "execution_count": null,
   "id": "79da201f",
   "metadata": {},
   "outputs": [],
   "source": [
    "img = cv.imread('wiki.jpg',0)\n",
    "equ = cv.equalizeHist(img)\n",
    "res = np.hstack((img,equ)) #stacking images side-by-side\n",
    "cv.imwrite('res.png',res)"
   ]
  },
  {
   "cell_type": "markdown",
   "id": "2972bbde",
   "metadata": {},
   "source": [
    "![equal](equalization_opencv.jpg)"
   ]
  },
  {
   "cell_type": "markdown",
   "id": "5bc892f6",
   "metadata": {},
   "source": [
    "So now you can take different images with different light conditions, equalize it and check the results.\n",
    "\n",
    "Histogram equalization is good when histogram of the image is confined to a particular region. It won't work good in places where there is large intensity variations where histogram covers a large region, ie both bright and dark pixels are present."
   ]
  },
  {
   "cell_type": "markdown",
   "id": "ecdb6a47",
   "metadata": {},
   "source": [
    "## CLAHE (Contrast Limited Adaptive Histogram Equalization)\n",
    "The first histogram equalization we just saw, considers the global contrast of the image. In many cases, it is not a good idea. For example, below image shows an input image and its result after global histogram equalization.\n",
    "\n"
   ]
  },
  {
   "cell_type": "markdown",
   "id": "7c943be4",
   "metadata": {},
   "source": [
    "![clahe1](clahe_1.jpg)"
   ]
  },
  {
   "cell_type": "markdown",
   "id": "733a0697",
   "metadata": {},
   "source": [
    "It is true that the background contrast has improved after histogram equalization. But compare the face of statue in both images. We lost most of the information there due to over-brightness. It is because its histogram is not confined to a particular region as we saw in previous cases.\n",
    "\n",
    "So to solve this problem, adaptive histogram equalization is used. In this, image is divided into small blocks called \"tiles\" (tileSize is 8x8 by default in OpenCV). Then each of these blocks are histogram equalized as usual. So in a small area, histogram would confine to a small region (unless there is noise). If noise is there, it will be amplified. To avoid this, contrast limiting is applied. If any histogram bin is above the specified contrast limit (by default 40 in OpenCV), those pixels are clipped and distributed uniformly to other bins before applying histogram equalization. After equalization, to remove artifacts in tile borders, bilinear interpolation is applied.\n",
    "\n",
    "Below code snippet shows how to apply CLAHE in OpenCV:\n",
    "\n"
   ]
  },
  {
   "cell_type": "code",
   "execution_count": null,
   "id": "b6106074",
   "metadata": {},
   "outputs": [],
   "source": [
    "import numpy as np\n",
    "import cv2 as cv\n",
    "img = cv.imread('tsukuba_l.png',0)\n",
    "# create a CLAHE object (Arguments are optional).\n",
    "clahe = cv.createCLAHE(clipLimit=2.0, tileGridSize=(8,8))\n",
    "cl1 = clahe.apply(img)\n",
    "cv.imwrite('clahe_2.jpg',cl1)"
   ]
  },
  {
   "cell_type": "markdown",
   "id": "13cb53ab",
   "metadata": {},
   "source": [
    "![clahe2](clahe_2.jpg)"
   ]
  },
  {
   "cell_type": "markdown",
   "id": "e784f5dc",
   "metadata": {},
   "source": [
    "## 2D Histograms\n",
    "In the first article, we calculated and plotted one-dimensional histogram. It is called one-dimensional because we are taking only one feature into our consideration, ie grayscale intensity value of the pixel. But in two-dimensional histograms, you consider two features. Normally it is used for finding color histograms where two features are Hue & Saturation values of every pixel.\n",
    "\n",
    "There is a python sample (samples/python/color_histogram.py) already for finding color histograms. We will try to understand how to create such a color histogram"
   ]
  },
  {
   "cell_type": "markdown",
   "id": "f6d08ddc",
   "metadata": {},
   "source": [
    "## 2D Histogram in OpenCV\n",
    "It is quite simple and calculated using the same function, cv.calcHist(). For color histograms, we need to convert the image from BGR to HSV. (Remember, for 1D histogram, we converted from BGR to Grayscale). For 2D histograms, its parameters will be modified as follows:\n",
    "\n",
    "channels = [0,1] because we need to process both H and S plane.\n",
    "bins = [180,256] 180 for H plane and 256 for S plane.\n",
    "range = [0,180,0,256] Hue value lies between 0 and 180 & Saturation lies between 0 and 256.\n",
    "Now check the code below:"
   ]
  },
  {
   "cell_type": "code",
   "execution_count": 131,
   "id": "dd8fc89c",
   "metadata": {},
   "outputs": [],
   "source": [
    "import numpy as np\n",
    "import cv2 as cv\n",
    "img = cv.imread('Landscape-Color.jpg')\n",
    "hsv = cv.cvtColor(img,cv.COLOR_BGR2HSV)\n",
    "hist = cv.calcHist([hsv], [0, 1], None, [180, 256], [0, 180, 0, 256])"
   ]
  },
  {
   "cell_type": "code",
   "execution_count": 132,
   "id": "82883b66",
   "metadata": {},
   "outputs": [
    {
     "data": {
      "text/plain": [
       "array([[ 3628.,     0.,     0., ...,  1392.,  1147., 16842.],\n",
       "       [    0.,     0.,     0., ...,   276.,   216.,  3212.],\n",
       "       [    0.,     0.,     0., ...,   218.,   160.,  1595.],\n",
       "       ...,\n",
       "       [    0.,     0.,     0., ...,  4115.,  1244., 15736.],\n",
       "       [    0.,     0.,     0., ...,  3836.,  1133., 14910.],\n",
       "       [    0.,     0.,     0., ...,  2343.,   926., 12434.]],\n",
       "      dtype=float32)"
      ]
     },
     "execution_count": 132,
     "metadata": {},
     "output_type": "execute_result"
    }
   ],
   "source": [
    "hist"
   ]
  },
  {
   "cell_type": "markdown",
   "id": "4b1fcd63",
   "metadata": {},
   "source": [
    "## 2D Histogram in Numpy\n",
    "Numpy also provides a specific function for this : np.histogram2d(). (Remember, for 1D histogram we used np.histogram() ).\n",
    "\n"
   ]
  },
  {
   "cell_type": "code",
   "execution_count": 145,
   "id": "a6131fa9",
   "metadata": {},
   "outputs": [],
   "source": [
    "import numpy as np\n",
    "import cv2 as cv\n",
    "from matplotlib import pyplot as plt\n",
    "img = cv.imread('Landscape-Color.jpg')\n",
    "hsv = cv.cvtColor(img,cv.COLOR_BGR2HSV)\n",
    "hist, xbins, ybins = np.histogram2d(hsv[:,:,0].ravel(),hsv[:,:,1].ravel(),[180,256],[[0,180],[0,256]])\n"
   ]
  },
  {
   "cell_type": "markdown",
   "id": "9e78fe73",
   "metadata": {},
   "source": [
    "First argument is H plane, second one is the S plane, third is number of bins for each and fourth is their range.\n",
    "\n",
    "Now we can check how to plot this color histogram."
   ]
  },
  {
   "cell_type": "markdown",
   "id": "c5ec3918",
   "metadata": {},
   "source": [
    "## Plotting 2D Histograms\n",
    "Method - 1 : Using cv.imshow()\n",
    "\n",
    "The result we get is a two dimensional array of size 180x256. So we can show them as we do normally, using cv.imshow() function. It will be a grayscale image and it won't give much idea what colors are there, unless you know the Hue values of different colors.\n",
    "\n",
    "Method - 2 : Using Matplotlib\n",
    "\n",
    "We can use matplotlib.pyplot.imshow() function to plot 2D histogram with different color maps. It gives us a much better idea about the different pixel density. But this also, doesn't gives us idea what color is there on a first look, unless you know the Hue values of different colors. Still I prefer this method. It is simple and better.\n",
    "\n"
   ]
  },
  {
   "cell_type": "code",
   "execution_count": 149,
   "id": "27f4be53",
   "metadata": {},
   "outputs": [],
   "source": [
    "import numpy as np\n",
    "import cv2 as cv\n",
    "from matplotlib import pyplot as plt\n",
    "img = cv.imread('Landscape-Color.jpg')\n",
    "hsv = cv.cvtColor(img,cv.COLOR_BGR2HSV)\n",
    "hist = cv.calcHist( [hsv], [0, 1], None, [180, 256], [0, 180, 0, 256] )\n",
    "plt.imshow(hist,interpolation = 'nearest')\n",
    "plt.show()"
   ]
  },
  {
   "cell_type": "markdown",
   "id": "9dfb4bcc",
   "metadata": {},
   "source": [
    "![2dhist](2dhist_matplotlib.jpg)"
   ]
  },
  {
   "cell_type": "markdown",
   "id": "907da68f",
   "metadata": {},
   "source": [
    "In histogram, you can see some high values near H = 100 and S = 200. It corresponds to blue of sky. Similarly another peak can be seen near H = 25 and S = 100. It corresponds to yellow of the palace. You can verify it with any image editing tools like GIMP."
   ]
  },
  {
   "cell_type": "markdown",
   "id": "3416dbb0",
   "metadata": {},
   "source": [
    "## Template Matching\n",
    "To find objects in an image using Template Matching\n",
    "You will see these functions : cv.matchTemplate(), cv.minMaxLoc()\n",
    "\n",
    "\n",
    "Template Matching is a method for searching and finding the location of a template image in a larger image. OpenCV comes with a function cv.matchTemplate() for this purpose. It simply slides the template image over the input image (as in 2D convolution) and compares the template and patch of input image under the template image. Several comparison methods are implemented in OpenCV. (You can check docs for more details). It returns a grayscale image, where each pixel denotes how much does the neighbourhood of that pixel match with template.\n",
    "\n",
    "If input image is of size (WxH) and template image is of size (wxh), output image will have a size of (W-w+1, H-h+1). Once you got the result, you can use cv.minMaxLoc() function to find where is the maximum/minimum value. Take it as the top-left corner of rectangle and take (w,h) as width and height of the rectangle. That rectangle is your region of template.\n",
    "\n"
   ]
  },
  {
   "cell_type": "markdown",
   "id": "0adc8d25",
   "metadata": {},
   "source": [
    "## Template Matching in OpenCV\n",
    "Here, as an example, we will search for Messi's face in his photo. So I created a template as below:\n",
    "\n",
    "![messiface](messi_face.jpg)\n",
    "\n",
    "We will try all the comparison methods so that we can see how their results look like:\n",
    "\n"
   ]
  },
  {
   "cell_type": "code",
   "execution_count": null,
   "id": "b119efec",
   "metadata": {},
   "outputs": [],
   "source": [
    "import cv2 as cv\n",
    "import numpy as np\n",
    "from matplotlib import pyplot as plt\n",
    "img = cv.imread('messi5.jpg',0)\n",
    "img2 = img.copy()\n",
    "template = cv.imread('template.jpg',0)\n",
    "w, h = template.shape[::-1]\n",
    "# All the 6 methods for comparison in a list\n",
    "methods = ['cv.TM_CCOEFF', 'cv.TM_CCOEFF_NORMED', 'cv.TM_CCORR',\n",
    "            'cv.TM_CCORR_NORMED', 'cv.TM_SQDIFF', 'cv.TM_SQDIFF_NORMED']\n",
    "for meth in methods:\n",
    "    img = img2.copy()\n",
    "    method = eval(meth)\n",
    "    # Apply template Matching\n",
    "    res = cv.matchTemplate(img,template,method)\n",
    "    min_val, max_val, min_loc, max_loc = cv.minMaxLoc(res)\n",
    "    # If the method is TM_SQDIFF or TM_SQDIFF_NORMED, take minimum\n",
    "    if method in [cv.TM_SQDIFF, cv.TM_SQDIFF_NORMED]:\n",
    "        top_left = min_loc\n",
    "    else:\n",
    "        top_left = max_loc\n",
    "    bottom_right = (top_left[0] + w, top_left[1] + h)\n",
    "    cv.rectangle(img,top_left, bottom_right, 255, 2)\n",
    "    plt.subplot(121),plt.imshow(res,cmap = 'gray')\n",
    "    plt.title('Matching Result'), plt.xticks([]), plt.yticks([])\n",
    "    plt.subplot(122),plt.imshow(img,cmap = 'gray')\n",
    "    plt.title('Detected Point'), plt.xticks([]), plt.yticks([])\n",
    "    plt.suptitle(meth)\n",
    "    plt.show()"
   ]
  },
  {
   "cell_type": "markdown",
   "id": "34bba373",
   "metadata": {},
   "source": [
    "#cv.TM_CCOEFF\n",
    "![temp1](template_ccoeff_1.jpg)"
   ]
  },
  {
   "cell_type": "markdown",
   "id": "3dcb9c8a",
   "metadata": {},
   "source": [
    "#cv.TM_CCOEFF_NORMED\n",
    "\n",
    "![temp2](template_ccoeffn_2.jpg)"
   ]
  },
  {
   "cell_type": "markdown",
   "id": "cf7c3a5c",
   "metadata": {},
   "source": [
    "#cv.TM_CCORR\n",
    "![temp3](template_ccorr_3.jpg)"
   ]
  },
  {
   "cell_type": "markdown",
   "id": "e5eb5651",
   "metadata": {},
   "source": [
    "#cv.TM_CCORR_NORMED\n",
    "![temp4](template_ccorrn_4.jpg)"
   ]
  },
  {
   "cell_type": "markdown",
   "id": "798efcad",
   "metadata": {},
   "source": [
    "#cv.TM_SQDIFF\n",
    "![temp5](template_sqdiff_5.jpg)"
   ]
  },
  {
   "cell_type": "markdown",
   "id": "8253b304",
   "metadata": {},
   "source": [
    "#cv.TM_SQDIFF_NORMED\n",
    "![temp6](template_sqdiffn_6.jpg)"
   ]
  },
  {
   "cell_type": "markdown",
   "id": "ccfcdb05",
   "metadata": {},
   "source": [
    "## Template Matching with Multiple Objects\n",
    "In the previous section, we searched image for Messi's face, which occurs only once in the image. Suppose you are searching for an object which has multiple occurrences, cv.minMaxLoc() won't give you all the locations. In that case, we will use thresholding. So in this example, we will use a screenshot of the famous game Mario and we will find the coins in it."
   ]
  },
  {
   "cell_type": "code",
   "execution_count": null,
   "id": "f8cd1056",
   "metadata": {},
   "outputs": [],
   "source": [
    "import cv2 as cv\n",
    "import numpy as np\n",
    "from matplotlib import pyplot as plt\n",
    "img_rgb = cv.imread('mario.png')\n",
    "img_gray = cv.cvtColor(img_rgb, cv.COLOR_BGR2GRAY)\n",
    "template = cv.imread('mario_coin.png',0)\n",
    "w, h = template.shape[::-1]\n",
    "res = cv.matchTemplate(img_gray,template,cv.TM_CCOEFF_NORMED)\n",
    "threshold = 0.8\n",
    "loc = np.where( res >= threshold)\n",
    "for pt in zip(*loc[::-1]):\n",
    "    cv.rectangle(img_rgb, pt, (pt[0] + w, pt[1] + h), (0,0,255), 2)\n",
    "cv.imwrite('res.png',img_rgb)"
   ]
  },
  {
   "cell_type": "markdown",
   "id": "02a87119",
   "metadata": {},
   "source": [
    "![resmario](res_mario.jpg)"
   ]
  },
  {
   "cell_type": "markdown",
   "id": "1e907f7f",
   "metadata": {},
   "source": [
    "# Hough Line Transform\n",
    "We will understand the concept of the Hough Transform.\n",
    "\n",
    "We will see how to use it to detect lines in an image.\n",
    "\n",
    "We will see the following function: cv.HoughLines()\n",
    "\n",
    "The Hough Transform is a popular technique to detect any shape, if you can represent that shape in a mathematical form. It can detect the shape even if it is broken or distorted a little bit. We will see how it works for a line.\n",
    "\n",
    "A line can be represented as y=mx+c or in a parametric form, as ρ=xcosθ+ysinθ where ρ is the perpendicular distance from the origin to the line, and θ is the angle formed by this perpendicular line and the horizontal axis measured in counter-clockwise (That direction varies on how you represent the coordinate system. This representation is used in OpenCV). Check the image below:\n",
    "\n"
   ]
  },
  {
   "cell_type": "markdown",
   "id": "713ec0ee",
   "metadata": {},
   "source": [
    "![hough](hough.png)"
   ]
  },
  {
   "cell_type": "markdown",
   "id": "28bb2314",
   "metadata": {},
   "source": [
    "So if the line is passing below the origin, it will have a positive rho and an angle less than 180. If it is going above the origin, instead of taking an angle greater than 180, the angle is taken less than 180, and rho is taken negative. Any vertical line will have 0 degree and horizontal lines will have 90 degree.\n",
    "\n",
    "Now let's see how the Hough Transform works for lines. Any line can be represented in these two terms, (ρ,θ). So first it creates a 2D array or accumulator (to hold the values of the two parameters) and it is set to 0 initially. Let rows denote the ρ and columns denote the θ. Size of array depends on the accuracy you need. Suppose you want the accuracy of angles to be 1 degree, you will need 180 columns. For ρ, the maximum distance possible is the diagonal length of the image. So taking one pixel accuracy, the number of rows can be the diagonal length of the image.\n",
    "\n",
    "Consider a 100x100 image with a horizontal line at the middle. Take the first point of the line. You know its (x,y) values. Now in the line equation, put the values θ=0,1,2,....,180 and check the ρ you get. For every (ρ,θ) pair, you increment value by one in our accumulator in its corresponding (ρ,θ) cells. So now in accumulator, the cell (50,90) = 1 along with some other cells.\n",
    "\n",
    "Now take the second point on the line. Do the same as above. Increment the values in the cells corresponding to (rho, theta) you got. This time, the cell (50,90) = 2. What you actually do is voting the (ρ,θ) values. You continue this process for every point on the line. At each point, the cell (50,90) will be incremented or voted up, while other cells may or may not be voted up. This way, at the end, the cell (50,90) will have maximum votes. So if you search the accumulator for maximum votes, you get the value (50,90) which says, there is a line in this image at a distance 50 from the origin and at angle 90 degrees. It is well shown in the below animation (Image Courtesy: Amos Storkey )"
   ]
  },
  {
   "cell_type": "markdown",
   "id": "bb664a28",
   "metadata": {},
   "source": [
    "![hough](houghlinesdemo.gif)"
   ]
  },
  {
   "cell_type": "markdown",
   "id": "09ad27eb",
   "metadata": {},
   "source": [
    "This is how hough transform works for lines. It is simple, and may be you can implement it using Numpy on your own. Below is an image which shows the accumulator. Bright spots at some locations denote they are the parameters of possible lines in the image. (Image courtesy: Wikipedia )"
   ]
  },
  {
   "cell_type": "markdown",
   "id": "c8106238",
   "metadata": {},
   "source": [
    "![hough](houghlines2.jpg)"
   ]
  },
  {
   "cell_type": "markdown",
   "id": "92d0872f",
   "metadata": {},
   "source": [
    "## Hough Transform in OpenCV\n",
    "Everything explained above is encapsulated in the OpenCV function, cv.HoughLines(). It simply returns an array of :math:(rho, theta)` values. ρ is measured in pixels and θ is measured in radians. First parameter, Input image should be a binary image, so apply threshold or use canny edge detection before applying hough transform. Second and third parameters are ρ and θ accuracies respectively. Fourth argument is the threshold, which means the minimum vote it should get to be considered as a line. Remember, number of votes depends upon the number of points on the line. So it represents the minimum length of line that should be detected."
   ]
  },
  {
   "cell_type": "code",
   "execution_count": null,
   "id": "e3a85a95",
   "metadata": {},
   "outputs": [],
   "source": [
    "import cv2 as cv\n",
    "import numpy as np\n",
    "img = cv.imread(cv.samples.findFile('sudoku.png'))\n",
    "gray = cv.cvtColor(img,cv.COLOR_BGR2GRAY)\n",
    "edges = cv.Canny(gray,threshold1=50,threshold2=150,apertureSize = 3)\n",
    "lines = cv.HoughLines(edges,rho=1,theta=np.pi/180,threshold=200)\n",
    "for line in lines:\n",
    "    rho,theta = line[0]\n",
    "    a = np.cos(theta)\n",
    "    b = np.sin(theta)\n",
    "    x0 = a*rho\n",
    "    y0 = b*rho\n",
    "    x1 = int(x0 + 1000*(-b))\n",
    "    y1 = int(y0 + 1000*(a))\n",
    "    x2 = int(x0 - 1000*(-b))\n",
    "    y2 = int(y0 - 1000*(a))\n",
    "    cv.line(img,(x1,y1),(x2,y2),(0,0,255),2)\n",
    "cv.imwrite('houghlines3.jpg',img)"
   ]
  },
  {
   "cell_type": "markdown",
   "id": "5c338543",
   "metadata": {},
   "source": [
    "![hough](houghlines3.jpg)"
   ]
  },
  {
   "cell_type": "markdown",
   "id": "bc7e8776",
   "metadata": {},
   "source": [
    "# Hough Circle Transform\n",
    "\n",
    "We will learn to use Hough Transform to find circles in an image.\n",
    "\n",
    "We will see these functions: cv.HoughCircles()\n",
    "    \n",
    "A circle is represented mathematically as sq(x−xcenter)+sq(y−ycenter)=r2 where (xcenter,ycenter) is the center of the circle, and r is the radius of the circle. From equation, we can see we have 3 parameters, so we need a 3D accumulator for hough transform, which would be highly ineffective. So OpenCV uses more trickier method, Hough Gradient Method which uses the gradient information of edges.\n",
    "\n",
    "The function we use here is cv.HoughCircles(). It has plenty of arguments which are well explained in the documentation. So we directly go to the code."
   ]
  },
  {
   "cell_type": "code",
   "execution_count": null,
   "id": "6fa8440d",
   "metadata": {},
   "outputs": [],
   "source": [
    "import numpy as np\n",
    "import cv2 as cv\n",
    "img = cv.imread('opencv-logo-white.png',0)\n",
    "img = cv.medianBlur(img,5)\n",
    "cimg = cv.cvtColor(img,cv.COLOR_GRAY2BGR)\n",
    "circles = cv.HoughCircles(img,method=cv.HOUGH_GRADIENT,dp=1,minDist=20,\n",
    "                            param1=50,param2=30,minRadius=0,maxRadius=0)\n",
    "circles = np.uint16(np.around(circles))\n",
    "for i in circles[0,:]:\n",
    "    # draw the outer circle\n",
    "    cv.circle(cimg,(i[0],i[1]),i[2],(0,255,0),2)\n",
    "    # draw the center of the circle\n",
    "    cv.circle(cimg,(i[0],i[1]),2,(0,0,255),3)\n",
    "cv.imshow('detected circles',cimg)\n",
    "cv.waitKey(0)\n",
    "cv.destroyAllWindows()"
   ]
  },
  {
   "cell_type": "markdown",
   "id": "4e5e86e2",
   "metadata": {},
   "source": [
    "![houghcircles](houghcircles2.jpg)"
   ]
  },
  {
   "cell_type": "markdown",
   "id": "e1f3fd7d",
   "metadata": {},
   "source": [
    "# Image Segmentation with Watershed algorithm\n",
    "We will learn to use marker-based image segmentation using watershed algorithm\n",
    "\n",
    "We will see: cv.watershed()\n",
    "\n",
    "Any grayscale image can be viewed as a topographic surface where high intensity denotes peaks and hills while low intensity denotes valleys. You start filling every isolated valleys (local minima) with different colored water (labels). As the water rises, depending on the peaks (gradients) nearby, water from different valleys, obviously with different colors will start to merge. To avoid that, you build barriers in the locations where water merges. You continue the work of filling water and building barriers until all the peaks are under water. Then the barriers you created gives you the segmentation result. This is the \"philosophy\" behind the watershed. You can visit the CMM webpage on watershed to understand it with the help of some animations.\n",
    "\n",
    "But this approach gives you oversegmented result due to noise or any other irregularities in the image. So OpenCV implemented a marker-based watershed algorithm where you specify which are all valley points are to be merged and which are not. It is an interactive image segmentation. What we do is to give different labels for our object we know. Label the region which we are sure of being the foreground or object with one color (or intensity), label the region which we are sure of being background or non-object with another color and finally the region which we are not sure of anything, label it with 0. That is our marker. Then apply watershed algorithm. Then our marker will be updated with the labels we gave, and the boundaries of objects will have a value of -1.\n",
    "\n",
    "## Code\n",
    "Below we will see an example on how to use the Distance Transform along with watershed to segment mutually touching objects.\n",
    "\n",
    "Consider the coins image below, the coins are touching each other. Even if you threshold it, it will be touching each other."
   ]
  },
  {
   "cell_type": "markdown",
   "id": "b327e589",
   "metadata": {},
   "source": [
    "![water](water_coins.jpg)"
   ]
  },
  {
   "cell_type": "markdown",
   "id": "f944ce12",
   "metadata": {},
   "source": [
    "We start with finding an approximate estimate of the coins. For that, we can use the Otsu's binarization."
   ]
  },
  {
   "cell_type": "code",
   "execution_count": null,
   "id": "ee493199",
   "metadata": {},
   "outputs": [],
   "source": [
    "import numpy as np\n",
    "import cv2 as cv\n",
    "from matplotlib import pyplot as plt\n",
    "img = cv.imread('coins.png')\n",
    "gray = cv.cvtColor(img,cv.COLOR_BGR2GRAY)\n",
    "ret, thresh = cv.threshold(gray,0,255,cv.THRESH_BINARY_INV+cv.THRESH_OTSU)"
   ]
  },
  {
   "cell_type": "markdown",
   "id": "419c0daf",
   "metadata": {},
   "source": [
    "![waterthresh](water_thresh.jpg)"
   ]
  },
  {
   "cell_type": "markdown",
   "id": "13571074",
   "metadata": {},
   "source": [
    "Now we need to remove any small white noises in the image. For that we can use morphological opening. To remove any small holes in the object, we can use morphological closing. So, now we know for sure that region near to center of objects are foreground and region much away from the object are background. Only region we are not sure is the boundary region of coins.\n",
    "\n",
    "So we need to extract the area which we are sure they are coins. Erosion removes the boundary pixels. So whatever remaining, we can be sure it is coin. That would work if objects were not touching each other. But since they are touching each other, another good option would be to find the distance transform and apply a proper threshold. Next we need to find the area which we are sure they are not coins. For that, we dilate the result. Dilation increases object boundary to background. This way, we can make sure whatever region in background in result is really a background, since boundary region is removed. See the image below."
   ]
  },
  {
   "cell_type": "markdown",
   "id": "0cd4fc62",
   "metadata": {},
   "source": [
    "![water](water_fgbg.jpg)"
   ]
  },
  {
   "cell_type": "markdown",
   "id": "bede9cdb",
   "metadata": {},
   "source": [
    "The remaining regions are those which we don't have any idea, whether it is coins or background. Watershed algorithm should find it. These areas are normally around the boundaries of coins where foreground and background meet (Or even two different coins meet). We call it border. It can be obtained from subtracting sure_fg area from sure_bg area.\n",
    "\n"
   ]
  },
  {
   "cell_type": "code",
   "execution_count": null,
   "id": "f6ff77a8",
   "metadata": {},
   "outputs": [],
   "source": [
    "# noise removal\n",
    "kernel = np.ones((3,3),np.uint8)\n",
    "opening = cv.morphologyEx(thresh,cv.MORPH_OPEN,kernel, iterations = 2)\n",
    "# sure background area\n",
    "sure_bg = cv.dilate(opening,kernel,iterations=3)\n",
    "# Finding sure foreground area\n",
    "dist_transform = cv.distanceTransform(opening,distanceType=cv.DIST_L2,maskSize=5)\n",
    "ret, sure_fg = cv.threshold(dist_transform,0.7*dist_transform.max(),255,cv.THRESH_BINARY)\n",
    "# Finding unknown region\n",
    "sure_fg = np.uint8(sure_fg)\n",
    "unknown = cv.subtract(sure_bg,sure_fg)\n"
   ]
  },
  {
   "cell_type": "markdown",
   "id": "7c1c34a8",
   "metadata": {},
   "source": [
    "See the result. In the thresholded image, we get some regions of coins which we are sure of coins and they are detached now. (In some cases, you may be interested in only foreground segmentation, not in separating the mutually touching objects. In that case, you need not use distance transform, just erosion is sufficient. Erosion is just another method to extract sure foreground area, that's all.)"
   ]
  },
  {
   "cell_type": "markdown",
   "id": "d0a46389",
   "metadata": {},
   "source": [
    "![water_dt](water_dt.jpg)"
   ]
  },
  {
   "cell_type": "markdown",
   "id": "351e8660",
   "metadata": {},
   "source": [
    "Now we know for sure which are region of coins, which are background and all. So we create marker (it is an array of same size as that of original image, but with int32 datatype) and label the regions inside it. The regions we know for sure (whether foreground or background) are labelled with any positive integers, but different integers, and the area we don't know for sure are just left as zero. For this we use cv.connectedComponents(). It labels background of the image with 0, then other objects are labelled with integers starting from 1.\n",
    "\n",
    "But we know that if background is marked with 0, watershed will consider it as unknown area. So we want to mark it with different integer. Instead, we will mark unknown region, defined by unknown, with 0.\n",
    "\n"
   ]
  },
  {
   "cell_type": "code",
   "execution_count": null,
   "id": "6d2b6007",
   "metadata": {},
   "outputs": [],
   "source": [
    "# Marker labelling\n",
    "ret, markers = cv.connectedComponents(sure_fg)\n",
    "# Add one to all labels so that sure background is not 0, but 1\n",
    "markers = markers+1\n",
    "# Now, mark the region of unknown with zero\n",
    "markers[unknown==255] = 0\n"
   ]
  },
  {
   "cell_type": "markdown",
   "id": "20f2ea5e",
   "metadata": {},
   "source": [
    "See the result shown in colormap. The dark blue region shows unknown region. Sure coins are colored with different values. Remaining area which are sure background are shown in lighter blue compared to unknown region."
   ]
  },
  {
   "cell_type": "markdown",
   "id": "14a0ff9e",
   "metadata": {},
   "source": [
    "![water_marker](water_marker.jpg)"
   ]
  },
  {
   "cell_type": "markdown",
   "id": "2ea148ca",
   "metadata": {},
   "source": [
    "Now our marker is ready. It is time for final step, apply watershed. Then marker image will be modified. The boundary region will be marked with -1.\n",
    "\n"
   ]
  },
  {
   "cell_type": "code",
   "execution_count": null,
   "id": "e120daf1",
   "metadata": {},
   "outputs": [],
   "source": [
    "markers = cv.watershed(img,markers)\n",
    "img[markers == -1] = [255,0,0]"
   ]
  },
  {
   "cell_type": "markdown",
   "id": "74aeae51",
   "metadata": {},
   "source": [
    "See the result below. For some coins, the region where they touch are segmented properly and for some, they are not.\n"
   ]
  },
  {
   "cell_type": "markdown",
   "id": "a53715a0",
   "metadata": {},
   "source": [
    "![water_res](water_result.jpg)"
   ]
  },
  {
   "cell_type": "markdown",
   "id": "3211ba16",
   "metadata": {},
   "source": [
    "# Interactive Foreground Extraction using GrabCut Algorithm"
   ]
  },
  {
   "cell_type": "markdown",
   "id": "33031c08",
   "metadata": {},
   "source": [
    "We will see GrabCut algorithm to extract foreground in images\n",
    "\n",
    "GrabCut algorithm was designed by Carsten Rother, Vladimir & Andrew Blake from Microsoft Research Cambridge, UK. in their paper, \"GrabCut\": interactive foreground extraction using iterated graph cuts . An algorithm was needed for foreground extraction with minimal user interaction, and the result was GrabCut.\n",
    "\n",
    "How it works from user point of view ? Initially user draws a rectangle around the foreground region (foreground region should be completely inside the rectangle). Then algorithm segments it iteratively to get the best result. But in some cases, the segmentation won't be fine, like, it may have marked some foreground region as background and vice versa. In that case, user need to do fine touch-ups. Just give some strokes on the images where some faulty results are there. Strokes basically says *\"Hey, this region should be foreground, you marked it background, correct it in next iteration\"* or its opposite for background. Then in the next iteration, you get better results.\n",
    "\n",
    "See the image below. First player and football is enclosed in a blue rectangle. Then some final touchups with white strokes (denoting foreground) and black strokes (denoting background) is made. And we get a nice result.\n",
    "\n"
   ]
  },
  {
   "cell_type": "markdown",
   "id": "4d482d7e",
   "metadata": {},
   "source": [
    "![grabcut](grabcut_output1.jpg)"
   ]
  },
  {
   "cell_type": "markdown",
   "id": "13681ec6",
   "metadata": {},
   "source": [
    "So what happens in background ?\n",
    "\n",
    "User inputs the rectangle. Everything outside this rectangle will be taken as sure background (That is the reason it is mentioned before that your rectangle should include all the objects). Everything inside rectangle is unknown. Similarly any user input specifying foreground and background are considered as hard-labelling which means they won't change in the process.\n",
    "\n",
    "Computer does an initial labelling depending on the data we gave. It labels the foreground and background pixels (or it hard-labels)\n",
    "\n",
    "Now a Gaussian Mixture Model(GMM) is used to model the foreground and background.\n",
    "\n",
    "Depending on the data we gave, GMM learns and create new pixel distribution. That is, the unknown pixels are labelled either probable foreground or probable background depending on its relation with the other hard-labelled pixels in terms of color statistics (It is just like clustering).\n",
    "\n",
    "A graph is built from this pixel distribution. Nodes in the graphs are pixels. Additional two nodes are added, Source node and Sink node. Every foreground pixel is connected to Source node and every background pixel is connected to Sink node.\n",
    "\n",
    "The weights of edges connecting pixels to source node/end node are defined by the probability of a pixel being foreground/background. The weights between the pixels are defined by the edge information or pixel similarity. If there is a large difference in pixel color, the edge between them will get a low weight.\n",
    "\n",
    "Then a mincut algorithm is used to segment the graph. It cuts the graph into two separating source node and sink node with minimum cost function. The cost function is the sum of all weights of the edges that are cut. After the cut, all the pixels connected to Source node become foreground and those connected to Sink node become background.\n",
    "\n",
    "The process is continued until the classification converges."
   ]
  },
  {
   "cell_type": "markdown",
   "id": "57d3a37f",
   "metadata": {},
   "source": [
    "![grabcut_scheme](grabcut_scheme.jpg)"
   ]
  },
  {
   "cell_type": "markdown",
   "id": "7fb1cdc6",
   "metadata": {},
   "source": [
    "Now we go for grabcut algorithm with OpenCV. OpenCV has the function, cv.grabCut() for this. We will see its arguments first:\n",
    "\n",
    "img - Input image\n",
    "\n",
    "mask - It is a mask image where we specify which areas are background, foreground or probable \n",
    "\n",
    "background/foreground etc. It is done by the following flags, cv.GC_BGD, cv.GC_FGD, cv.GC_PR_BGD, cv.GC_PR_FGD, or simply pass 0,1,2,3 to image.\n",
    "\n",
    "rect - It is the coordinates of a rectangle which includes the foreground object in the format (x,y,w,h)\n",
    "\n",
    "bdgModel, fgdModel - These are arrays used by the algorithm internally. You just create two np.float64 type zero arrays of size (1,65).\n",
    "\n",
    "iterCount - Number of iterations the algorithm should run.\n",
    "\n",
    "mode - It should be cv.GC_INIT_WITH_RECT or cv.GC_INIT_WITH_MASK or combined which decides whether we are drawing rectangle or final touchup strokes.\n",
    "\n",
    "First let's see with rectangular mode. We load the image, create a similar mask image. We create fgdModel and bgdModel. We give the rectangle parameters. It's all straight-forward. Let the algorithm run for 5 iterations. Mode should be cv.GC_INIT_WITH_RECT since we are using rectangle. Then run the grabcut. It modifies the mask image. In the new mask image, pixels will be marked with four flags denoting background/foreground as specified above. So we modify the mask such that all 0-pixels and 2-pixels are put to 0 (ie background) and all 1-pixels and 3-pixels are put to 1(ie foreground pixels). Now our final mask is ready. Just multiply it with input image to get the segmented image."
   ]
  },
  {
   "cell_type": "code",
   "execution_count": null,
   "id": "a3eac669",
   "metadata": {},
   "outputs": [],
   "source": [
    "import numpy as np\n",
    "import cv2 as cv\n",
    "from matplotlib import pyplot as plt\n",
    "img = cv.imread('messi5.jpg')\n",
    "mask = np.zeros(img.shape[:2],np.uint8)\n",
    "bgdModel = np.zeros((1,65),np.float64)\n",
    "fgdModel = np.zeros((1,65),np.float64)\n",
    "rect = (50,50,450,290)\n",
    "cv.grabCut(img,mask,rect,bgdModel,fgdModel,iterCount=5,cv.GC_INIT_WITH_RECT)\n",
    "mask2 = np.where((mask==2)|(mask==0),0,1).astype('uint8')\n",
    "img = img*mask2[:,:,np.newaxis]\n",
    "plt.imshow(img),plt.colorbar(),plt.show()"
   ]
  },
  {
   "cell_type": "markdown",
   "id": "bbc4bf11",
   "metadata": {},
   "source": [
    "![grabcut](grabcut_rect.jpg)"
   ]
  },
  {
   "cell_type": "markdown",
   "id": "c3c9be03",
   "metadata": {},
   "source": [
    "Oops, Messi's hair is gone. Who likes Messi without his hair? We need to bring it back. So we will give there a fine touchup with 1-pixel (sure foreground). At the same time, Some part of ground has come to picture which we don't want, and also some logo. We need to remove them. There we give some 0-pixel touchup (sure background). So we modify our resulting mask in previous case as we told now.\n",
    "\n",
    "What I actually did is that, I opened input image in paint application and added another layer to the image. Using brush tool in the paint, I marked missed foreground (hair, shoes, ball etc) with white and unwanted background (like logo, ground etc) with black on this new layer. Then filled remaining background with gray. Then loaded that mask image in OpenCV, edited original mask image we got with corresponding values in newly added mask image. Check the code below:"
   ]
  },
  {
   "cell_type": "code",
   "execution_count": null,
   "id": "6eb3b285",
   "metadata": {},
   "outputs": [],
   "source": [
    "# newmask is the mask image I manually labelled\n",
    "newmask = cv.imread('newmask.png',0)\n",
    "# wherever it is marked white (sure foreground), change mask=1\n",
    "# wherever it is marked black (sure background), change mask=0\n",
    "mask[newmask == 0] = 0\n",
    "mask[newmask == 255] = 1\n",
    "mask, bgdModel, fgdModel = cv.grabCut(img,mask,rect=None,bgdModel,fgdModel,5,cv.GC_INIT_WITH_MASK)\n",
    "mask = np.where((mask==2)|(mask==0),0,1).astype('uint8')\n",
    "img = img*mask[:,:,np.newaxis]\n",
    "plt.imshow(img),plt.colorbar(),plt.show()"
   ]
  },
  {
   "cell_type": "markdown",
   "id": "9e30c7dc",
   "metadata": {},
   "source": [
    "![grab](grabcut_mask.jpg)"
   ]
  },
  {
   "cell_type": "markdown",
   "id": "dc982047",
   "metadata": {},
   "source": [
    "So that's it. Here instead of initializing in rect mode, you can directly go into mask mode. Just mark the rectangle area in mask image with 2-pixel or 3-pixel (probable background/foreground). Then mark our sure_foreground with 1-pixel as we did in second example. Then directly apply the grabCut function with mask mode."
   ]
  },
  {
   "cell_type": "code",
   "execution_count": null,
   "id": "6e31a949",
   "metadata": {},
   "outputs": [],
   "source": []
  }
 ],
 "metadata": {
  "kernelspec": {
   "display_name": "Python 3",
   "language": "python",
   "name": "python3"
  },
  "language_info": {
   "codemirror_mode": {
    "name": "ipython",
    "version": 3
   },
   "file_extension": ".py",
   "mimetype": "text/x-python",
   "name": "python",
   "nbconvert_exporter": "python",
   "pygments_lexer": "ipython3",
   "version": "3.8.8"
  }
 },
 "nbformat": 4,
 "nbformat_minor": 5
}
